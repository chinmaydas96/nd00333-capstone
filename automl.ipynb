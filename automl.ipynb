{
 "cells": [
  {
   "cell_type": "markdown",
   "metadata": {},
   "source": [
    "# Automated ML\n",
    "\n",
    "TODO: Import Dependencies. In the cell below, import all the dependencies that you will need to complete the project."
   ]
  },
  {
   "cell_type": "code",
   "execution_count": 1,
   "metadata": {
    "gather": {
     "logged": 1598423888013
    },
    "jupyter": {
     "outputs_hidden": false,
     "source_hidden": false
    },
    "nteract": {
     "transient": {
      "deleting": false
     }
    }
   },
   "outputs": [
    {
     "name": "stdout",
     "output_type": "stream",
     "text": [
      "SDK version: 1.26.0\n"
     ]
    }
   ],
   "source": [
    "import logging\n",
    "import os\n",
    "import csv\n",
    "\n",
    "from matplotlib import pyplot as plt\n",
    "import numpy as np\n",
    "import pandas as pd\n",
    "from sklearn import datasets\n",
    "import pkg_resources\n",
    "\n",
    "import azureml.core\n",
    "from azureml.core.experiment import Experiment\n",
    "from azureml.core.workspace import Workspace\n",
    "from azureml.train.automl import AutoMLConfig\n",
    "from azureml.core.dataset import Dataset\n",
    "\n",
    "from azureml.pipeline.steps import AutoMLStep\n",
    "\n",
    "# Check core SDK version number\n",
    "print(\"SDK version:\", azureml.core.VERSION)"
   ]
  },
  {
   "cell_type": "markdown",
   "metadata": {},
   "source": [
    "## Dataset\n",
    "\n",
    "### Overview\n",
    "\n",
    "* This dataset is Heart Failure Prediction dataset taken from kaggle.\n",
    "\n",
    "* Given the different features we need to predict if the patient will have heart failure.\n",
    "\n",
    "* This is classification problem.\n",
    "\n",
    "* [Link](https://www.kaggle.com/andrewmvd/heart-failure-clinical-data) to the dataset.\n",
    "\n",
    "\n",
    "TODO: Get data. In the cell below, write code to access the data you will be using in this project. Remember that the dataset needs to be external."
   ]
  },
  {
   "cell_type": "code",
   "execution_count": 2,
   "metadata": {
    "gather": {
     "logged": 1598423890461
    },
    "jupyter": {
     "outputs_hidden": false,
     "source_hidden": false
    },
    "nteract": {
     "transient": {
      "deleting": false
     }
    }
   },
   "outputs": [
    {
     "data": {
      "text/html": [
       "<table style=\"width:100%\"><tr><th>Name</th><th>Workspace</th><th>Report Page</th><th>Docs Page</th></tr><tr><td>heart-failure-prediction</td><td>mltest</td><td><a href=\"https://ml.azure.com/experiments/id/92625128-63e0-4750-86a3-5157af4afcf1?wsid=/subscriptions/99625554-65d2-4421-aea7-7ddd513d8fe5/resourcegroups/mltest/workspaces/mltest&amp;tid=13b62211-d5ac-471c-a33b-9d952195a20c\" target=\"_blank\" rel=\"noopener\">Link to Azure Machine Learning studio</a></td><td><a href=\"https://docs.microsoft.com/en-us/python/api/azureml-core/azureml.core.experiment.Experiment?view=azure-ml-py\" target=\"_blank\" rel=\"noopener\">Link to Documentation</a></td></tr></table>"
      ],
      "text/plain": [
       "Experiment(Name: heart-failure-prediction,\n",
       "Workspace: mltest)"
      ]
     },
     "execution_count": 2,
     "metadata": {},
     "output_type": "execute_result"
    }
   ],
   "source": [
    "ws = Workspace.from_config()\n",
    "\n",
    "# choose a name for experiment\n",
    "experiment_name = 'heart-failure-prediction'\n",
    "project_folder = './automl-hf-prediction'\n",
    "\n",
    "experiment=Experiment(ws, experiment_name)\n",
    "experiment"
   ]
  },
  {
   "cell_type": "code",
   "execution_count": 3,
   "metadata": {},
   "outputs": [
    {
     "name": "stdout",
     "output_type": "stream",
     "text": [
      "Creating....\n",
      "SucceededProvisioning operation finished, operation \"Succeeded\"\n",
      "Succeeded......................\n",
      "AmlCompute wait for completion finished\n",
      "\n",
      "Minimum number of nodes requested have been provisioned\n"
     ]
    }
   ],
   "source": [
    "from azureml.core.compute import AmlCompute\n",
    "from azureml.core.compute import ComputeTarget\n",
    "from azureml.core.compute_target import ComputeTargetException\n",
    "\n",
    "amlcompute_cluster_name = \"cluster-automl\"\n",
    "\n",
    "try:\n",
    "    compute_target = ComputeTarget(workspace=ws, name=amlcompute_cluster_name)\n",
    "    print('Found existing cluster, use it.')\n",
    "except ComputeTargetException:\n",
    "    compute_config = AmlCompute.provisioning_configuration(vm_size='STANDARD_D2_V2',# for GPU, use \"STANDARD_NC6\"\n",
    "                                                           #vm_priority = 'lowpriority', # optional\n",
    "                                                           max_nodes=4,\n",
    "                                                           min_nodes=1)\n",
    "    compute_target = ComputeTarget.create(ws, amlcompute_cluster_name, compute_config)\n",
    "\n",
    "compute_target.wait_for_completion(show_output=True, min_node_count = 1, timeout_in_minutes = 5) #timeout_in_minutes = 10"
   ]
  },
  {
   "cell_type": "code",
   "execution_count": 4,
   "metadata": {},
   "outputs": [
    {
     "data": {
      "text/html": [
       "<div>\n",
       "<style scoped>\n",
       "    .dataframe tbody tr th:only-of-type {\n",
       "        vertical-align: middle;\n",
       "    }\n",
       "\n",
       "    .dataframe tbody tr th {\n",
       "        vertical-align: top;\n",
       "    }\n",
       "\n",
       "    .dataframe thead th {\n",
       "        text-align: right;\n",
       "    }\n",
       "</style>\n",
       "<table border=\"1\" class=\"dataframe\">\n",
       "  <thead>\n",
       "    <tr style=\"text-align: right;\">\n",
       "      <th></th>\n",
       "      <th>age</th>\n",
       "      <th>sex</th>\n",
       "      <th>cp</th>\n",
       "      <th>trestbps</th>\n",
       "      <th>chol</th>\n",
       "      <th>fbs</th>\n",
       "      <th>restecg</th>\n",
       "      <th>thalach</th>\n",
       "      <th>exang</th>\n",
       "      <th>oldpeak</th>\n",
       "      <th>slope</th>\n",
       "      <th>ca</th>\n",
       "      <th>thal</th>\n",
       "      <th>target</th>\n",
       "    </tr>\n",
       "  </thead>\n",
       "  <tbody>\n",
       "    <tr>\n",
       "      <th>count</th>\n",
       "      <td>303.000000</td>\n",
       "      <td>303.000000</td>\n",
       "      <td>303.000000</td>\n",
       "      <td>303.000000</td>\n",
       "      <td>303.000000</td>\n",
       "      <td>303.000000</td>\n",
       "      <td>303.000000</td>\n",
       "      <td>303.000000</td>\n",
       "      <td>303.000000</td>\n",
       "      <td>303.000000</td>\n",
       "      <td>303.000000</td>\n",
       "      <td>303.000000</td>\n",
       "      <td>303.000000</td>\n",
       "      <td>303.000000</td>\n",
       "    </tr>\n",
       "    <tr>\n",
       "      <th>mean</th>\n",
       "      <td>54.366337</td>\n",
       "      <td>0.683168</td>\n",
       "      <td>0.966997</td>\n",
       "      <td>131.623762</td>\n",
       "      <td>246.264026</td>\n",
       "      <td>0.148515</td>\n",
       "      <td>0.528053</td>\n",
       "      <td>149.646865</td>\n",
       "      <td>0.326733</td>\n",
       "      <td>1.039604</td>\n",
       "      <td>1.399340</td>\n",
       "      <td>0.729373</td>\n",
       "      <td>2.313531</td>\n",
       "      <td>0.544554</td>\n",
       "    </tr>\n",
       "    <tr>\n",
       "      <th>std</th>\n",
       "      <td>9.082101</td>\n",
       "      <td>0.466011</td>\n",
       "      <td>1.032052</td>\n",
       "      <td>17.538143</td>\n",
       "      <td>51.830751</td>\n",
       "      <td>0.356198</td>\n",
       "      <td>0.525860</td>\n",
       "      <td>22.905161</td>\n",
       "      <td>0.469794</td>\n",
       "      <td>1.161075</td>\n",
       "      <td>0.616226</td>\n",
       "      <td>1.022606</td>\n",
       "      <td>0.612277</td>\n",
       "      <td>0.498835</td>\n",
       "    </tr>\n",
       "    <tr>\n",
       "      <th>min</th>\n",
       "      <td>29.000000</td>\n",
       "      <td>0.000000</td>\n",
       "      <td>0.000000</td>\n",
       "      <td>94.000000</td>\n",
       "      <td>126.000000</td>\n",
       "      <td>0.000000</td>\n",
       "      <td>0.000000</td>\n",
       "      <td>71.000000</td>\n",
       "      <td>0.000000</td>\n",
       "      <td>0.000000</td>\n",
       "      <td>0.000000</td>\n",
       "      <td>0.000000</td>\n",
       "      <td>0.000000</td>\n",
       "      <td>0.000000</td>\n",
       "    </tr>\n",
       "    <tr>\n",
       "      <th>25%</th>\n",
       "      <td>47.500000</td>\n",
       "      <td>0.000000</td>\n",
       "      <td>0.000000</td>\n",
       "      <td>120.000000</td>\n",
       "      <td>211.000000</td>\n",
       "      <td>0.000000</td>\n",
       "      <td>0.000000</td>\n",
       "      <td>133.500000</td>\n",
       "      <td>0.000000</td>\n",
       "      <td>0.000000</td>\n",
       "      <td>1.000000</td>\n",
       "      <td>0.000000</td>\n",
       "      <td>2.000000</td>\n",
       "      <td>0.000000</td>\n",
       "    </tr>\n",
       "    <tr>\n",
       "      <th>50%</th>\n",
       "      <td>55.000000</td>\n",
       "      <td>1.000000</td>\n",
       "      <td>1.000000</td>\n",
       "      <td>130.000000</td>\n",
       "      <td>240.000000</td>\n",
       "      <td>0.000000</td>\n",
       "      <td>1.000000</td>\n",
       "      <td>153.000000</td>\n",
       "      <td>0.000000</td>\n",
       "      <td>0.800000</td>\n",
       "      <td>1.000000</td>\n",
       "      <td>0.000000</td>\n",
       "      <td>2.000000</td>\n",
       "      <td>1.000000</td>\n",
       "    </tr>\n",
       "    <tr>\n",
       "      <th>75%</th>\n",
       "      <td>61.000000</td>\n",
       "      <td>1.000000</td>\n",
       "      <td>2.000000</td>\n",
       "      <td>140.000000</td>\n",
       "      <td>274.500000</td>\n",
       "      <td>0.000000</td>\n",
       "      <td>1.000000</td>\n",
       "      <td>166.000000</td>\n",
       "      <td>1.000000</td>\n",
       "      <td>1.600000</td>\n",
       "      <td>2.000000</td>\n",
       "      <td>1.000000</td>\n",
       "      <td>3.000000</td>\n",
       "      <td>1.000000</td>\n",
       "    </tr>\n",
       "    <tr>\n",
       "      <th>max</th>\n",
       "      <td>77.000000</td>\n",
       "      <td>1.000000</td>\n",
       "      <td>3.000000</td>\n",
       "      <td>200.000000</td>\n",
       "      <td>564.000000</td>\n",
       "      <td>1.000000</td>\n",
       "      <td>2.000000</td>\n",
       "      <td>202.000000</td>\n",
       "      <td>1.000000</td>\n",
       "      <td>6.200000</td>\n",
       "      <td>2.000000</td>\n",
       "      <td>4.000000</td>\n",
       "      <td>3.000000</td>\n",
       "      <td>1.000000</td>\n",
       "    </tr>\n",
       "  </tbody>\n",
       "</table>\n",
       "</div>"
      ],
      "text/plain": [
       "              age         sex          cp    trestbps        chol         fbs  \\\n",
       "count  303.000000  303.000000  303.000000  303.000000  303.000000  303.000000   \n",
       "mean    54.366337    0.683168    0.966997  131.623762  246.264026    0.148515   \n",
       "std      9.082101    0.466011    1.032052   17.538143   51.830751    0.356198   \n",
       "min     29.000000    0.000000    0.000000   94.000000  126.000000    0.000000   \n",
       "25%     47.500000    0.000000    0.000000  120.000000  211.000000    0.000000   \n",
       "50%     55.000000    1.000000    1.000000  130.000000  240.000000    0.000000   \n",
       "75%     61.000000    1.000000    2.000000  140.000000  274.500000    0.000000   \n",
       "max     77.000000    1.000000    3.000000  200.000000  564.000000    1.000000   \n",
       "\n",
       "          restecg     thalach       exang     oldpeak       slope          ca  \\\n",
       "count  303.000000  303.000000  303.000000  303.000000  303.000000  303.000000   \n",
       "mean     0.528053  149.646865    0.326733    1.039604    1.399340    0.729373   \n",
       "std      0.525860   22.905161    0.469794    1.161075    0.616226    1.022606   \n",
       "min      0.000000   71.000000    0.000000    0.000000    0.000000    0.000000   \n",
       "25%      0.000000  133.500000    0.000000    0.000000    1.000000    0.000000   \n",
       "50%      1.000000  153.000000    0.000000    0.800000    1.000000    0.000000   \n",
       "75%      1.000000  166.000000    1.000000    1.600000    2.000000    1.000000   \n",
       "max      2.000000  202.000000    1.000000    6.200000    2.000000    4.000000   \n",
       "\n",
       "             thal      target  \n",
       "count  303.000000  303.000000  \n",
       "mean     2.313531    0.544554  \n",
       "std      0.612277    0.498835  \n",
       "min      0.000000    0.000000  \n",
       "25%      2.000000    0.000000  \n",
       "50%      2.000000    1.000000  \n",
       "75%      3.000000    1.000000  \n",
       "max      3.000000    1.000000  "
      ]
     },
     "execution_count": 4,
     "metadata": {},
     "output_type": "execute_result"
    }
   ],
   "source": [
    "# Try to load the dataset from the Workspace. Otherwise, create it from the file\n",
    "# NOTE: update the key to match the dataset name\n",
    "found = False\n",
    "key = \"heart-failure-dataset\"\n",
    "description_text = \"Heart Failure Prediction data from kaggle\"\n",
    "\n",
    "if key in ws.datasets.keys(): \n",
    "        found = True\n",
    "        dataset = ws.datasets[key] \n",
    "\n",
    "if not found:\n",
    "        # Create AML Dataset and register it into Workspace\n",
    "        example_data = 'https://raw.githubusercontent.com/chinmaydas96/nd00333-capstone/master/heart.csv'\n",
    "        dataset = Dataset.Tabular.from_delimited_files(example_data)        \n",
    "        #Register Dataset in Workspace\n",
    "        dataset = dataset.register(workspace=ws,\n",
    "                                   name=key,\n",
    "                                   description=description_text)\n",
    "\n",
    "\n",
    "df = dataset.to_pandas_dataframe()\n",
    "df.describe()"
   ]
  },
  {
   "cell_type": "code",
   "execution_count": 5,
   "metadata": {},
   "outputs": [
    {
     "data": {
      "text/html": [
       "<div>\n",
       "<style scoped>\n",
       "    .dataframe tbody tr th:only-of-type {\n",
       "        vertical-align: middle;\n",
       "    }\n",
       "\n",
       "    .dataframe tbody tr th {\n",
       "        vertical-align: top;\n",
       "    }\n",
       "\n",
       "    .dataframe thead th {\n",
       "        text-align: right;\n",
       "    }\n",
       "</style>\n",
       "<table border=\"1\" class=\"dataframe\">\n",
       "  <thead>\n",
       "    <tr style=\"text-align: right;\">\n",
       "      <th></th>\n",
       "      <th>age</th>\n",
       "      <th>sex</th>\n",
       "      <th>cp</th>\n",
       "      <th>trestbps</th>\n",
       "      <th>chol</th>\n",
       "      <th>fbs</th>\n",
       "      <th>restecg</th>\n",
       "      <th>thalach</th>\n",
       "      <th>exang</th>\n",
       "      <th>oldpeak</th>\n",
       "      <th>slope</th>\n",
       "      <th>ca</th>\n",
       "      <th>thal</th>\n",
       "      <th>target</th>\n",
       "    </tr>\n",
       "  </thead>\n",
       "  <tbody>\n",
       "    <tr>\n",
       "      <th>0</th>\n",
       "      <td>63</td>\n",
       "      <td>1</td>\n",
       "      <td>3</td>\n",
       "      <td>145</td>\n",
       "      <td>233</td>\n",
       "      <td>1</td>\n",
       "      <td>0</td>\n",
       "      <td>150</td>\n",
       "      <td>0</td>\n",
       "      <td>2.3</td>\n",
       "      <td>0</td>\n",
       "      <td>0</td>\n",
       "      <td>1</td>\n",
       "      <td>1</td>\n",
       "    </tr>\n",
       "    <tr>\n",
       "      <th>1</th>\n",
       "      <td>37</td>\n",
       "      <td>1</td>\n",
       "      <td>2</td>\n",
       "      <td>130</td>\n",
       "      <td>250</td>\n",
       "      <td>0</td>\n",
       "      <td>1</td>\n",
       "      <td>187</td>\n",
       "      <td>0</td>\n",
       "      <td>3.5</td>\n",
       "      <td>0</td>\n",
       "      <td>0</td>\n",
       "      <td>2</td>\n",
       "      <td>1</td>\n",
       "    </tr>\n",
       "    <tr>\n",
       "      <th>2</th>\n",
       "      <td>41</td>\n",
       "      <td>0</td>\n",
       "      <td>1</td>\n",
       "      <td>130</td>\n",
       "      <td>204</td>\n",
       "      <td>0</td>\n",
       "      <td>0</td>\n",
       "      <td>172</td>\n",
       "      <td>0</td>\n",
       "      <td>1.4</td>\n",
       "      <td>2</td>\n",
       "      <td>0</td>\n",
       "      <td>2</td>\n",
       "      <td>1</td>\n",
       "    </tr>\n",
       "    <tr>\n",
       "      <th>3</th>\n",
       "      <td>56</td>\n",
       "      <td>1</td>\n",
       "      <td>1</td>\n",
       "      <td>120</td>\n",
       "      <td>236</td>\n",
       "      <td>0</td>\n",
       "      <td>1</td>\n",
       "      <td>178</td>\n",
       "      <td>0</td>\n",
       "      <td>0.8</td>\n",
       "      <td>2</td>\n",
       "      <td>0</td>\n",
       "      <td>2</td>\n",
       "      <td>1</td>\n",
       "    </tr>\n",
       "    <tr>\n",
       "      <th>4</th>\n",
       "      <td>57</td>\n",
       "      <td>0</td>\n",
       "      <td>0</td>\n",
       "      <td>120</td>\n",
       "      <td>354</td>\n",
       "      <td>0</td>\n",
       "      <td>1</td>\n",
       "      <td>163</td>\n",
       "      <td>1</td>\n",
       "      <td>0.6</td>\n",
       "      <td>2</td>\n",
       "      <td>0</td>\n",
       "      <td>2</td>\n",
       "      <td>1</td>\n",
       "    </tr>\n",
       "  </tbody>\n",
       "</table>\n",
       "</div>"
      ],
      "text/plain": [
       "   age  sex  cp  trestbps  chol  fbs  restecg  thalach  exang  oldpeak  slope  \\\n",
       "0   63    1   3       145   233    1        0      150      0      2.3      0   \n",
       "1   37    1   2       130   250    0        1      187      0      3.5      0   \n",
       "2   41    0   1       130   204    0        0      172      0      1.4      2   \n",
       "3   56    1   1       120   236    0        1      178      0      0.8      2   \n",
       "4   57    0   0       120   354    0        1      163      1      0.6      2   \n",
       "\n",
       "   ca  thal  target  \n",
       "0   0     1       1  \n",
       "1   0     2       1  \n",
       "2   0     2       1  \n",
       "3   0     2       1  \n",
       "4   0     2       1  "
      ]
     },
     "execution_count": 5,
     "metadata": {},
     "output_type": "execute_result"
    }
   ],
   "source": [
    "df.head()"
   ]
  },
  {
   "cell_type": "code",
   "execution_count": 6,
   "metadata": {},
   "outputs": [],
   "source": [
    "from sklearn.model_selection import train_test_split\n",
    "train_df, test_df = train_test_split(df, test_size=0.25, random_state=1)"
   ]
  },
  {
   "cell_type": "code",
   "execution_count": 7,
   "metadata": {},
   "outputs": [],
   "source": [
    "if \"train_data_folder\" not in os.listdir():\n",
    "    os.mkdir(\"./train_data_folder\")\n",
    "\n",
    "if \"models\" not in os.listdir():\n",
    "    os.mkdir(\"./models\")\n",
    "if \"outputs\" not in os.listdir():\n",
    "    os.mkdir(\"./outputs\")\n",
    "\n",
    "train_df.to_csv(\"./train_data_folder/train.csv\", index = False)"
   ]
  },
  {
   "cell_type": "code",
   "execution_count": 8,
   "metadata": {},
   "outputs": [
    {
     "name": "stdout",
     "output_type": "stream",
     "text": [
      "Uploading an estimated of 1 files\n",
      "Uploading ./train_data_folder/train.csv\n",
      "Uploaded ./train_data_folder/train.csv, 1 files out of an estimated total of 1\n",
      "Uploaded 1 files\n"
     ]
    },
    {
     "data": {
      "text/plain": [
       "$AZUREML_DATAREFERENCE_d1a90b1564d44d139aab37c6565625ca"
      ]
     },
     "execution_count": 8,
     "metadata": {},
     "output_type": "execute_result"
    }
   ],
   "source": [
    "data_store = ws.get_default_datastore()\n",
    "data_store.upload(src_dir = \"./train_data_folder\", target_path = 'datasets', overwrite = True,  show_progress = True)"
   ]
  },
  {
   "cell_type": "code",
   "execution_count": 9,
   "metadata": {},
   "outputs": [],
   "source": [
    "train_data = Dataset.Tabular.from_delimited_files(path=data_store.path(\"datasets/train.csv\"))"
   ]
  },
  {
   "cell_type": "markdown",
   "metadata": {},
   "source": [
    "## AutoML Configuration\n",
    "\n",
    "TODO: Explain why you chose the automl settings and cofiguration you used below."
   ]
  },
  {
   "cell_type": "code",
   "execution_count": 10,
   "metadata": {},
   "outputs": [],
   "source": [
    "# TODO: Put your automl settings here\n",
    "automl_settings = {\n",
    "    \"experiment_timeout_minutes\": 20,\n",
    "    \"n_cross_validations\": 5,\n",
    "    \"max_concurrent_iterations\": 5,\n",
    "    \"primary_metric\" : 'AUC_weighted'\n",
    "}\n",
    "\n",
    "# TODO: Put your automl config here\n",
    "automl_config = AutoMLConfig(compute_target=compute_target,\n",
    "                             task = \"classification\",\n",
    "                             training_data=dataset,\n",
    "                             label_column_name=\"target\",    \n",
    "                             path = project_folder,\n",
    "                             enable_onnx_compatible_models=True,\n",
    "                             enable_early_stopping= True,\n",
    "                             featurization= 'auto', #off\n",
    "                             debug_log = \"automl_errors.log\",\n",
    "                             **automl_settings\n",
    "                            )"
   ]
  },
  {
   "cell_type": "code",
   "execution_count": 11,
   "metadata": {
    "gather": {
     "logged": 1598431107951
    },
    "jupyter": {
     "outputs_hidden": false,
     "source_hidden": false
    },
    "nteract": {
     "transient": {
      "deleting": false
     }
    },
    "scrolled": false
   },
   "outputs": [
    {
     "name": "stdout",
     "output_type": "stream",
     "text": [
      "Submitting remote run.\n",
      "No run_configuration provided, running on cluster-automl with default configuration\n",
      "Running on remote compute: cluster-automl\n"
     ]
    },
    {
     "data": {
      "text/html": [
       "<table style=\"width:100%\"><tr><th>Experiment</th><th>Id</th><th>Type</th><th>Status</th><th>Details Page</th><th>Docs Page</th></tr><tr><td>heart-failure-prediction</td><td>AutoML_b3434009-d6ca-4b09-bb8f-6352e219dfb4</td><td>automl</td><td>NotStarted</td><td><a href=\"https://ml.azure.com/runs/AutoML_b3434009-d6ca-4b09-bb8f-6352e219dfb4?wsid=/subscriptions/99625554-65d2-4421-aea7-7ddd513d8fe5/resourcegroups/mltest/workspaces/mltest&amp;tid=13b62211-d5ac-471c-a33b-9d952195a20c\" target=\"_blank\" rel=\"noopener\">Link to Azure Machine Learning studio</a></td><td><a href=\"https://docs.microsoft.com/en-us/python/api/overview/azure/ml/intro?view=azure-ml-py\" target=\"_blank\" rel=\"noopener\">Link to Documentation</a></td></tr></table>"
      ],
      "text/plain": [
       "<IPython.core.display.HTML object>"
      ]
     },
     "metadata": {},
     "output_type": "display_data"
    },
    {
     "name": "stdout",
     "output_type": "stream",
     "text": [
      "\n",
      "Current status: FeaturesGeneration. Generating features for the dataset.\n",
      "Current status: DatasetCrossValidationSplit. Generating individually featurized CV splits.\n",
      "Current status: ModelSelection. Beginning model selection.\n",
      "\n",
      "****************************************************************************************************\n",
      "DATA GUARDRAILS: \n",
      "\n",
      "TYPE:         Class balancing detection\n",
      "STATUS:       PASSED\n",
      "DESCRIPTION:  Your inputs were analyzed, and all classes are balanced in your training data.\n",
      "              Learn more about imbalanced data: https://aka.ms/AutomatedMLImbalancedData\n",
      "\n",
      "****************************************************************************************************\n",
      "\n",
      "TYPE:         Missing feature values imputation\n",
      "STATUS:       PASSED\n",
      "DESCRIPTION:  No feature missing values were detected in the training data.\n",
      "              Learn more about missing value imputation: https://aka.ms/AutomatedMLFeaturization\n",
      "\n",
      "****************************************************************************************************\n",
      "\n",
      "TYPE:         High cardinality feature detection\n",
      "STATUS:       PASSED\n",
      "DESCRIPTION:  Your inputs were analyzed, and no high cardinality features were detected.\n",
      "              Learn more about high cardinality feature handling: https://aka.ms/AutomatedMLFeaturization\n",
      "\n",
      "****************************************************************************************************\n",
      "\n",
      "****************************************************************************************************\n",
      "ITERATION: The iteration being evaluated.\n",
      "PIPELINE: A summary description of the pipeline being evaluated.\n",
      "DURATION: Time taken for the current iteration.\n",
      "METRIC: The result of computing score on the fitted pipeline.\n",
      "BEST: The best observed score thus far.\n",
      "****************************************************************************************************\n",
      "\n",
      " ITERATION   PIPELINE                                       DURATION      METRIC      BEST\n",
      "         2   MaxAbsScaler RandomForest                      0:00:55       0.9045    0.9045\n",
      "         1   MaxAbsScaler XGBoostClassifier                 0:00:51       0.8862    0.9045\n",
      "         3   MaxAbsScaler RandomForest                      0:00:48       0.9046    0.9046\n",
      "         6   MaxAbsScaler ExtremeRandomTrees                0:00:43       0.9095    0.9095\n",
      "         4   MaxAbsScaler RandomForest                      0:01:52       0.8892    0.9095\n",
      "         7   MaxAbsScaler ExtremeRandomTrees                0:00:44       0.9082    0.9095\n",
      "         8   MaxAbsScaler RandomForest                      0:00:45       0.9142    0.9142\n",
      "         0   MaxAbsScaler LightGBM                          0:03:11       0.8656    0.9142\n",
      "         5   MaxAbsScaler ExtremeRandomTrees                0:03:12       0.8849    0.9142\n",
      "         9   MaxAbsScaler ExtremeRandomTrees                0:00:44       0.9269    0.9269\n",
      "        10   MaxAbsScaler RandomForest                      0:00:42       0.8800    0.9269\n",
      "        11   MaxAbsScaler RandomForest                      0:00:48       0.8797    0.9269\n",
      "        12   MaxAbsScaler RandomForest                      0:00:45       0.9160    0.9269\n",
      "        14   MaxAbsScaler RandomForest                      0:00:45       0.9002    0.9269\n",
      "        13   StandardScalerWrapper XGBoostClassifier        0:00:49       0.8686    0.9269\n",
      "        15   StandardScalerWrapper ExtremeRandomTrees       0:00:47       0.8727    0.9269\n",
      "        16   MaxAbsScaler ExtremeRandomTrees                0:00:49       0.8965    0.9269\n",
      "        17   MaxAbsScaler ExtremeRandomTrees                0:00:46       0.9094    0.9269\n",
      "        18   MaxAbsScaler RandomForest                      0:00:43       0.8992    0.9269\n",
      "        19   MaxAbsScaler LightGBM                          0:00:43       0.9100    0.9269\n",
      "        20   MaxAbsScaler LightGBM                          0:00:44       0.9109    0.9269\n",
      "        22   MaxAbsScaler LightGBM                          0:00:46       0.9030    0.9269\n",
      "        21   MaxAbsScaler LightGBM                          0:00:44       0.8984    0.9269\n",
      "        23   MaxAbsScaler LightGBM                          0:00:53       0.9092    0.9269\n",
      "        24   MaxAbsScaler LogisticRegression                0:00:51       0.9216    0.9269\n",
      "        26   StandardScalerWrapper ExtremeRandomTrees       0:00:42       0.8804    0.9269\n",
      "        25   MaxAbsScaler ExtremeRandomTrees                0:00:42       0.8696    0.9269\n",
      "        27   MaxAbsScaler ExtremeRandomTrees                0:00:50       0.9045    0.9269\n",
      "        28   SparseNormalizer XGBoostClassifier             0:00:39       0.8842    0.9269\n",
      "        29   StandardScalerWrapper LogisticRegression       0:00:48       0.9178    0.9269\n",
      "        30   SparseNormalizer ExtremeRandomTrees            0:00:54       0.9179    0.9269\n",
      "        31   StandardScalerWrapper LogisticRegression       0:00:38       0.9121    0.9269\n",
      "        32   TruncatedSVDWrapper LogisticRegression         0:00:50       0.9175    0.9269\n",
      "        33   MaxAbsScaler LogisticRegression                0:00:53       0.9164    0.9269\n",
      "        34   MaxAbsScaler LogisticRegression                0:00:25       0.9201    0.9269\n",
      "        35                                                  0:00:14          nan    0.9269\n",
      "        36                                                  0:00:27          nan    0.9269\n",
      "        37                                                  0:00:17          nan    0.9269\n",
      "        38    VotingEnsemble                                0:01:06       0.9302    0.9302\n"
     ]
    }
   ],
   "source": [
    "# TODO: Submit your experiment\n",
    "remote_run = experiment.submit(automl_config, show_output= True)"
   ]
  },
  {
   "cell_type": "markdown",
   "metadata": {},
   "source": [
    "## Run Details\n",
    "\n",
    "OPTIONAL: Write about the different models trained and their performance. Why do you think some models did better than others?\n",
    "\n",
    "TODO: In the cell below, use the `RunDetails` widget to show the different experiments."
   ]
  },
  {
   "cell_type": "code",
   "execution_count": 12,
   "metadata": {
    "gather": {
     "logged": 1598431121770
    },
    "jupyter": {
     "outputs_hidden": false,
     "source_hidden": false
    },
    "nteract": {
     "transient": {
      "deleting": false
     }
    },
    "scrolled": false
   },
   "outputs": [
    {
     "data": {
      "application/vnd.jupyter.widget-view+json": {
       "model_id": "9974c20ef2be4a1398361536dccbb326",
       "version_major": 2,
       "version_minor": 0
      },
      "text/plain": [
       "_AutoMLWidget(widget_settings={'childWidgetDisplay': 'popup', 'send_telemetry': False, 'log_level': 'INFO', 's…"
      ]
     },
     "metadata": {},
     "output_type": "display_data"
    },
    {
     "data": {
      "application/aml.mini.widget.v1": "{\"status\": \"Completed\", \"workbench_run_details_uri\": \"https://ml.azure.com/runs/AutoML_b3434009-d6ca-4b09-bb8f-6352e219dfb4?wsid=/subscriptions/99625554-65d2-4421-aea7-7ddd513d8fe5/resourcegroups/mltest/workspaces/mltest&tid=13b62211-d5ac-471c-a33b-9d952195a20c\", \"run_id\": \"AutoML_b3434009-d6ca-4b09-bb8f-6352e219dfb4\", \"run_properties\": {\"run_id\": \"AutoML_b3434009-d6ca-4b09-bb8f-6352e219dfb4\", \"created_utc\": \"2021-04-14T01:12:15.25494Z\", \"properties\": {\"num_iterations\": \"1000\", \"training_type\": \"TrainFull\", \"acquisition_function\": \"EI\", \"primary_metric\": \"AUC_weighted\", \"train_split\": \"0\", \"acquisition_parameter\": \"0\", \"num_cross_validation\": \"5\", \"target\": \"cluster-automl\", \"AMLSettingsJsonString\": \"{\\\"path\\\":null,\\\"name\\\":\\\"heart-failure-prediction\\\",\\\"subscription_id\\\":\\\"99625554-65d2-4421-aea7-7ddd513d8fe5\\\",\\\"resource_group\\\":\\\"mltest\\\",\\\"workspace_name\\\":\\\"mltest\\\",\\\"region\\\":\\\"eastus2\\\",\\\"compute_target\\\":\\\"cluster-automl\\\",\\\"spark_service\\\":null,\\\"azure_service\\\":\\\"remote\\\",\\\"many_models\\\":false,\\\"pipeline_fetch_max_batch_size\\\":1,\\\"enable_batch_run\\\":false,\\\"enable_run_restructure\\\":false,\\\"iterations\\\":1000,\\\"primary_metric\\\":\\\"AUC_weighted\\\",\\\"task_type\\\":\\\"classification\\\",\\\"data_script\\\":null,\\\"test_size\\\":0.0,\\\"validation_size\\\":0.0,\\\"n_cross_validations\\\":5,\\\"y_min\\\":null,\\\"y_max\\\":null,\\\"num_classes\\\":null,\\\"featurization\\\":\\\"auto\\\",\\\"_ignore_package_version_incompatibilities\\\":false,\\\"is_timeseries\\\":false,\\\"max_cores_per_iteration\\\":1,\\\"max_concurrent_iterations\\\":5,\\\"iteration_timeout_minutes\\\":null,\\\"mem_in_mb\\\":null,\\\"enforce_time_on_windows\\\":false,\\\"experiment_timeout_minutes\\\":20,\\\"experiment_exit_score\\\":null,\\\"whitelist_models\\\":null,\\\"blacklist_algos\\\":[\\\"TensorFlowLinearClassifier\\\",\\\"TensorFlowDNN\\\"],\\\"supported_models\\\":[\\\"SVM\\\",\\\"SGD\\\",\\\"ExtremeRandomTrees\\\",\\\"BernoulliNaiveBayes\\\",\\\"TensorFlowDNN\\\",\\\"GradientBoosting\\\",\\\"RandomForest\\\",\\\"KNN\\\",\\\"AveragedPerceptronClassifier\\\",\\\"LinearSVM\\\",\\\"MultinomialNaiveBayes\\\",\\\"LogisticRegression\\\",\\\"DecisionTree\\\",\\\"LightGBM\\\",\\\"TensorFlowLinearClassifier\\\",\\\"XGBoostClassifier\\\"],\\\"private_models\\\":[],\\\"auto_blacklist\\\":true,\\\"blacklist_samples_reached\\\":false,\\\"exclude_nan_labels\\\":true,\\\"verbosity\\\":20,\\\"_debug_log\\\":\\\"azureml_automl.log\\\",\\\"show_warnings\\\":false,\\\"model_explainability\\\":true,\\\"service_url\\\":null,\\\"sdk_url\\\":null,\\\"sdk_packages\\\":null,\\\"enable_onnx_compatible_models\\\":true,\\\"enable_split_onnx_featurizer_estimator_models\\\":false,\\\"vm_type\\\":\\\"STANDARD_D2_V2\\\",\\\"telemetry_verbosity\\\":20,\\\"send_telemetry\\\":true,\\\"enable_dnn\\\":false,\\\"scenario\\\":\\\"SDK-1.13.0\\\",\\\"environment_label\\\":null,\\\"save_mlflow\\\":false,\\\"force_text_dnn\\\":false,\\\"enable_feature_sweeping\\\":false,\\\"enable_early_stopping\\\":true,\\\"early_stopping_n_iters\\\":10,\\\"metrics\\\":null,\\\"enable_metric_confidence\\\":false,\\\"enable_ensembling\\\":true,\\\"enable_stack_ensembling\\\":false,\\\"ensemble_iterations\\\":15,\\\"enable_tf\\\":false,\\\"enable_subsampling\\\":null,\\\"subsample_seed\\\":null,\\\"enable_nimbusml\\\":false,\\\"enable_streaming\\\":false,\\\"force_streaming\\\":false,\\\"track_child_runs\\\":true,\\\"allowed_private_models\\\":[],\\\"label_column_name\\\":\\\"target\\\",\\\"weight_column_name\\\":null,\\\"cv_split_column_names\\\":null,\\\"enable_local_managed\\\":false,\\\"_local_managed_run_id\\\":null,\\\"cost_mode\\\":1,\\\"lag_length\\\":0,\\\"metric_operation\\\":\\\"maximize\\\",\\\"preprocess\\\":true}\", \"DataPrepJsonString\": \"{\\\\\\\"training_data\\\\\\\": {\\\\\\\"datasetId\\\\\\\": \\\\\\\"60a54961-99e5-48c6-9cf7-5943cf20f515\\\\\\\"}, \\\\\\\"datasets\\\\\\\": 0}\", \"EnableSubsampling\": null, \"runTemplate\": \"AutoML\", \"azureml.runsource\": \"automl\", \"display_task_type\": \"classification\", \"dependencies_versions\": \"{\\\"azureml-widgets\\\": \\\"1.26.0\\\", \\\"azureml-train\\\": \\\"1.26.0\\\", \\\"azureml-train-restclients-hyperdrive\\\": \\\"1.26.0\\\", \\\"azureml-train-core\\\": \\\"1.26.0\\\", \\\"azureml-train-automl\\\": \\\"1.26.0\\\", \\\"azureml-train-automl-runtime\\\": \\\"1.26.0\\\", \\\"azureml-train-automl-client\\\": \\\"1.26.0\\\", \\\"azureml-tensorboard\\\": \\\"1.26.0\\\", \\\"azureml-telemetry\\\": \\\"1.26.0\\\", \\\"azureml-sdk\\\": \\\"1.26.0\\\", \\\"azureml-samples\\\": \\\"0+unknown\\\", \\\"azureml-pipeline\\\": \\\"1.26.0\\\", \\\"azureml-pipeline-steps\\\": \\\"1.26.0\\\", \\\"azureml-pipeline-core\\\": \\\"1.26.0\\\", \\\"azureml-opendatasets\\\": \\\"1.26.0\\\", \\\"azureml-model-management-sdk\\\": \\\"1.0.1b6.post1\\\", \\\"azureml-mlflow\\\": \\\"1.26.0\\\", \\\"azureml-interpret\\\": \\\"1.26.0\\\", \\\"azureml-explain-model\\\": \\\"1.26.0\\\", \\\"azureml-defaults\\\": \\\"1.26.0\\\", \\\"azureml-dataset-runtime\\\": \\\"1.26.0\\\", \\\"azureml-dataprep\\\": \\\"2.13.2\\\", \\\"azureml-dataprep-rslex\\\": \\\"1.11.2\\\", \\\"azureml-dataprep-native\\\": \\\"32.0.0\\\", \\\"azureml-datadrift\\\": \\\"1.26.0\\\", \\\"azureml-core\\\": \\\"1.26.0\\\", \\\"azureml-contrib-services\\\": \\\"1.26.0\\\", \\\"azureml-contrib-server\\\": \\\"1.26.0\\\", \\\"azureml-contrib-reinforcementlearning\\\": \\\"1.26.0\\\", \\\"azureml-contrib-pipeline-steps\\\": \\\"1.26.0\\\", \\\"azureml-contrib-notebook\\\": \\\"1.26.0\\\", \\\"azureml-contrib-gbdt\\\": \\\"1.26.0\\\", \\\"azureml-contrib-fairness\\\": \\\"1.26.0\\\", \\\"azureml-contrib-dataset\\\": \\\"1.26.0\\\", \\\"azureml-cli-common\\\": \\\"1.26.0\\\", \\\"azureml-automl-runtime\\\": \\\"1.26.0\\\", \\\"azureml-automl-dnn-nlp\\\": \\\"1.26.0\\\", \\\"azureml-automl-core\\\": \\\"1.26.0\\\", \\\"azureml-accel-models\\\": \\\"1.26.0\\\"}\", \"_aml_system_scenario_identification\": \"Remote.Parent\", \"ClientType\": \"SDK\", \"environment_cpu_name\": \"AzureML-AutoML\", \"environment_cpu_label\": \"prod\", \"environment_gpu_name\": \"AzureML-AutoML-GPU\", \"environment_gpu_label\": \"prod\", \"root_attribution\": \"automl\", \"attribution\": \"AutoML\", \"Orchestrator\": \"AutoML\", \"CancelUri\": \"https://eastus2.experiments.azureml.net/jasmine/v1.0/subscriptions/99625554-65d2-4421-aea7-7ddd513d8fe5/resourceGroups/mltest/providers/Microsoft.MachineLearningServices/workspaces/mltest/experimentids/92625128-63e0-4750-86a3-5157af4afcf1/cancel/AutoML_b3434009-d6ca-4b09-bb8f-6352e219dfb4\", \"ClientSdkVersion\": \"1.25.0\", \"snapshotId\": \"00000000-0000-0000-0000-000000000000\", \"SetupRunId\": \"AutoML_b3434009-d6ca-4b09-bb8f-6352e219dfb4_setup\", \"SetupRunContainerId\": \"dcid.AutoML_b3434009-d6ca-4b09-bb8f-6352e219dfb4_setup\", \"FeaturizationRunJsonPath\": \"featurizer_container.json\", \"FeaturizationRunId\": \"AutoML_b3434009-d6ca-4b09-bb8f-6352e219dfb4_featurize\", \"ProblemInfoJsonString\": \"{\\\"dataset_num_categorical\\\": 0, \\\"is_sparse\\\": true, \\\"subsampling\\\": false, \\\"dataset_classes\\\": 2, \\\"dataset_features\\\": 27, \\\"dataset_samples\\\": 303, \\\"single_frequency_class_detected\\\": false}\", \"ModelExplainRunId\": \"AutoML_b3434009-d6ca-4b09-bb8f-6352e219dfb4_ModelExplain\"}, \"tags\": {\"model_explain_run\": \"best_run\", \"_aml_system_azureml.automlComponent\": \"AutoML\", \"pipeline_id\": \"\", \"score\": \"\", \"predicted_cost\": \"\", \"fit_time\": \"\", \"training_percent\": \"\", \"iteration\": \"\", \"run_preprocessor\": \"\", \"run_algorithm\": \"\", \"dynamic_whitelisting_iterations\": \"<25>;<30>;<35>;\", \"automl_best_child_run_id\": \"AutoML_b3434009-d6ca-4b09-bb8f-6352e219dfb4_38\", \"model_explain_best_run_child_id\": \"AutoML_b3434009-d6ca-4b09-bb8f-6352e219dfb4_38\"}, \"end_time_utc\": \"2021-04-14T01:30:32.281839Z\", \"status\": \"Completed\", \"log_files\": {}, \"log_groups\": [], \"run_duration\": \"0:18:17\", \"run_number\": \"81\", \"run_queued_details\": {\"status\": \"Completed\", \"details\": null}}, \"child_runs\": [{\"run_id\": \"AutoML_b3434009-d6ca-4b09-bb8f-6352e219dfb4_0\", \"run_number\": 85, \"metric\": null, \"status\": \"Completed\", \"run_type\": \"azureml.scriptrun\", \"training_percent\": \"100\", \"start_time\": \"2021-04-14T01:19:32.546363Z\", \"end_time\": \"2021-04-14T01:22:43.51791Z\", \"created_time\": \"2021-04-14T01:16:33.156202Z\", \"created_time_dt\": \"2021-04-14T01:16:33.156202Z\", \"duration\": \"0:06:10\", \"iteration\": \"0\", \"goal\": \"AUC_weighted_max\", \"run_name\": \"MaxAbsScaler, LightGBM\", \"run_properties\": \"copy=True\", \"primary_metric\": 0.86563937, \"best_metric\": 0.86563937}, {\"run_id\": \"AutoML_b3434009-d6ca-4b09-bb8f-6352e219dfb4_4\", \"run_number\": 86, \"metric\": null, \"status\": \"Completed\", \"run_type\": \"azureml.scriptrun\", \"training_percent\": \"100\", \"start_time\": \"2021-04-14T01:19:30.652325Z\", \"end_time\": \"2021-04-14T01:21:23.097407Z\", \"created_time\": \"2021-04-14T01:16:33.165491Z\", \"created_time_dt\": \"2021-04-14T01:16:33.165491Z\", \"duration\": \"0:04:49\", \"iteration\": \"4\", \"goal\": \"AUC_weighted_max\", \"run_name\": \"MaxAbsScaler, RandomForest\", \"run_properties\": \"copy=True\", \"primary_metric\": 0.88920829, \"best_metric\": 0.90456124}, {\"run_id\": \"AutoML_b3434009-d6ca-4b09-bb8f-6352e219dfb4_3\", \"run_number\": 87, \"metric\": null, \"status\": \"Completed\", \"run_type\": \"azureml.scriptrun\", \"training_percent\": \"100\", \"start_time\": \"2021-04-14T01:19:04.576731Z\", \"end_time\": \"2021-04-14T01:19:52.179012Z\", \"created_time\": \"2021-04-14T01:16:33.171898Z\", \"created_time_dt\": \"2021-04-14T01:16:33.171898Z\", \"duration\": \"0:03:19\", \"iteration\": \"3\", \"goal\": \"AUC_weighted_max\", \"run_name\": \"MaxAbsScaler, RandomForest\", \"run_properties\": \"copy=True\", \"primary_metric\": 0.90456124, \"best_metric\": 0.90456124}, {\"run_id\": \"AutoML_b3434009-d6ca-4b09-bb8f-6352e219dfb4_1\", \"run_number\": 88, \"metric\": null, \"status\": \"Completed\", \"run_type\": \"azureml.scriptrun\", \"training_percent\": \"100\", \"start_time\": \"2021-04-14T01:17:56.451092Z\", \"end_time\": \"2021-04-14T01:18:47.700518Z\", \"created_time\": \"2021-04-14T01:16:33.297752Z\", \"created_time_dt\": \"2021-04-14T01:16:33.297752Z\", \"duration\": \"0:02:14\", \"iteration\": \"1\", \"goal\": \"AUC_weighted_max\", \"run_name\": \"MaxAbsScaler, XGBoostClassifier\", \"run_properties\": \"copy=True\", \"primary_metric\": 0.88620014, \"best_metric\": 0.88620014}, {\"run_id\": \"AutoML_b3434009-d6ca-4b09-bb8f-6352e219dfb4_2\", \"run_number\": 89, \"metric\": null, \"status\": \"Completed\", \"run_type\": \"azureml.scriptrun\", \"training_percent\": \"100\", \"start_time\": \"2021-04-14T01:16:45.922944Z\", \"end_time\": \"2021-04-14T01:17:40.897201Z\", \"created_time\": \"2021-04-14T01:16:33.620301Z\", \"created_time_dt\": \"2021-04-14T01:16:33.620301Z\", \"duration\": \"0:01:07\", \"iteration\": \"2\", \"goal\": \"AUC_weighted_max\", \"run_name\": \"MaxAbsScaler, RandomForest\", \"run_properties\": \"copy=True\", \"primary_metric\": 0.9044581, \"best_metric\": 0.9044581}, {\"run_id\": \"AutoML_b3434009-d6ca-4b09-bb8f-6352e219dfb4_5\", \"run_number\": 90, \"metric\": null, \"status\": \"Completed\", \"run_type\": \"azureml.scriptrun\", \"training_percent\": \"100\", \"start_time\": \"2021-04-14T01:19:32.485065Z\", \"end_time\": \"2021-04-14T01:22:44.662459Z\", \"created_time\": \"2021-04-14T01:17:43.466733Z\", \"created_time_dt\": \"2021-04-14T01:17:43.466733Z\", \"duration\": \"0:05:01\", \"iteration\": \"5\", \"goal\": \"AUC_weighted_max\", \"run_name\": \"MaxAbsScaler, ExtremeRandomTrees\", \"run_properties\": \"copy=True\", \"primary_metric\": 0.88490157, \"best_metric\": 0.90456124}, {\"run_id\": \"AutoML_b3434009-d6ca-4b09-bb8f-6352e219dfb4_6\", \"run_number\": 91, \"metric\": null, \"status\": \"Completed\", \"run_type\": \"azureml.scriptrun\", \"training_percent\": \"100\", \"start_time\": \"2021-04-14T01:20:07.885705Z\", \"end_time\": \"2021-04-14T01:20:50.53936Z\", \"created_time\": \"2021-04-14T01:18:50.702435Z\", \"created_time_dt\": \"2021-04-14T01:18:50.702435Z\", \"duration\": \"0:01:59\", \"iteration\": \"6\", \"goal\": \"AUC_weighted_max\", \"run_name\": \"MaxAbsScaler, ExtremeRandomTrees\", \"run_properties\": \"copy=True\", \"primary_metric\": 0.90946718, \"best_metric\": 0.90946718}, {\"run_id\": \"AutoML_b3434009-d6ca-4b09-bb8f-6352e219dfb4_7\", \"run_number\": 92, \"metric\": null, \"status\": \"Completed\", \"run_type\": \"azureml.scriptrun\", \"training_percent\": \"100\", \"start_time\": \"2021-04-14T01:21:04.8764Z\", \"end_time\": \"2021-04-14T01:21:49.259314Z\", \"created_time\": \"2021-04-14T01:19:55.211051Z\", \"created_time_dt\": \"2021-04-14T01:19:55.211051Z\", \"duration\": \"0:01:54\", \"iteration\": \"7\", \"goal\": \"AUC_weighted_max\", \"run_name\": \"MaxAbsScaler, ExtremeRandomTrees\", \"run_properties\": \"copy=True\", \"primary_metric\": 0.90818734, \"best_metric\": 0.90946718}, {\"run_id\": \"AutoML_b3434009-d6ca-4b09-bb8f-6352e219dfb4_8\", \"run_number\": 93, \"metric\": null, \"status\": \"Completed\", \"run_type\": \"azureml.scriptrun\", \"training_percent\": \"100\", \"start_time\": \"2021-04-14T01:21:36.671659Z\", \"end_time\": \"2021-04-14T01:22:21.825918Z\", \"created_time\": \"2021-04-14T01:20:56.211067Z\", \"created_time_dt\": \"2021-04-14T01:20:56.211067Z\", \"duration\": \"0:01:25\", \"iteration\": \"8\", \"goal\": \"AUC_weighted_max\", \"run_name\": \"MaxAbsScaler, RandomForest\", \"run_properties\": \"copy=True\", \"primary_metric\": 0.91415775, \"best_metric\": 0.91415775}, {\"run_id\": \"AutoML_b3434009-d6ca-4b09-bb8f-6352e219dfb4_9\", \"run_number\": 94, \"metric\": null, \"status\": \"Completed\", \"run_type\": \"azureml.scriptrun\", \"training_percent\": \"100\", \"start_time\": \"2021-04-14T01:22:02.319364Z\", \"end_time\": \"2021-04-14T01:22:46.446492Z\", \"created_time\": \"2021-04-14T01:21:27.070679Z\", \"created_time_dt\": \"2021-04-14T01:21:27.070679Z\", \"duration\": \"0:01:19\", \"iteration\": \"9\", \"goal\": \"AUC_weighted_max\", \"run_name\": \"MaxAbsScaler, ExtremeRandomTrees\", \"run_properties\": \"copy=True\", \"primary_metric\": 0.92685453, \"best_metric\": 0.92685453}, {\"run_id\": \"AutoML_b3434009-d6ca-4b09-bb8f-6352e219dfb4_10\", \"run_number\": 95, \"metric\": null, \"status\": \"Completed\", \"run_type\": \"azureml.scriptrun\", \"training_percent\": \"100\", \"start_time\": \"2021-04-14T01:22:36.809502Z\", \"end_time\": \"2021-04-14T01:23:19.256107Z\", \"created_time\": \"2021-04-14T01:21:52.069372Z\", \"created_time_dt\": \"2021-04-14T01:21:52.069372Z\", \"duration\": \"0:01:27\", \"iteration\": \"10\", \"goal\": \"AUC_weighted_max\", \"run_name\": \"MaxAbsScaler, RandomForest\", \"run_properties\": \"copy=True\", \"primary_metric\": 0.88000419, \"best_metric\": 0.92685453}, {\"run_id\": \"AutoML_b3434009-d6ca-4b09-bb8f-6352e219dfb4_11\", \"run_number\": 96, \"metric\": null, \"status\": \"Completed\", \"run_type\": \"azureml.scriptrun\", \"training_percent\": \"100\", \"start_time\": \"2021-04-14T01:22:53.646209Z\", \"end_time\": \"2021-04-14T01:23:41.566239Z\", \"created_time\": \"2021-04-14T01:22:24.776666Z\", \"created_time_dt\": \"2021-04-14T01:22:24.776666Z\", \"duration\": \"0:01:16\", \"iteration\": \"11\", \"goal\": \"AUC_weighted_max\", \"run_name\": \"MaxAbsScaler, RandomForest\", \"run_properties\": \"copy=True\", \"primary_metric\": 0.87965298, \"best_metric\": 0.92685453}, {\"run_id\": \"AutoML_b3434009-d6ca-4b09-bb8f-6352e219dfb4_12\", \"run_number\": 97, \"metric\": null, \"status\": \"Completed\", \"run_type\": \"azureml.scriptrun\", \"training_percent\": \"100\", \"start_time\": \"2021-04-14T01:22:56.742033Z\", \"end_time\": \"2021-04-14T01:23:42.126872Z\", \"created_time\": \"2021-04-14T01:22:46.534861Z\", \"created_time_dt\": \"2021-04-14T01:22:46.534861Z\", \"duration\": \"0:00:55\", \"iteration\": \"12\", \"goal\": \"AUC_weighted_max\", \"run_name\": \"MaxAbsScaler, RandomForest\", \"run_properties\": \"copy=True\", \"primary_metric\": 0.91599216, \"best_metric\": 0.92685453}, {\"run_id\": \"AutoML_b3434009-d6ca-4b09-bb8f-6352e219dfb4_14\", \"run_number\": 98, \"metric\": null, \"status\": \"Completed\", \"run_type\": \"azureml.scriptrun\", \"training_percent\": \"100\", \"start_time\": \"2021-04-14T01:23:01.481937Z\", \"end_time\": \"2021-04-14T01:23:46.391929Z\", \"created_time\": \"2021-04-14T01:22:51.653078Z\", \"created_time_dt\": \"2021-04-14T01:22:51.653078Z\", \"duration\": \"0:00:54\", \"iteration\": \"14\", \"goal\": \"AUC_weighted_max\", \"run_name\": \"MaxAbsScaler, RandomForest\", \"run_properties\": \"copy=True\", \"primary_metric\": 0.90020639, \"best_metric\": 0.92685453}, {\"run_id\": \"AutoML_b3434009-d6ca-4b09-bb8f-6352e219dfb4_13\", \"run_number\": 99, \"metric\": null, \"status\": \"Completed\", \"run_type\": \"azureml.scriptrun\", \"training_percent\": \"100\", \"start_time\": \"2021-04-14T01:23:36.012868Z\", \"end_time\": \"2021-04-14T01:24:25.374661Z\", \"created_time\": \"2021-04-14T01:22:52.003264Z\", \"created_time_dt\": \"2021-04-14T01:22:52.003264Z\", \"duration\": \"0:01:33\", \"iteration\": \"13\", \"goal\": \"AUC_weighted_max\", \"run_name\": \"StandardScalerWrapper, XGBoostClassifier\", \"run_properties\": \"<azureml.automl.runtime.shared.model_wrappers.StandardScalerWrapper object at 0x7fcb2a3c9a90\", \"primary_metric\": 0.86861316, \"best_metric\": 0.92685453}, {\"run_id\": \"AutoML_b3434009-d6ca-4b09-bb8f-6352e219dfb4_15\", \"run_number\": 100, \"metric\": null, \"status\": \"Completed\", \"run_type\": \"azureml.scriptrun\", \"training_percent\": \"100\", \"start_time\": \"2021-04-14T01:23:59.244749Z\", \"end_time\": \"2021-04-14T01:24:46.025222Z\", \"created_time\": \"2021-04-14T01:23:23.209335Z\", \"created_time_dt\": \"2021-04-14T01:23:23.209335Z\", \"duration\": \"0:01:22\", \"iteration\": \"15\", \"goal\": \"AUC_weighted_max\", \"run_name\": \"StandardScalerWrapper, ExtremeRandomTrees\", \"run_properties\": \"<azureml.automl.runtime.shared.model_wrappers.StandardScalerWrapper object at 0x7f6988373dd8\", \"primary_metric\": 0.87265558, \"best_metric\": 0.92685453}, {\"run_id\": \"AutoML_b3434009-d6ca-4b09-bb8f-6352e219dfb4_16\", \"run_number\": 101, \"metric\": null, \"status\": \"Completed\", \"run_type\": \"azureml.scriptrun\", \"training_percent\": \"100\", \"start_time\": \"2021-04-14T01:23:58.58129Z\", \"end_time\": \"2021-04-14T01:24:47.601686Z\", \"created_time\": \"2021-04-14T01:23:44.696313Z\", \"created_time_dt\": \"2021-04-14T01:23:44.696313Z\", \"duration\": \"0:01:02\", \"iteration\": \"16\", \"goal\": \"AUC_weighted_max\", \"run_name\": \"MaxAbsScaler, ExtremeRandomTrees\", \"run_properties\": \"copy=True\", \"primary_metric\": 0.89653292, \"best_metric\": 0.92685453}, {\"run_id\": \"AutoML_b3434009-d6ca-4b09-bb8f-6352e219dfb4_17\", \"run_number\": 102, \"metric\": null, \"status\": \"Completed\", \"run_type\": \"azureml.scriptrun\", \"training_percent\": \"100\", \"start_time\": \"2021-04-14T01:24:02.309177Z\", \"end_time\": \"2021-04-14T01:24:48.444229Z\", \"created_time\": \"2021-04-14T01:23:49.670726Z\", \"created_time_dt\": \"2021-04-14T01:23:49.670726Z\", \"duration\": \"0:00:58\", \"iteration\": \"17\", \"goal\": \"AUC_weighted_max\", \"run_name\": \"MaxAbsScaler, ExtremeRandomTrees\", \"run_properties\": \"copy=True\", \"primary_metric\": 0.90935884, \"best_metric\": 0.92685453}, {\"run_id\": \"AutoML_b3434009-d6ca-4b09-bb8f-6352e219dfb4_18\", \"run_number\": 103, \"metric\": null, \"status\": \"Completed\", \"run_type\": \"azureml.scriptrun\", \"training_percent\": \"100\", \"start_time\": \"2021-04-14T01:24:42.467587Z\", \"end_time\": \"2021-04-14T01:25:25.866883Z\", \"created_time\": \"2021-04-14T01:23:54.95056Z\", \"created_time_dt\": \"2021-04-14T01:23:54.95056Z\", \"duration\": \"0:01:30\", \"iteration\": \"18\", \"goal\": \"AUC_weighted_max\", \"run_name\": \"MaxAbsScaler, RandomForest\", \"run_properties\": \"copy=True\", \"primary_metric\": 0.89922994, \"best_metric\": 0.92685453}, {\"run_id\": \"AutoML_b3434009-d6ca-4b09-bb8f-6352e219dfb4_19\", \"run_number\": 104, \"metric\": null, \"status\": \"Completed\", \"run_type\": \"azureml.scriptrun\", \"training_percent\": \"100\", \"start_time\": \"2021-04-14T01:25:01.687122Z\", \"end_time\": \"2021-04-14T01:25:44.234713Z\", \"created_time\": \"2021-04-14T01:24:28.386723Z\", \"created_time_dt\": \"2021-04-14T01:24:28.386723Z\", \"duration\": \"0:01:15\", \"iteration\": \"19\", \"goal\": \"AUC_weighted_max\", \"run_name\": \"MaxAbsScaler, LightGBM\", \"run_properties\": \"copy=True\", \"primary_metric\": 0.90997618, \"best_metric\": 0.92685453}, {\"run_id\": \"AutoML_b3434009-d6ca-4b09-bb8f-6352e219dfb4_20\", \"run_number\": 105, \"metric\": null, \"status\": \"Completed\", \"run_type\": \"azureml.scriptrun\", \"training_percent\": \"100\", \"start_time\": \"2021-04-14T01:25:03.450078Z\", \"end_time\": \"2021-04-14T01:25:47.536383Z\", \"created_time\": \"2021-04-14T01:24:48.793553Z\", \"created_time_dt\": \"2021-04-14T01:24:48.793553Z\", \"duration\": \"0:00:58\", \"iteration\": \"20\", \"goal\": \"AUC_weighted_max\", \"run_name\": \"MaxAbsScaler, LightGBM\", \"run_properties\": \"copy=True\", \"primary_metric\": 0.91087419, \"best_metric\": 0.92685453}, {\"run_id\": \"AutoML_b3434009-d6ca-4b09-bb8f-6352e219dfb4_22\", \"run_number\": 106, \"metric\": null, \"status\": \"Completed\", \"run_type\": \"azureml.scriptrun\", \"training_percent\": \"100\", \"start_time\": \"2021-04-14T01:25:02.39931Z\", \"end_time\": \"2021-04-14T01:25:48.180941Z\", \"created_time\": \"2021-04-14T01:24:52.72721Z\", \"created_time_dt\": \"2021-04-14T01:24:52.72721Z\", \"duration\": \"0:00:55\", \"iteration\": \"22\", \"goal\": \"AUC_weighted_max\", \"run_name\": \"MaxAbsScaler, LightGBM\", \"run_properties\": \"copy=True\", \"primary_metric\": 0.9029828, \"best_metric\": 0.92685453}, {\"run_id\": \"AutoML_b3434009-d6ca-4b09-bb8f-6352e219dfb4_21\", \"run_number\": 107, \"metric\": null, \"status\": \"Completed\", \"run_type\": \"azureml.scriptrun\", \"training_percent\": \"100\", \"start_time\": \"2021-04-14T01:25:42.335241Z\", \"end_time\": \"2021-04-14T01:26:26.089002Z\", \"created_time\": \"2021-04-14T01:24:52.746585Z\", \"created_time_dt\": \"2021-04-14T01:24:52.746585Z\", \"duration\": \"0:01:33\", \"iteration\": \"21\", \"goal\": \"AUC_weighted_max\", \"run_name\": \"MaxAbsScaler, LightGBM\", \"run_properties\": \"copy=True\", \"primary_metric\": 0.89843868, \"best_metric\": 0.92685453}, {\"run_id\": \"AutoML_b3434009-d6ca-4b09-bb8f-6352e219dfb4_23\", \"run_number\": 108, \"metric\": null, \"status\": \"Completed\", \"run_type\": \"azureml.scriptrun\", \"training_percent\": \"100\", \"start_time\": \"2021-04-14T01:25:58.89238Z\", \"end_time\": \"2021-04-14T01:26:51.812188Z\", \"created_time\": \"2021-04-14T01:25:27.84774Z\", \"created_time_dt\": \"2021-04-14T01:25:27.84774Z\", \"duration\": \"0:01:23\", \"iteration\": \"23\", \"goal\": \"AUC_weighted_max\", \"run_name\": \"MaxAbsScaler, LightGBM\", \"run_properties\": \"copy=True\", \"primary_metric\": 0.90922533, \"best_metric\": 0.92685453}, {\"run_id\": \"AutoML_b3434009-d6ca-4b09-bb8f-6352e219dfb4_24\", \"run_number\": 109, \"metric\": null, \"status\": \"Completed\", \"run_type\": \"azureml.scriptrun\", \"training_percent\": \"100\", \"start_time\": \"2021-04-14T01:26:03.310979Z\", \"end_time\": \"2021-04-14T01:26:53.902181Z\", \"created_time\": \"2021-04-14T01:25:46.228457Z\", \"created_time_dt\": \"2021-04-14T01:25:46.228457Z\", \"duration\": \"0:01:07\", \"iteration\": \"24\", \"goal\": \"AUC_weighted_max\", \"run_name\": \"MaxAbsScaler, LogisticRegression\", \"run_properties\": \"copy=True\", \"primary_metric\": 0.9216167, \"best_metric\": 0.92685453}, {\"run_id\": \"AutoML_b3434009-d6ca-4b09-bb8f-6352e219dfb4_25\", \"run_number\": 110, \"metric\": null, \"status\": \"Completed\", \"run_type\": \"azureml.scriptrun\", \"training_percent\": \"100\", \"start_time\": \"2021-04-14T01:26:39.240411Z\", \"end_time\": \"2021-04-14T01:27:21.483652Z\", \"created_time\": \"2021-04-14T01:25:51.406402Z\", \"created_time_dt\": \"2021-04-14T01:25:51.406402Z\", \"duration\": \"0:01:30\", \"iteration\": \"25\", \"goal\": \"AUC_weighted_max\", \"run_name\": \"MaxAbsScaler, ExtremeRandomTrees\", \"run_properties\": \"copy=True\", \"primary_metric\": 0.86960402, \"best_metric\": 0.92685453}, {\"run_id\": \"AutoML_b3434009-d6ca-4b09-bb8f-6352e219dfb4_26\", \"run_number\": 111, \"metric\": null, \"status\": \"Completed\", \"run_type\": \"azureml.scriptrun\", \"training_percent\": \"100\", \"start_time\": \"2021-04-14T01:26:06.616102Z\", \"end_time\": \"2021-04-14T01:26:48.248682Z\", \"created_time\": \"2021-04-14T01:25:51.747189Z\", \"created_time_dt\": \"2021-04-14T01:25:51.747189Z\", \"duration\": \"0:00:56\", \"iteration\": \"26\", \"goal\": \"AUC_weighted_max\", \"run_name\": \"StandardScalerWrapper, ExtremeRandomTrees\", \"run_properties\": \"<azureml.automl.runtime.shared.model_wrappers.StandardScalerWrapper object at 0x7ff2ef3914e0\", \"primary_metric\": 0.88040413, \"best_metric\": 0.92685453}, {\"run_id\": \"AutoML_b3434009-d6ca-4b09-bb8f-6352e219dfb4_27\", \"run_number\": 112, \"metric\": null, \"status\": \"Completed\", \"run_type\": \"azureml.scriptrun\", \"training_percent\": \"100\", \"start_time\": \"2021-04-14T01:27:03.224017Z\", \"end_time\": \"2021-04-14T01:27:53.429989Z\", \"created_time\": \"2021-04-14T01:26:29.000069Z\", \"created_time_dt\": \"2021-04-14T01:26:29.000069Z\", \"duration\": \"0:01:24\", \"iteration\": \"27\", \"goal\": \"AUC_weighted_max\", \"run_name\": \"MaxAbsScaler, ExtremeRandomTrees\", \"run_properties\": \"copy=True\", \"primary_metric\": 0.90449436, \"best_metric\": 0.92685453}, {\"run_id\": \"AutoML_b3434009-d6ca-4b09-bb8f-6352e219dfb4_28\", \"run_number\": 113, \"metric\": null, \"status\": \"Completed\", \"run_type\": \"azureml.scriptrun\", \"training_percent\": \"100\", \"start_time\": \"2021-04-14T01:27:10.861744Z\", \"end_time\": \"2021-04-14T01:27:50.15717Z\", \"created_time\": \"2021-04-14T01:26:49.895281Z\", \"created_time_dt\": \"2021-04-14T01:26:49.895281Z\", \"duration\": \"0:01:00\", \"iteration\": \"28\", \"goal\": \"AUC_weighted_max\", \"run_name\": \"SparseNormalizer, XGBoostClassifier\", \"run_properties\": \"<azureml.automl.runtime.shared.model_wrappers.SparseNormalizer object at 0x7fe9e58bd208\", \"primary_metric\": 0.88422684, \"best_metric\": 0.92685453}, {\"run_id\": \"AutoML_b3434009-d6ca-4b09-bb8f-6352e219dfb4_29\", \"run_number\": 114, \"metric\": null, \"status\": \"Completed\", \"run_type\": \"azureml.scriptrun\", \"training_percent\": \"100\", \"start_time\": \"2021-04-14T01:27:10.311659Z\", \"end_time\": \"2021-04-14T01:27:57.826325Z\", \"created_time\": \"2021-04-14T01:26:53.704282Z\", \"created_time_dt\": \"2021-04-14T01:26:53.704282Z\", \"duration\": \"0:01:04\", \"iteration\": \"29\", \"goal\": \"AUC_weighted_max\", \"run_name\": \"StandardScalerWrapper, LogisticRegression\", \"run_properties\": \"<azureml.automl.runtime.shared.model_wrappers.StandardScalerWrapper object at 0x7f04a644a470\", \"primary_metric\": 0.91776519, \"best_metric\": 0.92685453}, {\"run_id\": \"AutoML_b3434009-d6ca-4b09-bb8f-6352e219dfb4_30\", \"run_number\": 115, \"metric\": null, \"status\": \"Completed\", \"run_type\": \"azureml.scriptrun\", \"training_percent\": \"100\", \"start_time\": \"2021-04-14T01:27:35.783007Z\", \"end_time\": \"2021-04-14T01:28:29.92595Z\", \"created_time\": \"2021-04-14T01:26:58.515433Z\", \"created_time_dt\": \"2021-04-14T01:26:58.515433Z\", \"duration\": \"0:01:31\", \"iteration\": \"30\", \"goal\": \"AUC_weighted_max\", \"run_name\": \"SparseNormalizer, ExtremeRandomTrees\", \"run_properties\": \"<azureml.automl.runtime.shared.model_wrappers.SparseNormalizer object at 0x7f8a503b6048\", \"primary_metric\": 0.91785125, \"best_metric\": 0.92685453}, {\"run_id\": \"AutoML_b3434009-d6ca-4b09-bb8f-6352e219dfb4_31\", \"run_number\": 116, \"metric\": null, \"status\": \"Completed\", \"run_type\": \"azureml.scriptrun\", \"training_percent\": \"100\", \"start_time\": \"2021-04-14T01:28:03.984686Z\", \"end_time\": \"2021-04-14T01:28:41.909086Z\", \"created_time\": \"2021-04-14T01:27:23.284563Z\", \"created_time_dt\": \"2021-04-14T01:27:23.284563Z\", \"duration\": \"0:01:18\", \"iteration\": \"31\", \"goal\": \"AUC_weighted_max\", \"run_name\": \"StandardScalerWrapper, LogisticRegression\", \"run_properties\": \"<azureml.automl.runtime.shared.model_wrappers.StandardScalerWrapper object at 0x7f7ee6860a58\", \"primary_metric\": 0.9120645, \"best_metric\": 0.92685453}, {\"run_id\": \"AutoML_b3434009-d6ca-4b09-bb8f-6352e219dfb4_32\", \"run_number\": 117, \"metric\": null, \"status\": \"Completed\", \"run_type\": \"azureml.scriptrun\", \"training_percent\": \"100\", \"start_time\": \"2021-04-14T01:28:05.437632Z\", \"end_time\": \"2021-04-14T01:28:55.772215Z\", \"created_time\": \"2021-04-14T01:27:53.130252Z\", \"created_time_dt\": \"2021-04-14T01:27:53.130252Z\", \"duration\": \"0:01:02\", \"iteration\": \"32\", \"goal\": \"AUC_weighted_max\", \"run_name\": \"TruncatedSVDWrapper, LogisticRegression\", \"run_properties\": \"n_components=0.95, random_state=None\", \"primary_metric\": 0.91749074, \"best_metric\": 0.92685453}, {\"run_id\": \"AutoML_b3434009-d6ca-4b09-bb8f-6352e219dfb4_33\", \"run_number\": 118, \"metric\": null, \"status\": \"Completed\", \"run_type\": \"azureml.scriptrun\", \"training_percent\": \"100\", \"start_time\": \"2021-04-14T01:28:11.335474Z\", \"end_time\": \"2021-04-14T01:29:04.459818Z\", \"created_time\": \"2021-04-14T01:27:56.786501Z\", \"created_time_dt\": \"2021-04-14T01:27:56.786501Z\", \"duration\": \"0:01:07\", \"iteration\": \"33\", \"goal\": \"AUC_weighted_max\", \"run_name\": \"MaxAbsScaler, LogisticRegression\", \"run_properties\": \"copy=True\", \"primary_metric\": 0.91635311, \"best_metric\": 0.92685453}, {\"run_id\": \"AutoML_b3434009-d6ca-4b09-bb8f-6352e219dfb4_34\", \"run_number\": 119, \"metric\": null, \"status\": \"Canceled\", \"run_type\": \"azureml.scriptrun\", \"training_percent\": \"100\", \"start_time\": \"2021-04-14T01:28:45.594801Z\", \"end_time\": \"2021-04-14T01:29:10.535999Z\", \"created_time\": \"2021-04-14T01:28:01.836475Z\", \"created_time_dt\": \"2021-04-14T01:28:01.836475Z\", \"duration\": \"0:01:08\", \"iteration\": \"34\", \"goal\": \"AUC_weighted_max\", \"run_name\": \"MaxAbsScaler, LogisticRegression\", \"run_properties\": \"copy=True\", \"primary_metric\": 0.9200621, \"best_metric\": 0.92685453}, {\"run_id\": \"AutoML_b3434009-d6ca-4b09-bb8f-6352e219dfb4_35\", \"run_number\": 120, \"metric\": null, \"status\": \"Canceled\", \"run_type\": \"azureml.scriptrun\", \"training_percent\": \"100\", \"start_time\": \"2021-04-14T01:28:56.85436Z\", \"end_time\": \"2021-04-14T01:29:10.635396Z\", \"created_time\": \"2021-04-14T01:28:33.017905Z\", \"created_time_dt\": \"2021-04-14T01:28:33.017905Z\", \"duration\": \"0:00:37\", \"iteration\": \"35\", \"goal\": null, \"run_name\": \"Canceled\", \"run_properties\": null}, {\"run_id\": \"AutoML_b3434009-d6ca-4b09-bb8f-6352e219dfb4_36\", \"run_number\": 121, \"metric\": null, \"status\": \"Canceled\", \"run_type\": \"azureml.scriptrun\", \"training_percent\": \"100\", \"start_time\": \"2021-04-14T01:28:43.654188Z\", \"end_time\": \"2021-04-14T01:29:10.720113Z\", \"created_time\": \"2021-04-14T01:28:43.654188Z\", \"created_time_dt\": \"2021-04-14T01:28:43.654188Z\", \"duration\": \"0:00:27\", \"iteration\": \"36\", \"goal\": null, \"run_name\": \"Canceled\", \"run_properties\": null}, {\"run_id\": \"AutoML_b3434009-d6ca-4b09-bb8f-6352e219dfb4_37\", \"run_number\": 122, \"metric\": null, \"status\": \"Canceled\", \"run_type\": \"azureml.scriptrun\", \"training_percent\": \"100\", \"start_time\": \"2021-04-14T01:28:57.742996Z\", \"end_time\": \"2021-04-14T01:29:14.890632Z\", \"created_time\": \"2021-04-14T01:28:57.742996Z\", \"created_time_dt\": \"2021-04-14T01:28:57.742996Z\", \"duration\": \"0:00:17\", \"iteration\": \"37\", \"goal\": null, \"run_name\": \"Canceled\", \"run_properties\": null}, {\"run_id\": \"AutoML_b3434009-d6ca-4b09-bb8f-6352e219dfb4_38\", \"run_number\": 123, \"metric\": null, \"status\": \"Completed\", \"run_type\": \"azureml.scriptrun\", \"training_percent\": \"100\", \"start_time\": \"2021-04-14T01:29:23.33114Z\", \"end_time\": \"2021-04-14T01:30:29.544577Z\", \"created_time\": \"2021-04-14T01:29:15.619642Z\", \"created_time_dt\": \"2021-04-14T01:29:15.619642Z\", \"duration\": \"0:01:13\", \"iteration\": \"38\", \"goal\": \"AUC_weighted_max\", \"run_name\": \"VotingEnsemble\", \"run_properties\": \"classification_labels=None,\\n                              estimators=[('9',\\n                                           Pipeline(memory=None,\\n                                                    steps=[('maxabsscaler',\\n                                                            MaxAbsScaler(copy=True\", \"primary_metric\": 0.93024788, \"best_metric\": 0.93024788}], \"children_metrics\": {\"categories\": [0], \"series\": {\"AUC_macro\": [{\"categories\": [\"0\", \"1\", \"2\", \"3\", \"4\", \"5\", \"6\", \"7\", \"8\", \"9\", \"10\", \"11\", \"12\", \"13\", \"14\", \"15\", \"16\", \"17\", \"18\", \"19\", \"20\", \"21\", \"22\", \"23\", \"24\", \"25\", \"26\", \"27\", \"28\", \"29\", \"30\", \"31\", \"32\", \"33\", \"34\", \"38\"], \"mode\": \"markers\", \"name\": \"AUC_macro\", \"stepped\": false, \"type\": \"scatter\", \"data\": [0.8656393683100241, 0.8862001396201405, 0.9044581045882589, 0.9045612442566007, 0.889208292587476, 0.8849015725341307, 0.9094671794630619, 0.9081873435907157, 0.9141577521308875, 0.9268545300233706, 0.8800041891981489, 0.8796529761475476, 0.9159921562341152, 0.8686131605553034, 0.9002063859128725, 0.8726555848935019, 0.8965329212768506, 0.9093588353894845, 0.899229944002047, 0.9099761775773929, 0.9108741925039583, 0.8984386794596881, 0.9029828043250587, 0.9092253250305076, 0.9216167027853202, 0.8696040240925298, 0.8804041305121553, 0.9044943552437543, 0.8842268355716232, 0.9177651935512557, 0.9178512525934461, 0.9120644961677137, 0.9174907411279403, 0.9163531062991425, 0.9200620954156278, 0.9302478776336628]}, {\"categories\": [\"0\", \"1\", \"2\", \"3\", \"4\", \"5\", \"6\", \"7\", \"8\", \"9\", \"10\", \"11\", \"12\", \"13\", \"14\", \"15\", \"16\", \"17\", \"18\", \"19\", \"20\", \"21\", \"22\", \"23\", \"24\", \"25\", \"26\", \"27\", \"28\", \"29\", \"30\", \"31\", \"32\", \"33\", \"34\", \"38\"], \"mode\": \"lines\", \"name\": \"AUC_macro_max\", \"stepped\": true, \"type\": \"scatter\", \"data\": [0.8656393683100241, 0.8862001396201405, 0.9044581045882589, 0.9045612442566007, 0.9045612442566007, 0.9045612442566007, 0.9094671794630619, 0.9094671794630619, 0.9141577521308875, 0.9268545300233706, 0.9268545300233706, 0.9268545300233706, 0.9268545300233706, 0.9268545300233706, 0.9268545300233706, 0.9268545300233706, 0.9268545300233706, 0.9268545300233706, 0.9268545300233706, 0.9268545300233706, 0.9268545300233706, 0.9268545300233706, 0.9268545300233706, 0.9268545300233706, 0.9268545300233706, 0.9268545300233706, 0.9268545300233706, 0.9268545300233706, 0.9268545300233706, 0.9268545300233706, 0.9268545300233706, 0.9268545300233706, 0.9268545300233706, 0.9268545300233706, 0.9268545300233706, 0.9302478776336628]}], \"norm_macro_recall\": [{\"categories\": [\"0\", \"1\", \"2\", \"3\", \"4\", \"5\", \"6\", \"7\", \"8\", \"9\", \"10\", \"11\", \"12\", \"13\", \"14\", \"15\", \"16\", \"17\", \"18\", \"19\", \"20\", \"21\", \"22\", \"23\", \"24\", \"25\", \"26\", \"27\", \"28\", \"29\", \"30\", \"31\", \"32\", \"33\", \"34\", \"38\"], \"mode\": \"markers\", \"name\": \"norm_macro_recall\", \"stepped\": false, \"type\": \"scatter\", \"data\": [0.5726632072030926, 0.5882254822443252, 0.6676824631281255, 0.6500678234433596, 0.6146582500345753, 0.5399292239945999, 0.6548516193637355, 0.6504624568021592, 0.670646311879229, 0.6935366366052966, 0.6184559896864569, 0.5771902958901342, 0.6790692619976696, 0.5898786913540561, 0.6379007198135107, 0.5645800825636175, 0.6161977628091119, 0.6262859399490165, 0.6052913275050565, 0.6641381183953257, 0.6655562664641484, 0.6128913808618368, 0.6532258596629407, 0.652809192996274, 0.6759565127695671, 0.5246986088874068, 0.6088185914925147, 0.6596360805166178, 0.630059421265598, 0.6992100320504313, 0.6639941120271783, 0.6724734182144921, 0.6773961003066258, 0.67168181459234, 0.6524728254657537, 0.666329079669479]}, {\"categories\": [\"0\", \"1\", \"2\", \"3\", \"4\", \"5\", \"6\", \"7\", \"8\", \"9\", \"10\", \"11\", \"12\", \"13\", \"14\", \"15\", \"16\", \"17\", \"18\", \"19\", \"20\", \"21\", \"22\", \"23\", \"24\", \"25\", \"26\", \"27\", \"28\", \"29\", \"30\", \"31\", \"32\", \"33\", \"34\", \"38\"], \"mode\": \"lines\", \"name\": \"norm_macro_recall_max\", \"stepped\": true, \"type\": \"scatter\", \"data\": [0.5726632072030926, 0.5882254822443252, 0.6676824631281255, 0.6676824631281255, 0.6676824631281255, 0.6676824631281255, 0.6676824631281255, 0.6676824631281255, 0.670646311879229, 0.6935366366052966, 0.6935366366052966, 0.6935366366052966, 0.6935366366052966, 0.6935366366052966, 0.6935366366052966, 0.6935366366052966, 0.6935366366052966, 0.6935366366052966, 0.6935366366052966, 0.6935366366052966, 0.6935366366052966, 0.6935366366052966, 0.6935366366052966, 0.6935366366052966, 0.6935366366052966, 0.6935366366052966, 0.6935366366052966, 0.6935366366052966, 0.6935366366052966, 0.6992100320504313, 0.6992100320504313, 0.6992100320504313, 0.6992100320504313, 0.6992100320504313, 0.6992100320504313, 0.6992100320504313]}], \"average_precision_score_macro\": [{\"categories\": [\"0\", \"1\", \"2\", \"3\", \"4\", \"5\", \"6\", \"7\", \"8\", \"9\", \"10\", \"11\", \"12\", \"13\", \"14\", \"15\", \"16\", \"17\", \"18\", \"19\", \"20\", \"21\", \"22\", \"23\", \"24\", \"25\", \"26\", \"27\", \"28\", \"29\", \"30\", \"31\", \"32\", \"33\", \"34\", \"38\"], \"mode\": \"markers\", \"name\": \"average_precision_score_macro\", \"stepped\": false, \"type\": \"scatter\", \"data\": [0.8672109846270759, 0.891671378439208, 0.9086635477722659, 0.906592545846664, 0.8941109181454149, 0.8879536101720286, 0.9109783722677207, 0.9097277103832383, 0.9150654452045849, 0.9229057599726593, 0.8782078625413879, 0.8796248712649088, 0.9172141442656585, 0.8706974691000189, 0.9047893127769278, 0.8644753436646407, 0.8969801250804205, 0.9082080776252648, 0.9008087278917538, 0.9111957486398342, 0.9108368934218822, 0.899300299684527, 0.906908957946494, 0.9127947513218215, 0.9206162068531812, 0.865242494990048, 0.8851602681080809, 0.9048549492867115, 0.8900296732319111, 0.9192087874881494, 0.9172113835253226, 0.9101481113697328, 0.9189214396208942, 0.9170573549234611, 0.9192842516307822, 0.9285846720633604]}, {\"categories\": [\"0\", \"1\", \"2\", \"3\", \"4\", \"5\", \"6\", \"7\", \"8\", \"9\", \"10\", \"11\", \"12\", \"13\", \"14\", \"15\", \"16\", \"17\", \"18\", \"19\", \"20\", \"21\", \"22\", \"23\", \"24\", \"25\", \"26\", \"27\", \"28\", \"29\", \"30\", \"31\", \"32\", \"33\", \"34\", \"38\"], \"mode\": \"lines\", \"name\": \"average_precision_score_macro_max\", \"stepped\": true, \"type\": \"scatter\", \"data\": [0.8672109846270759, 0.891671378439208, 0.9086635477722659, 0.9086635477722659, 0.9086635477722659, 0.9086635477722659, 0.9109783722677207, 0.9109783722677207, 0.9150654452045849, 0.9229057599726593, 0.9229057599726593, 0.9229057599726593, 0.9229057599726593, 0.9229057599726593, 0.9229057599726593, 0.9229057599726593, 0.9229057599726593, 0.9229057599726593, 0.9229057599726593, 0.9229057599726593, 0.9229057599726593, 0.9229057599726593, 0.9229057599726593, 0.9229057599726593, 0.9229057599726593, 0.9229057599726593, 0.9229057599726593, 0.9229057599726593, 0.9229057599726593, 0.9229057599726593, 0.9229057599726593, 0.9229057599726593, 0.9229057599726593, 0.9229057599726593, 0.9229057599726593, 0.9285846720633604]}], \"f1_score_macro\": [{\"categories\": [\"0\", \"1\", \"2\", \"3\", \"4\", \"5\", \"6\", \"7\", \"8\", \"9\", \"10\", \"11\", \"12\", \"13\", \"14\", \"15\", \"16\", \"17\", \"18\", \"19\", \"20\", \"21\", \"22\", \"23\", \"24\", \"25\", \"26\", \"27\", \"28\", \"29\", \"30\", \"31\", \"32\", \"33\", \"34\", \"38\"], \"mode\": \"markers\", \"name\": \"f1_score_macro\", \"stepped\": false, \"type\": \"scatter\", \"data\": [0.7867944664973036, 0.7935640878174892, 0.8335275800147462, 0.8242278019965109, 0.8097733527984753, 0.7690462936781762, 0.8277195309240586, 0.8249286730983053, 0.8366698939041974, 0.8473872643731537, 0.809761458645643, 0.7868601016514749, 0.8384759775557938, 0.794696152379093, 0.8185730711940391, 0.7795130522416428, 0.8047670219555176, 0.8142510822359516, 0.8018252259494387, 0.8331568144927335, 0.8335890789257224, 0.8063769388231471, 0.8272261112551493, 0.8270957729971868, 0.8374433147022664, 0.7627781570775044, 0.8017984937765144, 0.8285249272881364, 0.814849199919286, 0.8496431344076878, 0.8293898767529431, 0.8370231474181067, 0.8386990665023546, 0.83540384290387, 0.825031447559077, 0.8331981762672676]}, {\"categories\": [\"0\", \"1\", \"2\", \"3\", \"4\", \"5\", \"6\", \"7\", \"8\", \"9\", \"10\", \"11\", \"12\", \"13\", \"14\", \"15\", \"16\", \"17\", \"18\", \"19\", \"20\", \"21\", \"22\", \"23\", \"24\", \"25\", \"26\", \"27\", \"28\", \"29\", \"30\", \"31\", \"32\", \"33\", \"34\", \"38\"], \"mode\": \"lines\", \"name\": \"f1_score_macro_max\", \"stepped\": true, \"type\": \"scatter\", \"data\": [0.7867944664973036, 0.7935640878174892, 0.8335275800147462, 0.8335275800147462, 0.8335275800147462, 0.8335275800147462, 0.8335275800147462, 0.8335275800147462, 0.8366698939041974, 0.8473872643731537, 0.8473872643731537, 0.8473872643731537, 0.8473872643731537, 0.8473872643731537, 0.8473872643731537, 0.8473872643731537, 0.8473872643731537, 0.8473872643731537, 0.8473872643731537, 0.8473872643731537, 0.8473872643731537, 0.8473872643731537, 0.8473872643731537, 0.8473872643731537, 0.8473872643731537, 0.8473872643731537, 0.8473872643731537, 0.8473872643731537, 0.8473872643731537, 0.8496431344076878, 0.8496431344076878, 0.8496431344076878, 0.8496431344076878, 0.8496431344076878, 0.8496431344076878, 0.8496431344076878]}], \"recall_score_macro\": [{\"categories\": [\"0\", \"1\", \"2\", \"3\", \"4\", \"5\", \"6\", \"7\", \"8\", \"9\", \"10\", \"11\", \"12\", \"13\", \"14\", \"15\", \"16\", \"17\", \"18\", \"19\", \"20\", \"21\", \"22\", \"23\", \"24\", \"25\", \"26\", \"27\", \"28\", \"29\", \"30\", \"31\", \"32\", \"33\", \"34\", \"38\"], \"mode\": \"markers\", \"name\": \"recall_score_macro\", \"stepped\": false, \"type\": \"scatter\", \"data\": [0.7863316036015464, 0.7941127411221627, 0.8338412315640626, 0.8250339117216798, 0.8073291250172876, 0.7699646119972999, 0.8274258096818677, 0.8252312284010795, 0.8353231559396145, 0.8467683183026484, 0.8092279948432284, 0.788595147945067, 0.8395346309988347, 0.7949393456770281, 0.8189503599067554, 0.7822900412818088, 0.808098881404556, 0.8131429699745082, 0.8026456637525283, 0.8320690591976628, 0.8327781332320742, 0.8064456904309184, 0.8266129298314704, 0.826404596498137, 0.8379782563847835, 0.7623493044437033, 0.8044092957462574, 0.8298180402583089, 0.815029710632799, 0.8496050160252157, 0.8319970560135891, 0.836236709107246, 0.8386980501533129, 0.8358409072961701, 0.8262364127328767, 0.8331645398347394]}, {\"categories\": [\"0\", \"1\", \"2\", \"3\", \"4\", \"5\", \"6\", \"7\", \"8\", \"9\", \"10\", \"11\", \"12\", \"13\", \"14\", \"15\", \"16\", \"17\", \"18\", \"19\", \"20\", \"21\", \"22\", \"23\", \"24\", \"25\", \"26\", \"27\", \"28\", \"29\", \"30\", \"31\", \"32\", \"33\", \"34\", \"38\"], \"mode\": \"lines\", \"name\": \"recall_score_macro_max\", \"stepped\": true, \"type\": \"scatter\", \"data\": [0.7863316036015464, 0.7941127411221627, 0.8338412315640626, 0.8338412315640626, 0.8338412315640626, 0.8338412315640626, 0.8338412315640626, 0.8338412315640626, 0.8353231559396145, 0.8467683183026484, 0.8467683183026484, 0.8467683183026484, 0.8467683183026484, 0.8467683183026484, 0.8467683183026484, 0.8467683183026484, 0.8467683183026484, 0.8467683183026484, 0.8467683183026484, 0.8467683183026484, 0.8467683183026484, 0.8467683183026484, 0.8467683183026484, 0.8467683183026484, 0.8467683183026484, 0.8467683183026484, 0.8467683183026484, 0.8467683183026484, 0.8467683183026484, 0.8496050160252157, 0.8496050160252157, 0.8496050160252157, 0.8496050160252157, 0.8496050160252157, 0.8496050160252157, 0.8496050160252157]}], \"matthews_correlation\": [{\"categories\": [\"0\", \"1\", \"2\", \"3\", \"4\", \"5\", \"6\", \"7\", \"8\", \"9\", \"10\", \"11\", \"12\", \"13\", \"14\", \"15\", \"16\", \"17\", \"18\", \"19\", \"20\", \"21\", \"22\", \"23\", \"24\", \"25\", \"26\", \"27\", \"28\", \"29\", \"30\", \"31\", \"32\", \"33\", \"34\", \"38\"], \"mode\": \"markers\", \"name\": \"matthews_correlation\", \"stepped\": false, \"type\": \"scatter\", \"data\": [0.5770457387679374, 0.5935147132973844, 0.671536382682875, 0.6529473670856846, 0.6309153009436217, 0.5510009628200538, 0.6608232055561218, 0.6538564375937052, 0.6814640746458217, 0.7015471142424461, 0.6254141780847273, 0.5799962383545447, 0.6860719312127875, 0.5928978604191759, 0.6408127921960206, 0.5692798346620631, 0.6221854060390518, 0.6409036827864535, 0.6089621710889566, 0.6715862358820237, 0.6736266611325761, 0.6203922833959217, 0.6591637968589789, 0.6598366361413641, 0.6815273355909921, 0.5356742672075692, 0.6107108377437218, 0.6613634245673836, 0.6318275196576936, 0.7113898990631424, 0.6620105621712578, 0.6827997687319873, 0.6914644383302722, 0.6862067395250497, 0.6560950156437007, 0.676964879074445]}, {\"categories\": [\"0\", \"1\", \"2\", \"3\", \"4\", \"5\", \"6\", \"7\", \"8\", \"9\", \"10\", \"11\", \"12\", \"13\", \"14\", \"15\", \"16\", \"17\", \"18\", \"19\", \"20\", \"21\", \"22\", \"23\", \"24\", \"25\", \"26\", \"27\", \"28\", \"29\", \"30\", \"31\", \"32\", \"33\", \"34\", \"38\"], \"mode\": \"lines\", \"name\": \"matthews_correlation_max\", \"stepped\": true, \"type\": \"scatter\", \"data\": [0.5770457387679374, 0.5935147132973844, 0.671536382682875, 0.671536382682875, 0.671536382682875, 0.671536382682875, 0.671536382682875, 0.671536382682875, 0.6814640746458217, 0.7015471142424461, 0.7015471142424461, 0.7015471142424461, 0.7015471142424461, 0.7015471142424461, 0.7015471142424461, 0.7015471142424461, 0.7015471142424461, 0.7015471142424461, 0.7015471142424461, 0.7015471142424461, 0.7015471142424461, 0.7015471142424461, 0.7015471142424461, 0.7015471142424461, 0.7015471142424461, 0.7015471142424461, 0.7015471142424461, 0.7015471142424461, 0.7015471142424461, 0.7113898990631424, 0.7113898990631424, 0.7113898990631424, 0.7113898990631424, 0.7113898990631424, 0.7113898990631424, 0.7113898990631424]}], \"average_precision_score_weighted\": [{\"categories\": [\"0\", \"1\", \"2\", \"3\", \"4\", \"5\", \"6\", \"7\", \"8\", \"9\", \"10\", \"11\", \"12\", \"13\", \"14\", \"15\", \"16\", \"17\", \"18\", \"19\", \"20\", \"21\", \"22\", \"23\", \"24\", \"25\", \"26\", \"27\", \"28\", \"29\", \"30\", \"31\", \"32\", \"33\", \"34\", \"38\"], \"mode\": \"markers\", \"name\": \"average_precision_score_weighted\", \"stepped\": false, \"type\": \"scatter\", \"data\": [0.8702581274333561, 0.8940130401907899, 0.9109732700780475, 0.9089346160026537, 0.8971487167398557, 0.8910847817144439, 0.9133412463668643, 0.9122268536258819, 0.9167730002367817, 0.9250265615368498, 0.8797721822503085, 0.883878723749751, 0.9191885468440306, 0.8725599422509843, 0.9069607201929089, 0.8692959142942629, 0.8997620608229664, 0.9102814059233433, 0.9032951611936323, 0.9133596918359753, 0.9128296625861637, 0.9020957542846102, 0.9091949579161165, 0.9151323732029993, 0.922931195851163, 0.8682155516471667, 0.8883214444871099, 0.9072286661491441, 0.892586320836252, 0.9213796843212693, 0.9198147854551657, 0.9127591325322312, 0.9211502152901003, 0.9192541617568537, 0.9215966386490699, 0.930488248537657]}, {\"categories\": [\"0\", \"1\", \"2\", \"3\", \"4\", \"5\", \"6\", \"7\", \"8\", \"9\", \"10\", \"11\", \"12\", \"13\", \"14\", \"15\", \"16\", \"17\", \"18\", \"19\", \"20\", \"21\", \"22\", \"23\", \"24\", \"25\", \"26\", \"27\", \"28\", \"29\", \"30\", \"31\", \"32\", \"33\", \"34\", \"38\"], \"mode\": \"lines\", \"name\": \"average_precision_score_weighted_max\", \"stepped\": true, \"type\": \"scatter\", \"data\": [0.8702581274333561, 0.8940130401907899, 0.9109732700780475, 0.9109732700780475, 0.9109732700780475, 0.9109732700780475, 0.9133412463668643, 0.9133412463668643, 0.9167730002367817, 0.9250265615368498, 0.9250265615368498, 0.9250265615368498, 0.9250265615368498, 0.9250265615368498, 0.9250265615368498, 0.9250265615368498, 0.9250265615368498, 0.9250265615368498, 0.9250265615368498, 0.9250265615368498, 0.9250265615368498, 0.9250265615368498, 0.9250265615368498, 0.9250265615368498, 0.9250265615368498, 0.9250265615368498, 0.9250265615368498, 0.9250265615368498, 0.9250265615368498, 0.9250265615368498, 0.9250265615368498, 0.9250265615368498, 0.9250265615368498, 0.9250265615368498, 0.9250265615368498, 0.930488248537657]}], \"average_precision_score_micro\": [{\"categories\": [\"0\", \"1\", \"2\", \"3\", \"4\", \"5\", \"6\", \"7\", \"8\", \"9\", \"10\", \"11\", \"12\", \"13\", \"14\", \"15\", \"16\", \"17\", \"18\", \"19\", \"20\", \"21\", \"22\", \"23\", \"24\", \"25\", \"26\", \"27\", \"28\", \"29\", \"30\", \"31\", \"32\", \"33\", \"34\", \"38\"], \"mode\": \"markers\", \"name\": \"average_precision_score_micro\", \"stepped\": false, \"type\": \"scatter\", \"data\": [0.8718940648671548, 0.892224614148503, 0.9077312015989962, 0.9031851192340126, 0.8889748395783761, 0.8835149321786118, 0.9066668112280057, 0.9033960237214682, 0.9102640224668793, 0.9146405096724063, 0.8763841397686359, 0.8759898421724298, 0.9129265490988917, 0.865160669232738, 0.9063946544582159, 0.8714663101372795, 0.8872295912230242, 0.9042691349271165, 0.8983138998883178, 0.9107081650308295, 0.9091742828790366, 0.8936696841184301, 0.9049353569132143, 0.9103088029764868, 0.9178743299592128, 0.8521212936672254, 0.8745912569152947, 0.9037750266826924, 0.8887184363880418, 0.9143743277684923, 0.9164850992273335, 0.9092015441916326, 0.9143292487351701, 0.9125933194844013, 0.9168222585532954, 0.9212735870621731]}, {\"categories\": [\"0\", \"1\", \"2\", \"3\", \"4\", \"5\", \"6\", \"7\", \"8\", \"9\", \"10\", \"11\", \"12\", \"13\", \"14\", \"15\", \"16\", \"17\", \"18\", \"19\", \"20\", \"21\", \"22\", \"23\", \"24\", \"25\", \"26\", \"27\", \"28\", \"29\", \"30\", \"31\", \"32\", \"33\", \"34\", \"38\"], \"mode\": \"lines\", \"name\": \"average_precision_score_micro_max\", \"stepped\": true, \"type\": \"scatter\", \"data\": [0.8718940648671548, 0.892224614148503, 0.9077312015989962, 0.9077312015989962, 0.9077312015989962, 0.9077312015989962, 0.9077312015989962, 0.9077312015989962, 0.9102640224668793, 0.9146405096724063, 0.9146405096724063, 0.9146405096724063, 0.9146405096724063, 0.9146405096724063, 0.9146405096724063, 0.9146405096724063, 0.9146405096724063, 0.9146405096724063, 0.9146405096724063, 0.9146405096724063, 0.9146405096724063, 0.9146405096724063, 0.9146405096724063, 0.9146405096724063, 0.9178743299592128, 0.9178743299592128, 0.9178743299592128, 0.9178743299592128, 0.9178743299592128, 0.9178743299592128, 0.9178743299592128, 0.9178743299592128, 0.9178743299592128, 0.9178743299592128, 0.9178743299592128, 0.9212735870621731]}], \"AUC_weighted\": [{\"categories\": [\"0\", \"1\", \"2\", \"3\", \"4\", \"5\", \"6\", \"7\", \"8\", \"9\", \"10\", \"11\", \"12\", \"13\", \"14\", \"15\", \"16\", \"17\", \"18\", \"19\", \"20\", \"21\", \"22\", \"23\", \"24\", \"25\", \"26\", \"27\", \"28\", \"29\", \"30\", \"31\", \"32\", \"33\", \"34\", \"38\"], \"mode\": \"markers\", \"name\": \"AUC_weighted\", \"stepped\": false, \"type\": \"scatter\", \"data\": [0.8656393683100239, 0.8862001396201405, 0.9044581045882589, 0.9045612442566007, 0.8892082925874762, 0.8849015725341307, 0.9094671794630618, 0.9081873435907157, 0.9141577521308875, 0.9268545300233706, 0.8800041891981489, 0.8796529761475476, 0.9159921562341152, 0.8686131605553034, 0.9002063859128725, 0.8726555848935019, 0.8965329212768506, 0.9093588353894845, 0.899229944002047, 0.9099761775773929, 0.9108741925039583, 0.8984386794596879, 0.9029828043250587, 0.9092253250305076, 0.9216167027853202, 0.8696040240925298, 0.8804041305121553, 0.9044943552437543, 0.8842268355716232, 0.9177651935512557, 0.9178512525934461, 0.9120644961677137, 0.9174907411279403, 0.9163531062991425, 0.9200620954156278, 0.9302478776336628]}, {\"categories\": [\"0\", \"1\", \"2\", \"3\", \"4\", \"5\", \"6\", \"7\", \"8\", \"9\", \"10\", \"11\", \"12\", \"13\", \"14\", \"15\", \"16\", \"17\", \"18\", \"19\", \"20\", \"21\", \"22\", \"23\", \"24\", \"25\", \"26\", \"27\", \"28\", \"29\", \"30\", \"31\", \"32\", \"33\", \"34\", \"38\"], \"mode\": \"lines\", \"name\": \"AUC_weighted_max\", \"stepped\": true, \"type\": \"scatter\", \"data\": [0.8656393683100239, 0.8862001396201405, 0.9044581045882589, 0.9045612442566007, 0.9045612442566007, 0.9045612442566007, 0.9094671794630618, 0.9094671794630618, 0.9141577521308875, 0.9268545300233706, 0.9268545300233706, 0.9268545300233706, 0.9268545300233706, 0.9268545300233706, 0.9268545300233706, 0.9268545300233706, 0.9268545300233706, 0.9268545300233706, 0.9268545300233706, 0.9268545300233706, 0.9268545300233706, 0.9268545300233706, 0.9268545300233706, 0.9268545300233706, 0.9268545300233706, 0.9268545300233706, 0.9268545300233706, 0.9268545300233706, 0.9268545300233706, 0.9268545300233706, 0.9268545300233706, 0.9268545300233706, 0.9268545300233706, 0.9268545300233706, 0.9268545300233706, 0.9302478776336628]}], \"AUC_micro\": [{\"categories\": [\"0\", \"1\", \"2\", \"3\", \"4\", \"5\", \"6\", \"7\", \"8\", \"9\", \"10\", \"11\", \"12\", \"13\", \"14\", \"15\", \"16\", \"17\", \"18\", \"19\", \"20\", \"21\", \"22\", \"23\", \"24\", \"25\", \"26\", \"27\", \"28\", \"29\", \"30\", \"31\", \"32\", \"33\", \"34\", \"38\"], \"mode\": \"markers\", \"name\": \"AUC_micro\", \"stepped\": false, \"type\": \"scatter\", \"data\": [0.8718657021708619, 0.8879208247484248, 0.9062582340470005, 0.9037017826749082, 0.8876660843859178, 0.8804226163814984, 0.906216250111977, 0.9028445161097673, 0.9106475857744334, 0.9204294395174536, 0.8830378034578519, 0.8759903699722298, 0.913390157962316, 0.8704334408313178, 0.9014601361641136, 0.8751691898832453, 0.8879750365791754, 0.907928528770641, 0.8979054764250949, 0.9118693600883873, 0.9117799277374662, 0.8952379139418914, 0.903106019887127, 0.9081051240705904, 0.9187966496461526, 0.8578733315417002, 0.8711285646033025, 0.9045784735286213, 0.8862929917286273, 0.9142817343008153, 0.916291229956105, 0.9109863387978143, 0.9145378333184031, 0.9128264504762758, 0.9167198632386754, 0.924200901788647]}, {\"categories\": [\"0\", \"1\", \"2\", \"3\", \"4\", \"5\", \"6\", \"7\", \"8\", \"9\", \"10\", \"11\", \"12\", \"13\", \"14\", \"15\", \"16\", \"17\", \"18\", \"19\", \"20\", \"21\", \"22\", \"23\", \"24\", \"25\", \"26\", \"27\", \"28\", \"29\", \"30\", \"31\", \"32\", \"33\", \"34\", \"38\"], \"mode\": \"lines\", \"name\": \"AUC_micro_max\", \"stepped\": true, \"type\": \"scatter\", \"data\": [0.8718657021708619, 0.8879208247484248, 0.9062582340470005, 0.9062582340470005, 0.9062582340470005, 0.9062582340470005, 0.9062582340470005, 0.9062582340470005, 0.9106475857744334, 0.9204294395174536, 0.9204294395174536, 0.9204294395174536, 0.9204294395174536, 0.9204294395174536, 0.9204294395174536, 0.9204294395174536, 0.9204294395174536, 0.9204294395174536, 0.9204294395174536, 0.9204294395174536, 0.9204294395174536, 0.9204294395174536, 0.9204294395174536, 0.9204294395174536, 0.9204294395174536, 0.9204294395174536, 0.9204294395174536, 0.9204294395174536, 0.9204294395174536, 0.9204294395174536, 0.9204294395174536, 0.9204294395174536, 0.9204294395174536, 0.9204294395174536, 0.9204294395174536, 0.924200901788647]}], \"precision_score_micro\": [{\"categories\": [\"0\", \"1\", \"2\", \"3\", \"4\", \"5\", \"6\", \"7\", \"8\", \"9\", \"10\", \"11\", \"12\", \"13\", \"14\", \"15\", \"16\", \"17\", \"18\", \"19\", \"20\", \"21\", \"22\", \"23\", \"24\", \"25\", \"26\", \"27\", \"28\", \"29\", \"30\", \"31\", \"32\", \"33\", \"34\", \"38\"], \"mode\": \"markers\", \"name\": \"precision_score_micro\", \"stepped\": false, \"type\": \"scatter\", \"data\": [0.7918579234972677, 0.7985245901639344, 0.8383060109289617, 0.8281967213114754, 0.8184153005464481, 0.7756284153005465, 0.8314754098360655, 0.8283060109289618, 0.8414207650273224, 0.8515300546448088, 0.8149180327868851, 0.7921857923497269, 0.8413114754098361, 0.7985792349726776, 0.821639344262295, 0.7856284153005465, 0.8083060109289617, 0.8215846994535518, 0.8050819672131148, 0.8382513661202186, 0.8382513661202186, 0.8117486338797815, 0.8315300546448088, 0.8315300546448088, 0.8414207650273223, 0.7690710382513661, 0.8053551912568306, 0.8317486338797815, 0.8183606557377049, 0.8546448087431694, 0.831584699453552, 0.8414754098360655, 0.8447540983606558, 0.8414207650273224, 0.8281420765027322, 0.8381420765027322]}, {\"categories\": [\"0\", \"1\", \"2\", \"3\", \"4\", \"5\", \"6\", \"7\", \"8\", \"9\", \"10\", \"11\", \"12\", \"13\", \"14\", \"15\", \"16\", \"17\", \"18\", \"19\", \"20\", \"21\", \"22\", \"23\", \"24\", \"25\", \"26\", \"27\", \"28\", \"29\", \"30\", \"31\", \"32\", \"33\", \"34\", \"38\"], \"mode\": \"lines\", \"name\": \"precision_score_micro_max\", \"stepped\": true, \"type\": \"scatter\", \"data\": [0.7918579234972677, 0.7985245901639344, 0.8383060109289617, 0.8383060109289617, 0.8383060109289617, 0.8383060109289617, 0.8383060109289617, 0.8383060109289617, 0.8414207650273224, 0.8515300546448088, 0.8515300546448088, 0.8515300546448088, 0.8515300546448088, 0.8515300546448088, 0.8515300546448088, 0.8515300546448088, 0.8515300546448088, 0.8515300546448088, 0.8515300546448088, 0.8515300546448088, 0.8515300546448088, 0.8515300546448088, 0.8515300546448088, 0.8515300546448088, 0.8515300546448088, 0.8515300546448088, 0.8515300546448088, 0.8515300546448088, 0.8515300546448088, 0.8546448087431694, 0.8546448087431694, 0.8546448087431694, 0.8546448087431694, 0.8546448087431694, 0.8546448087431694, 0.8546448087431694]}], \"recall_score_micro\": [{\"categories\": [\"0\", \"1\", \"2\", \"3\", \"4\", \"5\", \"6\", \"7\", \"8\", \"9\", \"10\", \"11\", \"12\", \"13\", \"14\", \"15\", \"16\", \"17\", \"18\", \"19\", \"20\", \"21\", \"22\", \"23\", \"24\", \"25\", \"26\", \"27\", \"28\", \"29\", \"30\", \"31\", \"32\", \"33\", \"34\", \"38\"], \"mode\": \"markers\", \"name\": \"recall_score_micro\", \"stepped\": false, \"type\": \"scatter\", \"data\": [0.7918579234972677, 0.7985245901639344, 0.8383060109289617, 0.8281967213114754, 0.8184153005464481, 0.7756284153005465, 0.8314754098360655, 0.8283060109289618, 0.8414207650273224, 0.8515300546448088, 0.8149180327868851, 0.7921857923497269, 0.8413114754098361, 0.7985792349726776, 0.821639344262295, 0.7856284153005465, 0.8083060109289617, 0.8215846994535518, 0.8050819672131148, 0.8382513661202186, 0.8382513661202186, 0.8117486338797815, 0.8315300546448088, 0.8315300546448088, 0.8414207650273223, 0.7690710382513661, 0.8053551912568306, 0.8317486338797815, 0.8183606557377049, 0.8546448087431694, 0.831584699453552, 0.8414754098360655, 0.8447540983606558, 0.8414207650273224, 0.8281420765027322, 0.8381420765027322]}, {\"categories\": [\"0\", \"1\", \"2\", \"3\", \"4\", \"5\", \"6\", \"7\", \"8\", \"9\", \"10\", \"11\", \"12\", \"13\", \"14\", \"15\", \"16\", \"17\", \"18\", \"19\", \"20\", \"21\", \"22\", \"23\", \"24\", \"25\", \"26\", \"27\", \"28\", \"29\", \"30\", \"31\", \"32\", \"33\", \"34\", \"38\"], \"mode\": \"lines\", \"name\": \"recall_score_micro_max\", \"stepped\": true, \"type\": \"scatter\", \"data\": [0.7918579234972677, 0.7985245901639344, 0.8383060109289617, 0.8383060109289617, 0.8383060109289617, 0.8383060109289617, 0.8383060109289617, 0.8383060109289617, 0.8414207650273224, 0.8515300546448088, 0.8515300546448088, 0.8515300546448088, 0.8515300546448088, 0.8515300546448088, 0.8515300546448088, 0.8515300546448088, 0.8515300546448088, 0.8515300546448088, 0.8515300546448088, 0.8515300546448088, 0.8515300546448088, 0.8515300546448088, 0.8515300546448088, 0.8515300546448088, 0.8515300546448088, 0.8515300546448088, 0.8515300546448088, 0.8515300546448088, 0.8515300546448088, 0.8546448087431694, 0.8546448087431694, 0.8546448087431694, 0.8546448087431694, 0.8546448087431694, 0.8546448087431694, 0.8546448087431694]}], \"weighted_accuracy\": [{\"categories\": [\"0\", \"1\", \"2\", \"3\", \"4\", \"5\", \"6\", \"7\", \"8\", \"9\", \"10\", \"11\", \"12\", \"13\", \"14\", \"15\", \"16\", \"17\", \"18\", \"19\", \"20\", \"21\", \"22\", \"23\", \"24\", \"25\", \"26\", \"27\", \"28\", \"29\", \"30\", \"31\", \"32\", \"33\", \"34\", \"38\"], \"mode\": \"markers\", \"name\": \"weighted_accuracy\", \"stepped\": false, \"type\": \"scatter\", \"data\": [0.7968507434885812, 0.802366673881982, 0.8422440002656465, 0.830970080421635, 0.8284279003197474, 0.7805383581935386, 0.8350731988621787, 0.830943063364751, 0.8469526049951284, 0.8556919890075442, 0.8199772520624057, 0.7952682695798677, 0.8427837889591606, 0.8018071447129824, 0.8239998480362158, 0.7883531472412508, 0.808277820369385, 0.8290402820297486, 0.8071215901202111, 0.8437335792558798, 0.843135314776317, 0.8164545308792119, 0.8358748708699751, 0.8360824331797252, 0.8443536466696298, 0.7750373687221349, 0.8059786030254283, 0.8333505111357054, 0.8212907082127497, 0.8590224853393597, 0.831126082211607, 0.8461120068806449, 0.8500261349131011, 0.8462423511293174, 0.8296864317653851, 0.8424486549964036]}, {\"categories\": [\"0\", \"1\", \"2\", \"3\", \"4\", \"5\", \"6\", \"7\", \"8\", \"9\", \"10\", \"11\", \"12\", \"13\", \"14\", \"15\", \"16\", \"17\", \"18\", \"19\", \"20\", \"21\", \"22\", \"23\", \"24\", \"25\", \"26\", \"27\", \"28\", \"29\", \"30\", \"31\", \"32\", \"33\", \"34\", \"38\"], \"mode\": \"lines\", \"name\": \"weighted_accuracy_max\", \"stepped\": true, \"type\": \"scatter\", \"data\": [0.7968507434885812, 0.802366673881982, 0.8422440002656465, 0.8422440002656465, 0.8422440002656465, 0.8422440002656465, 0.8422440002656465, 0.8422440002656465, 0.8469526049951284, 0.8556919890075442, 0.8556919890075442, 0.8556919890075442, 0.8556919890075442, 0.8556919890075442, 0.8556919890075442, 0.8556919890075442, 0.8556919890075442, 0.8556919890075442, 0.8556919890075442, 0.8556919890075442, 0.8556919890075442, 0.8556919890075442, 0.8556919890075442, 0.8556919890075442, 0.8556919890075442, 0.8556919890075442, 0.8556919890075442, 0.8556919890075442, 0.8556919890075442, 0.8590224853393597, 0.8590224853393597, 0.8590224853393597, 0.8590224853393597, 0.8590224853393597, 0.8590224853393597, 0.8590224853393597]}], \"recall_score_weighted\": [{\"categories\": [\"0\", \"1\", \"2\", \"3\", \"4\", \"5\", \"6\", \"7\", \"8\", \"9\", \"10\", \"11\", \"12\", \"13\", \"14\", \"15\", \"16\", \"17\", \"18\", \"19\", \"20\", \"21\", \"22\", \"23\", \"24\", \"25\", \"26\", \"27\", \"28\", \"29\", \"30\", \"31\", \"32\", \"33\", \"34\", \"38\"], \"mode\": \"markers\", \"name\": \"recall_score_weighted\", \"stepped\": false, \"type\": \"scatter\", \"data\": [0.7918579234972677, 0.7985245901639344, 0.8383060109289617, 0.8281967213114754, 0.8184153005464481, 0.7756284153005465, 0.8314754098360655, 0.8283060109289618, 0.8414207650273224, 0.8515300546448088, 0.8149180327868851, 0.7921857923497269, 0.8413114754098361, 0.7985792349726776, 0.821639344262295, 0.7856284153005465, 0.8083060109289617, 0.8215846994535518, 0.8050819672131148, 0.8382513661202186, 0.8382513661202186, 0.8117486338797815, 0.8315300546448088, 0.8315300546448088, 0.8414207650273223, 0.7690710382513661, 0.8053551912568306, 0.8317486338797815, 0.8183606557377049, 0.8546448087431694, 0.831584699453552, 0.8414754098360655, 0.8447540983606558, 0.8414207650273224, 0.8281420765027322, 0.8381420765027322]}, {\"categories\": [\"0\", \"1\", \"2\", \"3\", \"4\", \"5\", \"6\", \"7\", \"8\", \"9\", \"10\", \"11\", \"12\", \"13\", \"14\", \"15\", \"16\", \"17\", \"18\", \"19\", \"20\", \"21\", \"22\", \"23\", \"24\", \"25\", \"26\", \"27\", \"28\", \"29\", \"30\", \"31\", \"32\", \"33\", \"34\", \"38\"], \"mode\": \"lines\", \"name\": \"recall_score_weighted_max\", \"stepped\": true, \"type\": \"scatter\", \"data\": [0.7918579234972677, 0.7985245901639344, 0.8383060109289617, 0.8383060109289617, 0.8383060109289617, 0.8383060109289617, 0.8383060109289617, 0.8383060109289617, 0.8414207650273224, 0.8515300546448088, 0.8515300546448088, 0.8515300546448088, 0.8515300546448088, 0.8515300546448088, 0.8515300546448088, 0.8515300546448088, 0.8515300546448088, 0.8515300546448088, 0.8515300546448088, 0.8515300546448088, 0.8515300546448088, 0.8515300546448088, 0.8515300546448088, 0.8515300546448088, 0.8515300546448088, 0.8515300546448088, 0.8515300546448088, 0.8515300546448088, 0.8515300546448088, 0.8546448087431694, 0.8546448087431694, 0.8546448087431694, 0.8546448087431694, 0.8546448087431694, 0.8546448087431694, 0.8546448087431694]}], \"log_loss\": [{\"categories\": [\"0\", \"1\", \"2\", \"3\", \"4\", \"5\", \"6\", \"7\", \"8\", \"9\", \"10\", \"11\", \"12\", \"13\", \"14\", \"15\", \"16\", \"17\", \"18\", \"19\", \"20\", \"21\", \"22\", \"23\", \"24\", \"25\", \"26\", \"27\", \"28\", \"29\", \"30\", \"31\", \"32\", \"33\", \"34\", \"38\"], \"mode\": \"markers\", \"name\": \"log_loss\", \"stepped\": false, \"type\": \"scatter\", \"data\": [0.5547666100444208, 0.4604225104481777, 0.41148231552728465, 0.40356103589047027, 0.4382527332223913, 0.434396675453967, 0.394335788766372, 0.4173272407902666, 0.5052746327172521, 0.46219854593968746, 0.46960342982256736, 0.4650847857660224, 0.5376747157536944, 0.5142827906847661, 0.3994413252288549, 0.5529263730791583, 0.4395702617953763, 0.4063478381055209, 0.4487977725656339, 0.38484407552300803, 0.3806991717601625, 0.4309167980292017, 0.39353928771318814, 0.3871405487953844, 0.36524730696319896, 0.5442168499019304, 0.4736635093655332, 0.5165502445033654, 0.426783852097451, 0.38465024389483193, 0.6498056155804885, 0.3883618907929713, 0.38816581087259727, 0.39136868255969715, 0.36877454238094765, 0.46170742159165173]}, {\"categories\": [\"0\", \"1\", \"2\", \"3\", \"4\", \"5\", \"6\", \"7\", \"8\", \"9\", \"10\", \"11\", \"12\", \"13\", \"14\", \"15\", \"16\", \"17\", \"18\", \"19\", \"20\", \"21\", \"22\", \"23\", \"24\", \"25\", \"26\", \"27\", \"28\", \"29\", \"30\", \"31\", \"32\", \"33\", \"34\", \"38\"], \"mode\": \"lines\", \"name\": \"log_loss_min\", \"stepped\": true, \"type\": \"scatter\", \"data\": [0.5547666100444208, 0.4604225104481777, 0.41148231552728465, 0.40356103589047027, 0.40356103589047027, 0.40356103589047027, 0.394335788766372, 0.394335788766372, 0.394335788766372, 0.394335788766372, 0.394335788766372, 0.394335788766372, 0.394335788766372, 0.394335788766372, 0.394335788766372, 0.394335788766372, 0.394335788766372, 0.394335788766372, 0.394335788766372, 0.38484407552300803, 0.3806991717601625, 0.3806991717601625, 0.3806991717601625, 0.3806991717601625, 0.36524730696319896, 0.36524730696319896, 0.36524730696319896, 0.36524730696319896, 0.36524730696319896, 0.36524730696319896, 0.36524730696319896, 0.36524730696319896, 0.36524730696319896, 0.36524730696319896, 0.36524730696319896, 0.36524730696319896]}], \"accuracy\": [{\"categories\": [\"0\", \"1\", \"2\", \"3\", \"4\", \"5\", \"6\", \"7\", \"8\", \"9\", \"10\", \"11\", \"12\", \"13\", \"14\", \"15\", \"16\", \"17\", \"18\", \"19\", \"20\", \"21\", \"22\", \"23\", \"24\", \"25\", \"26\", \"27\", \"28\", \"29\", \"30\", \"31\", \"32\", \"33\", \"34\", \"38\"], \"mode\": \"markers\", \"name\": \"accuracy\", \"stepped\": false, \"type\": \"scatter\", \"data\": [0.7918579234972677, 0.7985245901639344, 0.8383060109289617, 0.8281967213114754, 0.8184153005464481, 0.7756284153005465, 0.8314754098360655, 0.8283060109289618, 0.8414207650273224, 0.8515300546448088, 0.8149180327868851, 0.7921857923497269, 0.8413114754098361, 0.7985792349726776, 0.821639344262295, 0.7856284153005465, 0.8083060109289617, 0.8215846994535518, 0.8050819672131148, 0.8382513661202186, 0.8382513661202186, 0.8117486338797815, 0.8315300546448088, 0.8315300546448088, 0.8414207650273223, 0.7690710382513661, 0.8053551912568306, 0.8317486338797815, 0.8183606557377049, 0.8546448087431694, 0.831584699453552, 0.8414754098360655, 0.8447540983606558, 0.8414207650273224, 0.8281420765027322, 0.8381420765027322]}, {\"categories\": [\"0\", \"1\", \"2\", \"3\", \"4\", \"5\", \"6\", \"7\", \"8\", \"9\", \"10\", \"11\", \"12\", \"13\", \"14\", \"15\", \"16\", \"17\", \"18\", \"19\", \"20\", \"21\", \"22\", \"23\", \"24\", \"25\", \"26\", \"27\", \"28\", \"29\", \"30\", \"31\", \"32\", \"33\", \"34\", \"38\"], \"mode\": \"lines\", \"name\": \"accuracy_max\", \"stepped\": true, \"type\": \"scatter\", \"data\": [0.7918579234972677, 0.7985245901639344, 0.8383060109289617, 0.8383060109289617, 0.8383060109289617, 0.8383060109289617, 0.8383060109289617, 0.8383060109289617, 0.8414207650273224, 0.8515300546448088, 0.8515300546448088, 0.8515300546448088, 0.8515300546448088, 0.8515300546448088, 0.8515300546448088, 0.8515300546448088, 0.8515300546448088, 0.8515300546448088, 0.8515300546448088, 0.8515300546448088, 0.8515300546448088, 0.8515300546448088, 0.8515300546448088, 0.8515300546448088, 0.8515300546448088, 0.8515300546448088, 0.8515300546448088, 0.8515300546448088, 0.8515300546448088, 0.8546448087431694, 0.8546448087431694, 0.8546448087431694, 0.8546448087431694, 0.8546448087431694, 0.8546448087431694, 0.8546448087431694]}], \"precision_score_macro\": [{\"categories\": [\"0\", \"1\", \"2\", \"3\", \"4\", \"5\", \"6\", \"7\", \"8\", \"9\", \"10\", \"11\", \"12\", \"13\", \"14\", \"15\", \"16\", \"17\", \"18\", \"19\", \"20\", \"21\", \"22\", \"23\", \"24\", \"25\", \"26\", \"27\", \"28\", \"29\", \"30\", \"31\", \"32\", \"33\", \"34\", \"38\"], \"mode\": \"markers\", \"name\": \"precision_score_macro\", \"stepped\": false, \"type\": \"scatter\", \"data\": [0.7907492017786135, 0.799537360968776, 0.8377724812283537, 0.827958900748438, 0.824138888888889, 0.7814701851915542, 0.8335000282148141, 0.8287117449370982, 0.8462734208896332, 0.8550504898341765, 0.8163373937180334, 0.7914618727718649, 0.8466475378399696, 0.7980035434995113, 0.8219083731245937, 0.7870963111965434, 0.814162094286259, 0.8286006221329112, 0.8063980384226458, 0.8397611744228625, 0.8410205974706884, 0.8141126638208813, 0.8326998164150383, 0.8335880023032243, 0.8436996219221395, 0.7736325148359852, 0.8063366293613546, 0.8315903300226568, 0.8168336795707486, 0.8622274008683745, 0.8300350804677507, 0.8468672540774115, 0.8533951022565824, 0.85099009985158, 0.8299372449109622, 0.8442115632189162]}, {\"categories\": [\"0\", \"1\", \"2\", \"3\", \"4\", \"5\", \"6\", \"7\", \"8\", \"9\", \"10\", \"11\", \"12\", \"13\", \"14\", \"15\", \"16\", \"17\", \"18\", \"19\", \"20\", \"21\", \"22\", \"23\", \"24\", \"25\", \"26\", \"27\", \"28\", \"29\", \"30\", \"31\", \"32\", \"33\", \"34\", \"38\"], \"mode\": \"lines\", \"name\": \"precision_score_macro_max\", \"stepped\": true, \"type\": \"scatter\", \"data\": [0.7907492017786135, 0.799537360968776, 0.8377724812283537, 0.8377724812283537, 0.8377724812283537, 0.8377724812283537, 0.8377724812283537, 0.8377724812283537, 0.8462734208896332, 0.8550504898341765, 0.8550504898341765, 0.8550504898341765, 0.8550504898341765, 0.8550504898341765, 0.8550504898341765, 0.8550504898341765, 0.8550504898341765, 0.8550504898341765, 0.8550504898341765, 0.8550504898341765, 0.8550504898341765, 0.8550504898341765, 0.8550504898341765, 0.8550504898341765, 0.8550504898341765, 0.8550504898341765, 0.8550504898341765, 0.8550504898341765, 0.8550504898341765, 0.8622274008683745, 0.8622274008683745, 0.8622274008683745, 0.8622274008683745, 0.8622274008683745, 0.8622274008683745, 0.8622274008683745]}], \"f1_score_weighted\": [{\"categories\": [\"0\", \"1\", \"2\", \"3\", \"4\", \"5\", \"6\", \"7\", \"8\", \"9\", \"10\", \"11\", \"12\", \"13\", \"14\", \"15\", \"16\", \"17\", \"18\", \"19\", \"20\", \"21\", \"22\", \"23\", \"24\", \"25\", \"26\", \"27\", \"28\", \"29\", \"30\", \"31\", \"32\", \"33\", \"34\", \"38\"], \"mode\": \"markers\", \"name\": \"f1_score_weighted\", \"stepped\": false, \"type\": \"scatter\", \"data\": [0.7911533076732317, 0.7976303566304396, 0.837529602881137, 0.8278328446558078, 0.8156874885908796, 0.77347297630183, 0.8308971180503889, 0.8279022386513887, 0.8401400989617958, 0.8506373665791473, 0.8140547619977507, 0.791380106729088, 0.8407769062714138, 0.7981545625395954, 0.8213638327367836, 0.7842285723728486, 0.8074321128689522, 0.8192640740432718, 0.8047867269015191, 0.8370347500567383, 0.8371648762027203, 0.8105728029629902, 0.8308348044483536, 0.830726199549426, 0.8407663468254494, 0.7671057587474921, 0.8050176733813436, 0.8314848027655405, 0.8181317303093845, 0.85320547122494, 0.8317671963342533, 0.8403338410720826, 0.8427841145242077, 0.8394236555346872, 0.8278395236089612, 0.8368185742788142]}, {\"categories\": [\"0\", \"1\", \"2\", \"3\", \"4\", \"5\", \"6\", \"7\", \"8\", \"9\", \"10\", \"11\", \"12\", \"13\", \"14\", \"15\", \"16\", \"17\", \"18\", \"19\", \"20\", \"21\", \"22\", \"23\", \"24\", \"25\", \"26\", \"27\", \"28\", \"29\", \"30\", \"31\", \"32\", \"33\", \"34\", \"38\"], \"mode\": \"lines\", \"name\": \"f1_score_weighted_max\", \"stepped\": true, \"type\": \"scatter\", \"data\": [0.7911533076732317, 0.7976303566304396, 0.837529602881137, 0.837529602881137, 0.837529602881137, 0.837529602881137, 0.837529602881137, 0.837529602881137, 0.8401400989617958, 0.8506373665791473, 0.8506373665791473, 0.8506373665791473, 0.8506373665791473, 0.8506373665791473, 0.8506373665791473, 0.8506373665791473, 0.8506373665791473, 0.8506373665791473, 0.8506373665791473, 0.8506373665791473, 0.8506373665791473, 0.8506373665791473, 0.8506373665791473, 0.8506373665791473, 0.8506373665791473, 0.8506373665791473, 0.8506373665791473, 0.8506373665791473, 0.8506373665791473, 0.85320547122494, 0.85320547122494, 0.85320547122494, 0.85320547122494, 0.85320547122494, 0.85320547122494, 0.85320547122494]}], \"precision_score_weighted\": [{\"categories\": [\"0\", \"1\", \"2\", \"3\", \"4\", \"5\", \"6\", \"7\", \"8\", \"9\", \"10\", \"11\", \"12\", \"13\", \"14\", \"15\", \"16\", \"17\", \"18\", \"19\", \"20\", \"21\", \"22\", \"23\", \"24\", \"25\", \"26\", \"27\", \"28\", \"29\", \"30\", \"31\", \"32\", \"33\", \"34\", \"38\"], \"mode\": \"markers\", \"name\": \"precision_score_weighted\", \"stepped\": false, \"type\": \"scatter\", \"data\": [0.7938841181319484, 0.8029753752344378, 0.8411465810096169, 0.8318929276308739, 0.8240646630236794, 0.7840289430542876, 0.8356197399148579, 0.8314109833729809, 0.8469630264245946, 0.8563110207335359, 0.8189677303743084, 0.7967428074557722, 0.8492578366009509, 0.8012026692569727, 0.824701671039078, 0.792944936177645, 0.819199915242517, 0.8289469947518091, 0.8096972890626908, 0.8409134875634228, 0.8424176715401185, 0.8169048420339597, 0.8347192445825105, 0.8354366899286927, 0.8466035039713475, 0.7751725414862733, 0.8117144775324162, 0.8354676305158465, 0.8199882900582448, 0.8635929195126815, 0.8351459270589764, 0.847746473095941, 0.8545367186784738, 0.85248845829688, 0.8334565805712348, 0.8457822411146303]}, {\"categories\": [\"0\", \"1\", \"2\", \"3\", \"4\", \"5\", \"6\", \"7\", \"8\", \"9\", \"10\", \"11\", \"12\", \"13\", \"14\", \"15\", \"16\", \"17\", \"18\", \"19\", \"20\", \"21\", \"22\", \"23\", \"24\", \"25\", \"26\", \"27\", \"28\", \"29\", \"30\", \"31\", \"32\", \"33\", \"34\", \"38\"], \"mode\": \"lines\", \"name\": \"precision_score_weighted_max\", \"stepped\": true, \"type\": \"scatter\", \"data\": [0.7938841181319484, 0.8029753752344378, 0.8411465810096169, 0.8411465810096169, 0.8411465810096169, 0.8411465810096169, 0.8411465810096169, 0.8411465810096169, 0.8469630264245946, 0.8563110207335359, 0.8563110207335359, 0.8563110207335359, 0.8563110207335359, 0.8563110207335359, 0.8563110207335359, 0.8563110207335359, 0.8563110207335359, 0.8563110207335359, 0.8563110207335359, 0.8563110207335359, 0.8563110207335359, 0.8563110207335359, 0.8563110207335359, 0.8563110207335359, 0.8563110207335359, 0.8563110207335359, 0.8563110207335359, 0.8563110207335359, 0.8563110207335359, 0.8635929195126815, 0.8635929195126815, 0.8635929195126815, 0.8635929195126815, 0.8635929195126815, 0.8635929195126815, 0.8635929195126815]}], \"balanced_accuracy\": [{\"categories\": [\"0\", \"1\", \"2\", \"3\", \"4\", \"5\", \"6\", \"7\", \"8\", \"9\", \"10\", \"11\", \"12\", \"13\", \"14\", \"15\", \"16\", \"17\", \"18\", \"19\", \"20\", \"21\", \"22\", \"23\", \"24\", \"25\", \"26\", \"27\", \"28\", \"29\", \"30\", \"31\", \"32\", \"33\", \"34\", \"38\"], \"mode\": \"markers\", \"name\": \"balanced_accuracy\", \"stepped\": false, \"type\": \"scatter\", \"data\": [0.7863316036015464, 0.7941127411221627, 0.8338412315640626, 0.8250339117216798, 0.8073291250172876, 0.7699646119972999, 0.8274258096818677, 0.8252312284010795, 0.8353231559396145, 0.8467683183026484, 0.8092279948432284, 0.788595147945067, 0.8395346309988347, 0.7949393456770281, 0.8189503599067554, 0.7822900412818088, 0.808098881404556, 0.8131429699745082, 0.8026456637525283, 0.8320690591976628, 0.8327781332320742, 0.8064456904309184, 0.8266129298314704, 0.826404596498137, 0.8379782563847835, 0.7623493044437033, 0.8044092957462574, 0.8298180402583089, 0.815029710632799, 0.8496050160252157, 0.8319970560135891, 0.836236709107246, 0.8386980501533129, 0.8358409072961701, 0.8262364127328767, 0.8331645398347394]}, {\"categories\": [\"0\", \"1\", \"2\", \"3\", \"4\", \"5\", \"6\", \"7\", \"8\", \"9\", \"10\", \"11\", \"12\", \"13\", \"14\", \"15\", \"16\", \"17\", \"18\", \"19\", \"20\", \"21\", \"22\", \"23\", \"24\", \"25\", \"26\", \"27\", \"28\", \"29\", \"30\", \"31\", \"32\", \"33\", \"34\", \"38\"], \"mode\": \"lines\", \"name\": \"balanced_accuracy_max\", \"stepped\": true, \"type\": \"scatter\", \"data\": [0.7863316036015464, 0.7941127411221627, 0.8338412315640626, 0.8338412315640626, 0.8338412315640626, 0.8338412315640626, 0.8338412315640626, 0.8338412315640626, 0.8353231559396145, 0.8467683183026484, 0.8467683183026484, 0.8467683183026484, 0.8467683183026484, 0.8467683183026484, 0.8467683183026484, 0.8467683183026484, 0.8467683183026484, 0.8467683183026484, 0.8467683183026484, 0.8467683183026484, 0.8467683183026484, 0.8467683183026484, 0.8467683183026484, 0.8467683183026484, 0.8467683183026484, 0.8467683183026484, 0.8467683183026484, 0.8467683183026484, 0.8467683183026484, 0.8496050160252157, 0.8496050160252157, 0.8496050160252157, 0.8496050160252157, 0.8496050160252157, 0.8496050160252157, 0.8496050160252157]}], \"f1_score_micro\": [{\"categories\": [\"0\", \"1\", \"2\", \"3\", \"4\", \"5\", \"6\", \"7\", \"8\", \"9\", \"10\", \"11\", \"12\", \"13\", \"14\", \"15\", \"16\", \"17\", \"18\", \"19\", \"20\", \"21\", \"22\", \"23\", \"24\", \"25\", \"26\", \"27\", \"28\", \"29\", \"30\", \"31\", \"32\", \"33\", \"34\", \"38\"], \"mode\": \"markers\", \"name\": \"f1_score_micro\", \"stepped\": false, \"type\": \"scatter\", \"data\": [0.7918579234972677, 0.7985245901639344, 0.8383060109289617, 0.8281967213114754, 0.8184153005464481, 0.7756284153005465, 0.8314754098360655, 0.8283060109289618, 0.8414207650273224, 0.8515300546448088, 0.8149180327868851, 0.7921857923497269, 0.8413114754098361, 0.7985792349726776, 0.8216393442622951, 0.7856284153005466, 0.8083060109289617, 0.8215846994535518, 0.8050819672131148, 0.8382513661202186, 0.8382513661202186, 0.8117486338797815, 0.8315300546448089, 0.8315300546448088, 0.8414207650273224, 0.7690710382513661, 0.8053551912568306, 0.8317486338797815, 0.8183606557377049, 0.8546448087431694, 0.831584699453552, 0.8414754098360655, 0.8447540983606558, 0.8414207650273224, 0.8281420765027322, 0.8381420765027322]}, {\"categories\": [\"0\", \"1\", \"2\", \"3\", \"4\", \"5\", \"6\", \"7\", \"8\", \"9\", \"10\", \"11\", \"12\", \"13\", \"14\", \"15\", \"16\", \"17\", \"18\", \"19\", \"20\", \"21\", \"22\", \"23\", \"24\", \"25\", \"26\", \"27\", \"28\", \"29\", \"30\", \"31\", \"32\", \"33\", \"34\", \"38\"], \"mode\": \"lines\", \"name\": \"f1_score_micro_max\", \"stepped\": true, \"type\": \"scatter\", \"data\": [0.7918579234972677, 0.7985245901639344, 0.8383060109289617, 0.8383060109289617, 0.8383060109289617, 0.8383060109289617, 0.8383060109289617, 0.8383060109289617, 0.8414207650273224, 0.8515300546448088, 0.8515300546448088, 0.8515300546448088, 0.8515300546448088, 0.8515300546448088, 0.8515300546448088, 0.8515300546448088, 0.8515300546448088, 0.8515300546448088, 0.8515300546448088, 0.8515300546448088, 0.8515300546448088, 0.8515300546448088, 0.8515300546448088, 0.8515300546448088, 0.8515300546448088, 0.8515300546448088, 0.8515300546448088, 0.8515300546448088, 0.8515300546448088, 0.8546448087431694, 0.8546448087431694, 0.8546448087431694, 0.8546448087431694, 0.8546448087431694, 0.8546448087431694, 0.8546448087431694]}]}, \"metricName\": null, \"primaryMetricName\": \"AUC_weighted\", \"showLegend\": false}, \"run_metrics\": [{\"name\": \"experiment_status\", \"run_id\": \"AutoML_b3434009-d6ca-4b09-bb8f-6352e219dfb4\", \"categories\": [0, 1, 2, 3, 4, 5, 6, 7, 8, 9, 10, 11, 12, 13], \"series\": [{\"data\": [\"DatasetEvaluation\", \"FeaturesGeneration\", \"DatasetFeaturization\", \"DatasetFeaturizationCompleted\", \"DatasetCrossValidationSplit\", \"ModelSelection\", \"BestRunExplainModel\", \"ModelExplanationDataSetSetup\", \"PickSurrogateModel\", \"EngineeredFeatureExplanations\", \"EngineeredFeatureExplanations\", \"RawFeaturesExplanations\", \"RawFeaturesExplanations\", \"BestRunExplainModel\"]}]}, {\"name\": \"experiment_status_description\", \"run_id\": \"AutoML_b3434009-d6ca-4b09-bb8f-6352e219dfb4\", \"categories\": [0, 1, 2, 3, 4, 5, 6, 7, 8, 9, 10, 11, 12, 13], \"series\": [{\"data\": [\"Gathering dataset statistics.\", \"Generating features for the dataset.\", \"Beginning to fit featurizers and featurize the dataset.\", \"Completed fit featurizers and featurizing the dataset.\", \"Generating individually featurized CV splits.\", \"Beginning model selection.\", \"Best run model explanations started\", \"Model explanations data setup completed\", \"Choosing LightGBM as the surrogate model for explanations\", \"Computation of engineered features started\", \"Computation of engineered features completed\", \"Computation of raw features started\", \"Computation of raw features completed\", \"Best run model explanations completed\"]}]}, {\"name\": \"accuracy\", \"run_id\": \"AutoML_b3434009-d6ca-4b09-bb8f-6352e219dfb4\", \"categories\": [0], \"series\": [{\"data\": [0.8381420765027322]}]}, {\"name\": \"balanced_accuracy\", \"run_id\": \"AutoML_b3434009-d6ca-4b09-bb8f-6352e219dfb4\", \"categories\": [0], \"series\": [{\"data\": [0.8331645398347394]}]}, {\"name\": \"f1_score_macro\", \"run_id\": \"AutoML_b3434009-d6ca-4b09-bb8f-6352e219dfb4\", \"categories\": [0], \"series\": [{\"data\": [0.8331981762672676]}]}, {\"name\": \"recall_score_weighted\", \"run_id\": \"AutoML_b3434009-d6ca-4b09-bb8f-6352e219dfb4\", \"categories\": [0], \"series\": [{\"data\": [0.8381420765027322]}]}, {\"name\": \"AUC_macro\", \"run_id\": \"AutoML_b3434009-d6ca-4b09-bb8f-6352e219dfb4\", \"categories\": [0], \"series\": [{\"data\": [0.9302478776336628]}]}, {\"name\": \"log_loss\", \"run_id\": \"AutoML_b3434009-d6ca-4b09-bb8f-6352e219dfb4\", \"categories\": [0], \"series\": [{\"data\": [0.46170742159165173]}]}, {\"name\": \"f1_score_micro\", \"run_id\": \"AutoML_b3434009-d6ca-4b09-bb8f-6352e219dfb4\", \"categories\": [0], \"series\": [{\"data\": [0.8381420765027322]}]}, {\"name\": \"precision_score_micro\", \"run_id\": \"AutoML_b3434009-d6ca-4b09-bb8f-6352e219dfb4\", \"categories\": [0], \"series\": [{\"data\": [0.8381420765027322]}]}, {\"name\": \"recall_score_micro\", \"run_id\": \"AutoML_b3434009-d6ca-4b09-bb8f-6352e219dfb4\", \"categories\": [0], \"series\": [{\"data\": [0.8381420765027322]}]}, {\"name\": \"matthews_correlation\", \"run_id\": \"AutoML_b3434009-d6ca-4b09-bb8f-6352e219dfb4\", \"categories\": [0], \"series\": [{\"data\": [0.676964879074445]}]}, {\"name\": \"AUC_weighted\", \"run_id\": \"AutoML_b3434009-d6ca-4b09-bb8f-6352e219dfb4\", \"categories\": [0], \"series\": [{\"data\": [0.9302478776336628]}]}, {\"name\": \"AUC_micro\", \"run_id\": \"AutoML_b3434009-d6ca-4b09-bb8f-6352e219dfb4\", \"categories\": [0], \"series\": [{\"data\": [0.924200901788647]}]}, {\"name\": \"average_precision_score_macro\", \"run_id\": \"AutoML_b3434009-d6ca-4b09-bb8f-6352e219dfb4\", \"categories\": [0], \"series\": [{\"data\": [0.9285846720633604]}]}, {\"name\": \"precision_score_weighted\", \"run_id\": \"AutoML_b3434009-d6ca-4b09-bb8f-6352e219dfb4\", \"categories\": [0], \"series\": [{\"data\": [0.8457822411146303]}]}, {\"name\": \"f1_score_weighted\", \"run_id\": \"AutoML_b3434009-d6ca-4b09-bb8f-6352e219dfb4\", \"categories\": [0], \"series\": [{\"data\": [0.8368185742788142]}]}, {\"name\": \"average_precision_score_micro\", \"run_id\": \"AutoML_b3434009-d6ca-4b09-bb8f-6352e219dfb4\", \"categories\": [0], \"series\": [{\"data\": [0.9212735870621731]}]}, {\"name\": \"norm_macro_recall\", \"run_id\": \"AutoML_b3434009-d6ca-4b09-bb8f-6352e219dfb4\", \"categories\": [0], \"series\": [{\"data\": [0.666329079669479]}]}, {\"name\": \"recall_score_macro\", \"run_id\": \"AutoML_b3434009-d6ca-4b09-bb8f-6352e219dfb4\", \"categories\": [0], \"series\": [{\"data\": [0.8331645398347394]}]}, {\"name\": \"average_precision_score_weighted\", \"run_id\": \"AutoML_b3434009-d6ca-4b09-bb8f-6352e219dfb4\", \"categories\": [0], \"series\": [{\"data\": [0.930488248537657]}]}, {\"name\": \"weighted_accuracy\", \"run_id\": \"AutoML_b3434009-d6ca-4b09-bb8f-6352e219dfb4\", \"categories\": [0], \"series\": [{\"data\": [0.8424486549964036]}]}, {\"name\": \"precision_score_macro\", \"run_id\": \"AutoML_b3434009-d6ca-4b09-bb8f-6352e219dfb4\", \"categories\": [0], \"series\": [{\"data\": [0.8442115632189162]}]}], \"run_logs\": \"\\nRun is completed.\", \"graph\": {}, \"widget_settings\": {\"childWidgetDisplay\": \"popup\", \"send_telemetry\": false, \"log_level\": \"INFO\", \"sdk_version\": \"1.26.0\"}, \"loading\": false}"
     },
     "metadata": {},
     "output_type": "display_data"
    },
    {
     "data": {
      "text/html": [
       "<table style=\"width:100%\"><tr><th>Experiment</th><th>Id</th><th>Type</th><th>Status</th><th>Details Page</th><th>Docs Page</th></tr><tr><td>heart-failure-prediction</td><td>AutoML_b3434009-d6ca-4b09-bb8f-6352e219dfb4</td><td>automl</td><td>Completed</td><td><a href=\"https://ml.azure.com/runs/AutoML_b3434009-d6ca-4b09-bb8f-6352e219dfb4?wsid=/subscriptions/99625554-65d2-4421-aea7-7ddd513d8fe5/resourcegroups/mltest/workspaces/mltest&amp;tid=13b62211-d5ac-471c-a33b-9d952195a20c\" target=\"_blank\" rel=\"noopener\">Link to Azure Machine Learning studio</a></td><td><a href=\"https://docs.microsoft.com/en-us/python/api/overview/azure/ml/intro?view=azure-ml-py\" target=\"_blank\" rel=\"noopener\">Link to Documentation</a></td></tr></table>"
      ],
      "text/plain": [
       "<IPython.core.display.HTML object>"
      ]
     },
     "metadata": {},
     "output_type": "display_data"
    },
    {
     "name": "stdout",
     "output_type": "stream",
     "text": [
      "\n",
      "\n",
      "****************************************************************************************************\n",
      "DATA GUARDRAILS: \n",
      "\n",
      "TYPE:         Class balancing detection\n",
      "STATUS:       PASSED\n",
      "DESCRIPTION:  Your inputs were analyzed, and all classes are balanced in your training data.\n",
      "              Learn more about imbalanced data: https://aka.ms/AutomatedMLImbalancedData\n",
      "\n",
      "****************************************************************************************************\n",
      "\n",
      "TYPE:         Missing feature values imputation\n",
      "STATUS:       PASSED\n",
      "DESCRIPTION:  No feature missing values were detected in the training data.\n",
      "              Learn more about missing value imputation: https://aka.ms/AutomatedMLFeaturization\n",
      "\n",
      "****************************************************************************************************\n",
      "\n",
      "TYPE:         High cardinality feature detection\n",
      "STATUS:       PASSED\n",
      "DESCRIPTION:  Your inputs were analyzed, and no high cardinality features were detected.\n",
      "              Learn more about high cardinality feature handling: https://aka.ms/AutomatedMLFeaturization\n",
      "\n",
      "****************************************************************************************************\n",
      "\n",
      "****************************************************************************************************\n",
      "ITERATION: The iteration being evaluated.\n",
      "PIPELINE: A summary description of the pipeline being evaluated.\n",
      "DURATION: Time taken for the current iteration.\n",
      "METRIC: The result of computing score on the fitted pipeline.\n",
      "BEST: The best observed score thus far.\n",
      "****************************************************************************************************\n",
      "\n",
      " ITERATION   PIPELINE                                       DURATION      METRIC      BEST\n",
      "         0   MaxAbsScaler LightGBM                          0:03:11       0.8656    0.8656\n",
      "         1   MaxAbsScaler XGBoostClassifier                 0:00:51       0.8862    0.8862\n",
      "         2   MaxAbsScaler RandomForest                      0:00:55       0.9045    0.9045\n",
      "         3   MaxAbsScaler RandomForest                      0:00:48       0.9046    0.9046\n",
      "         4   MaxAbsScaler RandomForest                      0:01:52       0.8892    0.9046\n",
      "         5   MaxAbsScaler ExtremeRandomTrees                0:03:12       0.8849    0.9046\n",
      "         6   MaxAbsScaler ExtremeRandomTrees                0:00:43       0.9095    0.9095\n",
      "         7   MaxAbsScaler ExtremeRandomTrees                0:00:44       0.9082    0.9095\n",
      "         8   MaxAbsScaler RandomForest                      0:00:45       0.9142    0.9142\n",
      "         9   MaxAbsScaler ExtremeRandomTrees                0:00:44       0.9269    0.9269\n",
      "        10   MaxAbsScaler RandomForest                      0:00:42       0.8800    0.9269\n",
      "        11   MaxAbsScaler RandomForest                      0:00:48       0.8797    0.9269\n",
      "        12   MaxAbsScaler RandomForest                      0:00:45       0.9160    0.9269\n",
      "        13   StandardScalerWrapper XGBoostClassifier        0:00:49       0.8686    0.9269\n",
      "        14   MaxAbsScaler RandomForest                      0:00:45       0.9002    0.9269\n",
      "        15   StandardScalerWrapper ExtremeRandomTrees       0:00:47       0.8727    0.9269\n",
      "        16   MaxAbsScaler ExtremeRandomTrees                0:00:49       0.8965    0.9269\n",
      "        17   MaxAbsScaler ExtremeRandomTrees                0:00:46       0.9094    0.9269\n",
      "        18   MaxAbsScaler RandomForest                      0:00:43       0.8992    0.9269\n",
      "        19   MaxAbsScaler LightGBM                          0:00:43       0.9100    0.9269\n",
      "        20   MaxAbsScaler LightGBM                          0:00:44       0.9109    0.9269\n",
      "        21   MaxAbsScaler LightGBM                          0:00:44       0.8984    0.9269\n",
      "        22   MaxAbsScaler LightGBM                          0:00:46       0.9030    0.9269\n",
      "        23   MaxAbsScaler LightGBM                          0:00:53       0.9092    0.9269\n",
      "        24   MaxAbsScaler LogisticRegression                0:00:51       0.9216    0.9269\n",
      "        25   MaxAbsScaler ExtremeRandomTrees                0:00:42       0.8696    0.9269\n",
      "        26   StandardScalerWrapper ExtremeRandomTrees       0:00:42       0.8804    0.9269\n",
      "        27   MaxAbsScaler ExtremeRandomTrees                0:00:50       0.9045    0.9269\n",
      "        28   SparseNormalizer XGBoostClassifier             0:00:39       0.8842    0.9269\n",
      "        29   StandardScalerWrapper LogisticRegression       0:00:48       0.9178    0.9269\n",
      "        30   SparseNormalizer ExtremeRandomTrees            0:00:54       0.9179    0.9269\n",
      "        31   StandardScalerWrapper LogisticRegression       0:00:38       0.9121    0.9269\n",
      "        32   TruncatedSVDWrapper LogisticRegression         0:00:50       0.9175    0.9269\n",
      "        33   MaxAbsScaler LogisticRegression                0:00:53       0.9164    0.9269\n",
      "        34   MaxAbsScaler LogisticRegression                0:00:25       0.9201    0.9269\n",
      "        35                                                  0:00:14          nan    0.9269\n",
      "        36                                                  0:00:27          nan    0.9269\n",
      "        37                                                  0:00:17          nan    0.9269\n",
      "        38    VotingEnsemble                                0:01:06       0.9302    0.9302\n"
     ]
    },
    {
     "data": {
      "text/plain": [
       "{'runId': 'AutoML_b3434009-d6ca-4b09-bb8f-6352e219dfb4',\n",
       " 'target': 'cluster-automl',\n",
       " 'status': 'Completed',\n",
       " 'startTimeUtc': '2021-04-14T01:12:33.284142Z',\n",
       " 'endTimeUtc': '2021-04-14T01:30:32.281839Z',\n",
       " 'properties': {'num_iterations': '1000',\n",
       "  'training_type': 'TrainFull',\n",
       "  'acquisition_function': 'EI',\n",
       "  'primary_metric': 'AUC_weighted',\n",
       "  'train_split': '0',\n",
       "  'acquisition_parameter': '0',\n",
       "  'num_cross_validation': '5',\n",
       "  'target': 'cluster-automl',\n",
       "  'AMLSettingsJsonString': '{\"path\":null,\"name\":\"heart-failure-prediction\",\"subscription_id\":\"99625554-65d2-4421-aea7-7ddd513d8fe5\",\"resource_group\":\"mltest\",\"workspace_name\":\"mltest\",\"region\":\"eastus2\",\"compute_target\":\"cluster-automl\",\"spark_service\":null,\"azure_service\":\"remote\",\"many_models\":false,\"pipeline_fetch_max_batch_size\":1,\"enable_batch_run\":false,\"enable_run_restructure\":false,\"iterations\":1000,\"primary_metric\":\"AUC_weighted\",\"task_type\":\"classification\",\"data_script\":null,\"test_size\":0.0,\"validation_size\":0.0,\"n_cross_validations\":5,\"y_min\":null,\"y_max\":null,\"num_classes\":null,\"featurization\":\"auto\",\"_ignore_package_version_incompatibilities\":false,\"is_timeseries\":false,\"max_cores_per_iteration\":1,\"max_concurrent_iterations\":5,\"iteration_timeout_minutes\":null,\"mem_in_mb\":null,\"enforce_time_on_windows\":false,\"experiment_timeout_minutes\":20,\"experiment_exit_score\":null,\"whitelist_models\":null,\"blacklist_algos\":[\"TensorFlowLinearClassifier\",\"TensorFlowDNN\"],\"supported_models\":[\"SVM\",\"SGD\",\"ExtremeRandomTrees\",\"BernoulliNaiveBayes\",\"TensorFlowDNN\",\"GradientBoosting\",\"RandomForest\",\"KNN\",\"AveragedPerceptronClassifier\",\"LinearSVM\",\"MultinomialNaiveBayes\",\"LogisticRegression\",\"DecisionTree\",\"LightGBM\",\"TensorFlowLinearClassifier\",\"XGBoostClassifier\"],\"private_models\":[],\"auto_blacklist\":true,\"blacklist_samples_reached\":false,\"exclude_nan_labels\":true,\"verbosity\":20,\"_debug_log\":\"azureml_automl.log\",\"show_warnings\":false,\"model_explainability\":true,\"service_url\":null,\"sdk_url\":null,\"sdk_packages\":null,\"enable_onnx_compatible_models\":true,\"enable_split_onnx_featurizer_estimator_models\":false,\"vm_type\":\"STANDARD_D2_V2\",\"telemetry_verbosity\":20,\"send_telemetry\":true,\"enable_dnn\":false,\"scenario\":\"SDK-1.13.0\",\"environment_label\":null,\"save_mlflow\":false,\"force_text_dnn\":false,\"enable_feature_sweeping\":false,\"enable_early_stopping\":true,\"early_stopping_n_iters\":10,\"metrics\":null,\"enable_metric_confidence\":false,\"enable_ensembling\":true,\"enable_stack_ensembling\":false,\"ensemble_iterations\":15,\"enable_tf\":false,\"enable_subsampling\":null,\"subsample_seed\":null,\"enable_nimbusml\":false,\"enable_streaming\":false,\"force_streaming\":false,\"track_child_runs\":true,\"allowed_private_models\":[],\"label_column_name\":\"target\",\"weight_column_name\":null,\"cv_split_column_names\":null,\"enable_local_managed\":false,\"_local_managed_run_id\":null,\"cost_mode\":1,\"lag_length\":0,\"metric_operation\":\"maximize\",\"preprocess\":true}',\n",
       "  'DataPrepJsonString': '{\\\\\"training_data\\\\\": {\\\\\"datasetId\\\\\": \\\\\"60a54961-99e5-48c6-9cf7-5943cf20f515\\\\\"}, \\\\\"datasets\\\\\": 0}',\n",
       "  'EnableSubsampling': None,\n",
       "  'runTemplate': 'AutoML',\n",
       "  'azureml.runsource': 'automl',\n",
       "  'display_task_type': 'classification',\n",
       "  'dependencies_versions': '{\"azureml-widgets\": \"1.26.0\", \"azureml-train\": \"1.26.0\", \"azureml-train-restclients-hyperdrive\": \"1.26.0\", \"azureml-train-core\": \"1.26.0\", \"azureml-train-automl\": \"1.26.0\", \"azureml-train-automl-runtime\": \"1.26.0\", \"azureml-train-automl-client\": \"1.26.0\", \"azureml-tensorboard\": \"1.26.0\", \"azureml-telemetry\": \"1.26.0\", \"azureml-sdk\": \"1.26.0\", \"azureml-samples\": \"0+unknown\", \"azureml-pipeline\": \"1.26.0\", \"azureml-pipeline-steps\": \"1.26.0\", \"azureml-pipeline-core\": \"1.26.0\", \"azureml-opendatasets\": \"1.26.0\", \"azureml-model-management-sdk\": \"1.0.1b6.post1\", \"azureml-mlflow\": \"1.26.0\", \"azureml-interpret\": \"1.26.0\", \"azureml-explain-model\": \"1.26.0\", \"azureml-defaults\": \"1.26.0\", \"azureml-dataset-runtime\": \"1.26.0\", \"azureml-dataprep\": \"2.13.2\", \"azureml-dataprep-rslex\": \"1.11.2\", \"azureml-dataprep-native\": \"32.0.0\", \"azureml-datadrift\": \"1.26.0\", \"azureml-core\": \"1.26.0\", \"azureml-contrib-services\": \"1.26.0\", \"azureml-contrib-server\": \"1.26.0\", \"azureml-contrib-reinforcementlearning\": \"1.26.0\", \"azureml-contrib-pipeline-steps\": \"1.26.0\", \"azureml-contrib-notebook\": \"1.26.0\", \"azureml-contrib-gbdt\": \"1.26.0\", \"azureml-contrib-fairness\": \"1.26.0\", \"azureml-contrib-dataset\": \"1.26.0\", \"azureml-cli-common\": \"1.26.0\", \"azureml-automl-runtime\": \"1.26.0\", \"azureml-automl-dnn-nlp\": \"1.26.0\", \"azureml-automl-core\": \"1.26.0\", \"azureml-accel-models\": \"1.26.0\"}',\n",
       "  '_aml_system_scenario_identification': 'Remote.Parent',\n",
       "  'ClientType': 'SDK',\n",
       "  'environment_cpu_name': 'AzureML-AutoML',\n",
       "  'environment_cpu_label': 'prod',\n",
       "  'environment_gpu_name': 'AzureML-AutoML-GPU',\n",
       "  'environment_gpu_label': 'prod',\n",
       "  'root_attribution': 'automl',\n",
       "  'attribution': 'AutoML',\n",
       "  'Orchestrator': 'AutoML',\n",
       "  'CancelUri': 'https://eastus2.experiments.azureml.net/jasmine/v1.0/subscriptions/99625554-65d2-4421-aea7-7ddd513d8fe5/resourceGroups/mltest/providers/Microsoft.MachineLearningServices/workspaces/mltest/experimentids/92625128-63e0-4750-86a3-5157af4afcf1/cancel/AutoML_b3434009-d6ca-4b09-bb8f-6352e219dfb4',\n",
       "  'ClientSdkVersion': '1.25.0',\n",
       "  'snapshotId': '00000000-0000-0000-0000-000000000000',\n",
       "  'SetupRunId': 'AutoML_b3434009-d6ca-4b09-bb8f-6352e219dfb4_setup',\n",
       "  'SetupRunContainerId': 'dcid.AutoML_b3434009-d6ca-4b09-bb8f-6352e219dfb4_setup',\n",
       "  'FeaturizationRunJsonPath': 'featurizer_container.json',\n",
       "  'FeaturizationRunId': 'AutoML_b3434009-d6ca-4b09-bb8f-6352e219dfb4_featurize',\n",
       "  'ProblemInfoJsonString': '{\"dataset_num_categorical\": 0, \"is_sparse\": true, \"subsampling\": false, \"dataset_classes\": 2, \"dataset_features\": 27, \"dataset_samples\": 303, \"single_frequency_class_detected\": false}',\n",
       "  'ModelExplainRunId': 'AutoML_b3434009-d6ca-4b09-bb8f-6352e219dfb4_ModelExplain'},\n",
       " 'inputDatasets': [{'dataset': {'id': '60a54961-99e5-48c6-9cf7-5943cf20f515'}, 'consumptionDetails': {'type': 'RunInput', 'inputName': 'training_data', 'mechanism': 'Direct'}}],\n",
       " 'outputDatasets': [],\n",
       " 'logFiles': {},\n",
       " 'submittedBy': 'chinmay Das'}"
      ]
     },
     "execution_count": 12,
     "metadata": {},
     "output_type": "execute_result"
    }
   ],
   "source": [
    "from azureml.widgets import RunDetails\n",
    "RunDetails(remote_run).show()\n",
    "remote_run.wait_for_completion(show_output=True)"
   ]
  },
  {
   "cell_type": "markdown",
   "metadata": {},
   "source": [
    "## Best Model\n",
    "\n",
    "TODO: In the cell below, get the best model from the automl experiments and display all the properties of the model.\n",
    "\n"
   ]
  },
  {
   "cell_type": "code",
   "execution_count": 13,
   "metadata": {},
   "outputs": [
    {
     "name": "stdout",
     "output_type": "stream",
     "text": [
      "Pipeline(memory=None,\n",
      "         steps=[('datatransformer',\n",
      "                 DataTransformer(enable_dnn=None, enable_feature_sweeping=None,\n",
      "                                 feature_sweeping_config=None,\n",
      "                                 feature_sweeping_timeout=None,\n",
      "                                 featurization_config=None, force_text_dnn=None,\n",
      "                                 is_cross_validation=None,\n",
      "                                 is_onnx_compatible=None, logger=None,\n",
      "                                 observer=None, task=None, working_dir=None)),\n",
      "                ('prefittedsoftvotingclassifier',...\n",
      "                                                                                                max_iter=100,\n",
      "                                                                                                multi_class='ovr',\n",
      "                                                                                                n_jobs=1,\n",
      "                                                                                                penalty='l2',\n",
      "                                                                                                random_state=None,\n",
      "                                                                                                solver='newton-cg',\n",
      "                                                                                                tol=0.0001,\n",
      "                                                                                                verbose=0,\n",
      "                                                                                                warm_start=False))],\n",
      "                                                                     verbose=False))],\n",
      "                                               flatten_transform=None,\n",
      "                                               weights=[0.13333333333333333,\n",
      "                                                        0.06666666666666667,\n",
      "                                                        0.06666666666666667,\n",
      "                                                        0.2,\n",
      "                                                        0.06666666666666667,\n",
      "                                                        0.06666666666666667,\n",
      "                                                        0.26666666666666666,\n",
      "                                                        0.06666666666666667,\n",
      "                                                        0.06666666666666667]))],\n",
      "         verbose=False)\n",
      "Run(Experiment: heart-failure-prediction,\n",
      "Id: AutoML_b3434009-d6ca-4b09-bb8f-6352e219dfb4_38,\n",
      "Type: azureml.scriptrun,\n",
      "Status: Completed)\n"
     ]
    }
   ],
   "source": [
    "best_automlclass , best_model_automl = remote_run.get_output()\n",
    "print(best_model_automl)\n",
    "print(best_automlclass)"
   ]
  },
  {
   "cell_type": "code",
   "execution_count": 14,
   "metadata": {},
   "outputs": [],
   "source": [
    "best_automlclass.download_file('outputs/model.pkl', 'outputs/model.pkl')"
   ]
  },
  {
   "cell_type": "code",
   "execution_count": null,
   "metadata": {},
   "outputs": [],
   "source": [
    "best_automlclass.download_file('outputs/scoring_file_v_1_0_0.py', 'score_aml.py')"
   ]
  },
  {
   "cell_type": "code",
   "execution_count": 16,
   "metadata": {},
   "outputs": [],
   "source": [
    "model = best_automlclass.register_model(model_name = 'best_model_automl', model_path = './outputs/model.pkl')"
   ]
  },
  {
   "cell_type": "code",
   "execution_count": 17,
   "metadata": {},
   "outputs": [
    {
     "data": {
      "text/plain": [
       "{'weighted_accuracy': 0.8424486549964036,\n",
       " 'precision_score_macro': 0.8442115632189162,\n",
       " 'f1_score_weighted': 0.8368185742788142,\n",
       " 'average_precision_score_weighted': 0.930488248537657,\n",
       " 'recall_score_micro': 0.8381420765027322,\n",
       " 'norm_macro_recall': 0.666329079669479,\n",
       " 'balanced_accuracy': 0.8331645398347394,\n",
       " 'average_precision_score_micro': 0.9212735870621731,\n",
       " 'recall_score_macro': 0.8331645398347394,\n",
       " 'accuracy': 0.8381420765027322,\n",
       " 'f1_score_macro': 0.8331981762672676,\n",
       " 'AUC_weighted': 0.9302478776336628,\n",
       " 'precision_score_weighted': 0.8457822411146303,\n",
       " 'AUC_micro': 0.924200901788647,\n",
       " 'precision_score_micro': 0.8381420765027322,\n",
       " 'AUC_macro': 0.9302478776336628,\n",
       " 'f1_score_micro': 0.8381420765027322,\n",
       " 'average_precision_score_macro': 0.9285846720633604,\n",
       " 'log_loss': 0.46170742159165173,\n",
       " 'matthews_correlation': 0.676964879074445,\n",
       " 'recall_score_weighted': 0.8381420765027322,\n",
       " 'confusion_matrix': 'aml://artifactId/ExperimentRun/dcid.AutoML_b3434009-d6ca-4b09-bb8f-6352e219dfb4_38/confusion_matrix',\n",
       " 'accuracy_table': 'aml://artifactId/ExperimentRun/dcid.AutoML_b3434009-d6ca-4b09-bb8f-6352e219dfb4_38/accuracy_table'}"
      ]
     },
     "execution_count": 17,
     "metadata": {},
     "output_type": "execute_result"
    }
   ],
   "source": [
    "best_automlclass.get_metrics()"
   ]
  },
  {
   "cell_type": "markdown",
   "metadata": {},
   "source": [
    "## Model Deployment\n",
    "\n",
    "Remember you have to deploy only one of the two models you trained.. Perform the steps in the rest of this notebook only if you wish to deploy this model.\n",
    "\n",
    "TODO: In the cell below, register the model, create an inference config and deploy the model as a web service."
   ]
  },
  {
   "cell_type": "code",
   "execution_count": 18,
   "metadata": {},
   "outputs": [],
   "source": [
    "from azureml.core.environment import Environment\n",
    "environment = Environment.get(ws, \"AzureML-AutoML\")"
   ]
  },
  {
   "cell_type": "code",
   "execution_count": 19,
   "metadata": {},
   "outputs": [
    {
     "name": "stdout",
     "output_type": "stream",
     "text": [
      "Tips: You can try get_logs(): https://aka.ms/debugimage#dockerlog or local deployment: https://aka.ms/debugimage#debug-locally to debug if deployment takes longer than 10 minutes.\n",
      "Running\n",
      "2021-04-14 01:34:04+00:00 Creating Container Registry if not exists.\n",
      "2021-04-14 01:34:05+00:00 Registering the environment.\n",
      "2021-04-14 01:34:08+00:00 Use the existing image.\n",
      "2021-04-14 01:34:09+00:00 Submitting deployment to compute..\n",
      "2021-04-14 01:34:13+00:00 Checking the status of deployment automl-deploy-1..\n",
      "2021-04-14 01:37:15+00:00 Checking the status of inference endpoint automl-deploy-1.\n",
      "Succeeded\n",
      "ACI service creation operation finished, operation \"Succeeded\"\n",
      "http://1e2639dc-d74e-4d88-9ec6-b9f66afed09a.eastus2.azurecontainer.io/score\n"
     ]
    }
   ],
   "source": [
    "from azureml.core.model import InferenceConfig\n",
    "from azureml.core.webservice import AciWebservice\n",
    "from azureml.core import Model\n",
    "\n",
    "inference_config = InferenceConfig(entry_script='score_aml.py',\n",
    "                                   environment=environment)\n",
    "service_name = 'automl-deploy-1'\n",
    "deployment_config = AciWebservice.deploy_configuration(cpu_cores=1, memory_gb=1)\n",
    "\n",
    "service = Model.deploy(workspace=ws,\n",
    "                       name=service_name,\n",
    "                       models=[model],\n",
    "                       inference_config=inference_config,\n",
    "                       deployment_config=deployment_config,\n",
    "                       overwrite=True\n",
    "                      )\n",
    "service.wait_for_deployment(show_output=True)\n",
    "\n",
    "scoring_uri = service.scoring_uri\n",
    "print(scoring_uri)"
   ]
  },
  {
   "cell_type": "code",
   "execution_count": 20,
   "metadata": {},
   "outputs": [],
   "source": [
    "# Enable app insights\n",
    "service.update(enable_app_insights=True)"
   ]
  },
  {
   "cell_type": "markdown",
   "metadata": {
    "collapsed": true,
    "gather": {
     "logged": 1598431657736
    },
    "jupyter": {
     "outputs_hidden": false,
     "source_hidden": false
    },
    "nteract": {
     "transient": {
      "deleting": false
     }
    }
   },
   "source": [
    "TODO: In the cell below, send a request to the web service you deployed to test it."
   ]
  },
  {
   "cell_type": "code",
   "execution_count": 22,
   "metadata": {
    "gather": {
     "logged": 1598432707604
    },
    "jupyter": {
     "outputs_hidden": false,
     "source_hidden": false
    },
    "nteract": {
     "transient": {
      "deleting": false
     }
    }
   },
   "outputs": [
    {
     "name": "stdout",
     "output_type": "stream",
     "text": [
      "{\"result\": [1]}\n"
     ]
    }
   ],
   "source": [
    "import requests\n",
    "import json\n",
    "\n",
    "# URL for the web service, should be similar to:\n",
    "scoring_uri = 'http://1e2639dc-d74e-4d88-9ec6-b9f66afed09a.eastus2.azurecontainer.io/score'\n",
    "# If the service is authenticated, set the key or token\n",
    "#key = 'zuv0yY9prOPHFssuYSFWDJPhnVMxgJqG'\n",
    "#two set of data to score, so we get two results back\n",
    "data = {\"data\":\n",
    "        [\n",
    "          {\n",
    "            \"age\":37,\n",
    "            \"sex\": 1,\n",
    "            \"cp\": 2,\n",
    "            \"trestbps\": 130,\n",
    "            \"chol\": 250,\n",
    "            \"fbs\": 0,\n",
    "            \"restecg\": 1,\n",
    "            \"thalach\": 187,\n",
    "            \"exang\": 0,\n",
    "            \"oldpeak\": 3.5,\n",
    "            \"slope\": 0,\n",
    "            \"ca\": 0,\n",
    "            \"thal\": 2,\n",
    "          }\n",
    "      ]\n",
    "    }\n",
    "    \n",
    "# Convert to JSON string\n",
    "input_data = json.dumps(data)\n",
    "with open(\"data.json\", \"w\") as _f:\n",
    "    _f.write(input_data)\n",
    "\n",
    "# Set the content type\n",
    "headers = {'Content-Type': 'application/json'}\n",
    "# If authentication is enabled, set the authorization header\n",
    "#headers['Authorization'] = f'Bearer {key}'\n",
    "\n",
    "# Make the request and display the response\n",
    "resp = requests.post(scoring_uri, input_data, headers=headers)\n",
    "print(resp.json())\n"
   ]
  },
  {
   "cell_type": "code",
   "execution_count": 23,
   "metadata": {},
   "outputs": [],
   "source": [
    " data = [\n",
    "          {\n",
    "            \"age\":37,\n",
    "            \"sex\": 1,\n",
    "            \"cp\": 2,\n",
    "            \"trestbps\": 130,\n",
    "            \"chol\": 250,\n",
    "            \"fbs\": 0,\n",
    "            \"restecg\": 1,\n",
    "            \"thalach\": 187,\n",
    "            \"exang\": 0,\n",
    "            \"oldpeak\": 3.5,\n",
    "            \"slope\": 0,\n",
    "            \"ca\": 0,\n",
    "            \"thal\": 2,\n",
    "          }\n",
    "      ]\n",
    "    "
   ]
  },
  {
   "cell_type": "code",
   "execution_count": 24,
   "metadata": {},
   "outputs": [
    {
     "data": {
      "text/plain": [
       "'{\"result\": [1]}'"
      ]
     },
     "execution_count": 24,
     "metadata": {},
     "output_type": "execute_result"
    }
   ],
   "source": [
    "# test using service instance\n",
    "input_data = json.dumps({\n",
    "    'data': data\n",
    "})\n",
    "\n",
    "output = service.run(input_data)\n",
    "output"
   ]
  },
  {
   "cell_type": "markdown",
   "metadata": {
    "collapsed": true,
    "gather": {
     "logged": 1598432765711
    },
    "jupyter": {
     "outputs_hidden": false,
     "source_hidden": false
    },
    "nteract": {
     "transient": {
      "deleting": false
     }
    }
   },
   "source": [
    "TODO: In the cell below, print the logs of the web service and delete the service"
   ]
  },
  {
   "cell_type": "code",
   "execution_count": 25,
   "metadata": {
    "jupyter": {
     "outputs_hidden": false,
     "source_hidden": false
    },
    "nteract": {
     "transient": {
      "deleting": false
     }
    }
   },
   "outputs": [
    {
     "data": {
      "text/plain": [
       "'2021-04-14T01:37:09,894826400+00:00 - gunicorn/run \\n2021-04-14T01:37:09,909107300+00:00 - iot-server/run \\n2021-04-14T01:37:09,902095300+00:00 - rsyslog/run \\n2021-04-14T01:37:09,918677000+00:00 - nginx/run \\n/usr/sbin/nginx: /azureml-envs/azureml_1c91e9a5baadb44a18d64bdd7f599d89/lib/libcrypto.so.1.0.0: no version information available (required by /usr/sbin/nginx)\\n/usr/sbin/nginx: /azureml-envs/azureml_1c91e9a5baadb44a18d64bdd7f599d89/lib/libcrypto.so.1.0.0: no version information available (required by /usr/sbin/nginx)\\n/usr/sbin/nginx: /azureml-envs/azureml_1c91e9a5baadb44a18d64bdd7f599d89/lib/libssl.so.1.0.0: no version information available (required by /usr/sbin/nginx)\\n/usr/sbin/nginx: /azureml-envs/azureml_1c91e9a5baadb44a18d64bdd7f599d89/lib/libssl.so.1.0.0: no version information available (required by /usr/sbin/nginx)\\n/usr/sbin/nginx: /azureml-envs/azureml_1c91e9a5baadb44a18d64bdd7f599d89/lib/libssl.so.1.0.0: no version information available (required by /usr/sbin/nginx)\\nrsyslogd: /azureml-envs/azureml_1c91e9a5baadb44a18d64bdd7f599d89/lib/libuuid.so.1: no version information available (required by rsyslogd)\\nEdgeHubConnectionString and IOTEDGE_IOTHUBHOSTNAME are not set. Exiting...\\n2021-04-14T01:37:10,217649200+00:00 - iot-server/finish 1 0\\n2021-04-14T01:37:10,220067800+00:00 - Exit code 1 is normal. Not restarting iot-server.\\nStarting gunicorn 19.9.0\\nListening at: http://127.0.0.1:31311 (70)\\nUsing worker: sync\\nworker timeout is set to 300\\nBooting worker with pid: 97\\nSPARK_HOME not set. Skipping PySpark Initialization.\\nGenerating new fontManager, this may take some time...\\nInitializing logger\\n2021-04-14 01:37:12,577 | root | INFO | Starting up app insights client\\n2021-04-14 01:37:12,578 | root | INFO | Starting up request id generator\\n2021-04-14 01:37:12,578 | root | INFO | Starting up app insight hooks\\n2021-04-14 01:37:12,578 | root | INFO | Invoking user\\'s init function\\n2021-04-14 01:37:16,736 | azureml.core | WARNING | Failure while loading azureml_run_type_providers. Failed to load entrypoint automl = azureml.train.automl.run:AutoMLRun._from_run_dto with exception cannot import name \\'RunType\\'.\\nFailure while loading azureml_run_type_providers. Failed to load entrypoint automl = azureml.train.automl.run:AutoMLRun._from_run_dto with exception cannot import name \\'RunType\\'.\\n2021-04-14 01:37:17,445 | root | INFO | Users\\'s init has completed successfully\\n2021-04-14 01:37:17,458 | root | INFO | Skipping middleware: dbg_model_info as it\\'s not enabled.\\n2021-04-14 01:37:17,459 | root | INFO | Skipping middleware: dbg_resource_usage as it\\'s not enabled.\\n2021-04-14 01:37:17,464 | root | INFO | Scoring timeout is found from os.environ: 60000 ms\\n2021-04-14 01:37:17,511 | root | INFO | 200\\n127.0.0.1 - - [14/Apr/2021:01:37:17 +0000] \"GET /swagger.json HTTP/1.0\" 200 2751 \"-\" \"Go-http-client/1.1\"\\n127.0.0.1 - - [14/Apr/2021:01:37:18 +0000] \"GET /config.json HTTP/1.0\" 404 232 \"-\" \"l9explore/v0.8.0\"\\n127.0.0.1 - - [14/Apr/2021:01:37:19 +0000] \"GET /.env HTTP/1.0\" 404 232 \"-\" \"l9explore/v0.8.0\"\\n127.0.0.1 - - [14/Apr/2021:01:37:19 +0000] \"GET /.git/config HTTP/1.0\" 404 232 \"-\" \"l9explore/v0.8.0\"\\n127.0.0.1 - - [14/Apr/2021:01:37:20 +0000] \"GET /idx_config/ HTTP/1.0\" 404 232 \"-\" \"l9explore/v0.8.0\"\\n127.0.0.1 - - [14/Apr/2021:01:37:21 +0000] \"GET /telescope/requests HTTP/1.0\" 404 232 \"-\" \"l9explore/v0.8.0\"\\n127.0.0.1 - - [14/Apr/2021:01:37:21 +0000] \"GET /info.php HTTP/1.0\" 404 232 \"-\" \"l9explore/v0.8.0\"\\n127.0.0.1 - - [14/Apr/2021:01:37:22 +0000] \"GET /server-status HTTP/1.0\" 404 232 \"-\" \"l9explore/v0.8.0\"\\n2021-04-14 01:37:23,069 | root | INFO | 200\\n127.0.0.1 - - [14/Apr/2021:01:37:23 +0000] \"GET /swagger.json HTTP/1.0\" 200 2751 \"-\" \"Go-http-client/1.1\"\\n2021-04-14 01:37:25,532 | root | INFO | 200\\n127.0.0.1 - - [14/Apr/2021:01:37:25 +0000] \"GET /swagger.json HTTP/1.0\" 200 2751 \"-\" \"Go-http-client/1.1\"\\n2021-04-14 01:37:45,178 | root | INFO | Validation Request Content-Type\\n2021-04-14 01:37:45,180 | root | INFO | Scoring Timer is set to 60.0 seconds\\n2021-04-14 01:37:45,465 | root | INFO | 200\\n127.0.0.1 - - [14/Apr/2021:01:37:45 +0000] \"POST /score HTTP/1.0\" 200 19 \"-\" \"python-requests/2.25.1\"\\n2021-04-14 01:37:48,488 | root | INFO | Validation Request Content-Type\\n2021-04-14 01:37:48,489 | root | INFO | Scoring Timer is set to 60.0 seconds\\n2021-04-14 01:37:48,738 | root | INFO | 200\\n127.0.0.1 - - [14/Apr/2021:01:37:48 +0000] \"POST /score HTTP/1.0\" 200 19 \"-\" \"python-requests/2.25.1\"\\n'"
      ]
     },
     "execution_count": 25,
     "metadata": {},
     "output_type": "execute_result"
    }
   ],
   "source": [
    "logs = service.get_logs()\n",
    "logs"
   ]
  },
  {
   "cell_type": "code",
   "execution_count": null,
   "metadata": {},
   "outputs": [],
   "source": [
    "service.delete()"
   ]
  }
 ],
 "metadata": {
  "kernel_info": {
   "name": "python3-azureml"
  },
  "kernelspec": {
   "display_name": "Python 3",
   "language": "python",
   "name": "python3"
  },
  "language_info": {
   "codemirror_mode": {
    "name": "ipython",
    "version": 3
   },
   "file_extension": ".py",
   "mimetype": "text/x-python",
   "name": "python",
   "nbconvert_exporter": "python",
   "pygments_lexer": "ipython3",
   "version": "3.6.9"
  },
  "nteract": {
   "version": "nteract-front-end@1.0.0"
  }
 },
 "nbformat": 4,
 "nbformat_minor": 2
}
