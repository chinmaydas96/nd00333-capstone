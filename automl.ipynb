{
 "cells": [
  {
   "cell_type": "markdown",
   "metadata": {},
   "source": [
    "# Automated ML\n",
    "\n",
    "TODO: Import Dependencies. In the cell below, import all the dependencies that you will need to complete the project."
   ]
  },
  {
   "cell_type": "code",
   "execution_count": null,
   "metadata": {
    "gather": {
     "logged": 1598423888013
    },
    "jupyter": {
     "outputs_hidden": false,
     "source_hidden": false
    },
    "nteract": {
     "transient": {
      "deleting": false
     }
    }
   },
   "outputs": [],
   "source": [
    "import logging\n",
    "import os\n",
    "import csv\n",
    "\n",
    "from matplotlib import pyplot as plt\n",
    "import numpy as np\n",
    "import pandas as pd\n",
    "from sklearn import datasets\n",
    "import pkg_resources\n",
    "\n",
    "import azureml.core\n",
    "from azureml.core.experiment import Experiment\n",
    "from azureml.core.workspace import Workspace\n",
    "from azureml.train.automl import AutoMLConfig\n",
    "from azureml.core.dataset import Dataset\n",
    "\n",
    "from azureml.pipeline.steps import AutoMLStep\n",
    "\n",
    "# Check core SDK version number\n",
    "print(\"SDK version:\", azureml.core.VERSION)"
   ]
  },
  {
   "cell_type": "markdown",
   "metadata": {},
   "source": [
    "## Dataset\n",
    "\n",
    "### Overview\n",
    "\n",
    "* This dataset is Heart Failure Prediction dataset taken from kaggle.\n",
    "\n",
    "* Given the different features we need to predict if the patient will have heart failure.\n",
    "\n",
    "* This is classification problem.\n",
    "\n",
    "* [Link](https://www.kaggle.com/andrewmvd/heart-failure-clinical-data) to the dataset.\n",
    "\n",
    "\n",
    "TODO: Get data. In the cell below, write code to access the data you will be using in this project. Remember that the dataset needs to be external."
   ]
  },
  {
   "cell_type": "code",
   "execution_count": 2,
   "metadata": {
    "gather": {
     "logged": 1598423890461
    },
    "jupyter": {
     "outputs_hidden": false,
     "source_hidden": false
    },
    "nteract": {
     "transient": {
      "deleting": false
     }
    }
   },
   "outputs": [
    {
     "data": {
      "text/html": [
       "<table style=\"width:100%\"><tr><th>Name</th><th>Workspace</th><th>Report Page</th><th>Docs Page</th></tr><tr><td>heart-failure-prediction</td><td>mltest</td><td><a href=\"https://ml.azure.com/experiments/id/92625128-63e0-4750-86a3-5157af4afcf1?wsid=/subscriptions/99625554-65d2-4421-aea7-7ddd513d8fe5/resourcegroups/mltest/workspaces/mltest&amp;tid=13b62211-d5ac-471c-a33b-9d952195a20c\" target=\"_blank\" rel=\"noopener\">Link to Azure Machine Learning studio</a></td><td><a href=\"https://docs.microsoft.com/en-us/python/api/azureml-core/azureml.core.experiment.Experiment?view=azure-ml-py\" target=\"_blank\" rel=\"noopener\">Link to Documentation</a></td></tr></table>"
      ],
      "text/plain": [
       "Experiment(Name: heart-failure-prediction,\n",
       "Workspace: mltest)"
      ]
     },
     "execution_count": 2,
     "metadata": {},
     "output_type": "execute_result"
    }
   ],
   "source": [
    "ws = Workspace.from_config()\n",
    "\n",
    "# choose a name for experiment\n",
    "experiment_name = 'heart-failure-prediction'\n",
    "project_folder = './automl-hf-prediction'\n",
    "\n",
    "experiment=Experiment(ws, experiment_name)\n",
    "experiment"
   ]
  },
  {
   "cell_type": "code",
   "execution_count": 3,
   "metadata": {},
   "outputs": [
    {
     "name": "stdout",
     "output_type": "stream",
     "text": [
      "Found existing cluster, use it.\n",
      "Succeeded\n",
      "AmlCompute wait for completion finished\n",
      "\n",
      "Minimum number of nodes requested have been provisioned\n"
     ]
    }
   ],
   "source": [
    "from azureml.core.compute import AmlCompute\n",
    "from azureml.core.compute import ComputeTarget\n",
    "from azureml.core.compute_target import ComputeTargetException\n",
    "\n",
    "amlcompute_cluster_name = \"cluster-automl\"\n",
    "\n",
    "try:\n",
    "    compute_target = ComputeTarget(workspace=ws, name=amlcompute_cluster_name)\n",
    "    print('Found existing cluster, use it.')\n",
    "except ComputeTargetException:\n",
    "    compute_config = AmlCompute.provisioning_configuration(vm_size='STANDARD_D2_V2',# for GPU, use \"STANDARD_NC6\"\n",
    "                                                           #vm_priority = 'lowpriority', # optional\n",
    "                                                           max_nodes=4,\n",
    "                                                           min_nodes=1)\n",
    "    compute_target = ComputeTarget.create(ws, amlcompute_cluster_name, compute_config)\n",
    "\n",
    "compute_target.wait_for_completion(show_output=True, min_node_count = 1, timeout_in_minutes = 5) #timeout_in_minutes = 10"
   ]
  },
  {
   "cell_type": "code",
   "execution_count": 4,
   "metadata": {},
   "outputs": [
    {
     "data": {
      "text/html": [
       "<div>\n",
       "<style scoped>\n",
       "    .dataframe tbody tr th:only-of-type {\n",
       "        vertical-align: middle;\n",
       "    }\n",
       "\n",
       "    .dataframe tbody tr th {\n",
       "        vertical-align: top;\n",
       "    }\n",
       "\n",
       "    .dataframe thead th {\n",
       "        text-align: right;\n",
       "    }\n",
       "</style>\n",
       "<table border=\"1\" class=\"dataframe\">\n",
       "  <thead>\n",
       "    <tr style=\"text-align: right;\">\n",
       "      <th></th>\n",
       "      <th>age</th>\n",
       "      <th>sex</th>\n",
       "      <th>cp</th>\n",
       "      <th>trestbps</th>\n",
       "      <th>chol</th>\n",
       "      <th>fbs</th>\n",
       "      <th>restecg</th>\n",
       "      <th>thalach</th>\n",
       "      <th>exang</th>\n",
       "      <th>oldpeak</th>\n",
       "      <th>slope</th>\n",
       "      <th>ca</th>\n",
       "      <th>thal</th>\n",
       "      <th>target</th>\n",
       "    </tr>\n",
       "  </thead>\n",
       "  <tbody>\n",
       "    <tr>\n",
       "      <th>count</th>\n",
       "      <td>303.000000</td>\n",
       "      <td>303.000000</td>\n",
       "      <td>303.000000</td>\n",
       "      <td>303.000000</td>\n",
       "      <td>303.000000</td>\n",
       "      <td>303.000000</td>\n",
       "      <td>303.000000</td>\n",
       "      <td>303.000000</td>\n",
       "      <td>303.000000</td>\n",
       "      <td>303.000000</td>\n",
       "      <td>303.000000</td>\n",
       "      <td>303.000000</td>\n",
       "      <td>303.000000</td>\n",
       "      <td>303.000000</td>\n",
       "    </tr>\n",
       "    <tr>\n",
       "      <th>mean</th>\n",
       "      <td>54.366337</td>\n",
       "      <td>0.683168</td>\n",
       "      <td>0.966997</td>\n",
       "      <td>131.623762</td>\n",
       "      <td>246.264026</td>\n",
       "      <td>0.148515</td>\n",
       "      <td>0.528053</td>\n",
       "      <td>149.646865</td>\n",
       "      <td>0.326733</td>\n",
       "      <td>1.039604</td>\n",
       "      <td>1.399340</td>\n",
       "      <td>0.729373</td>\n",
       "      <td>2.313531</td>\n",
       "      <td>0.544554</td>\n",
       "    </tr>\n",
       "    <tr>\n",
       "      <th>std</th>\n",
       "      <td>9.082101</td>\n",
       "      <td>0.466011</td>\n",
       "      <td>1.032052</td>\n",
       "      <td>17.538143</td>\n",
       "      <td>51.830751</td>\n",
       "      <td>0.356198</td>\n",
       "      <td>0.525860</td>\n",
       "      <td>22.905161</td>\n",
       "      <td>0.469794</td>\n",
       "      <td>1.161075</td>\n",
       "      <td>0.616226</td>\n",
       "      <td>1.022606</td>\n",
       "      <td>0.612277</td>\n",
       "      <td>0.498835</td>\n",
       "    </tr>\n",
       "    <tr>\n",
       "      <th>min</th>\n",
       "      <td>29.000000</td>\n",
       "      <td>0.000000</td>\n",
       "      <td>0.000000</td>\n",
       "      <td>94.000000</td>\n",
       "      <td>126.000000</td>\n",
       "      <td>0.000000</td>\n",
       "      <td>0.000000</td>\n",
       "      <td>71.000000</td>\n",
       "      <td>0.000000</td>\n",
       "      <td>0.000000</td>\n",
       "      <td>0.000000</td>\n",
       "      <td>0.000000</td>\n",
       "      <td>0.000000</td>\n",
       "      <td>0.000000</td>\n",
       "    </tr>\n",
       "    <tr>\n",
       "      <th>25%</th>\n",
       "      <td>47.500000</td>\n",
       "      <td>0.000000</td>\n",
       "      <td>0.000000</td>\n",
       "      <td>120.000000</td>\n",
       "      <td>211.000000</td>\n",
       "      <td>0.000000</td>\n",
       "      <td>0.000000</td>\n",
       "      <td>133.500000</td>\n",
       "      <td>0.000000</td>\n",
       "      <td>0.000000</td>\n",
       "      <td>1.000000</td>\n",
       "      <td>0.000000</td>\n",
       "      <td>2.000000</td>\n",
       "      <td>0.000000</td>\n",
       "    </tr>\n",
       "    <tr>\n",
       "      <th>50%</th>\n",
       "      <td>55.000000</td>\n",
       "      <td>1.000000</td>\n",
       "      <td>1.000000</td>\n",
       "      <td>130.000000</td>\n",
       "      <td>240.000000</td>\n",
       "      <td>0.000000</td>\n",
       "      <td>1.000000</td>\n",
       "      <td>153.000000</td>\n",
       "      <td>0.000000</td>\n",
       "      <td>0.800000</td>\n",
       "      <td>1.000000</td>\n",
       "      <td>0.000000</td>\n",
       "      <td>2.000000</td>\n",
       "      <td>1.000000</td>\n",
       "    </tr>\n",
       "    <tr>\n",
       "      <th>75%</th>\n",
       "      <td>61.000000</td>\n",
       "      <td>1.000000</td>\n",
       "      <td>2.000000</td>\n",
       "      <td>140.000000</td>\n",
       "      <td>274.500000</td>\n",
       "      <td>0.000000</td>\n",
       "      <td>1.000000</td>\n",
       "      <td>166.000000</td>\n",
       "      <td>1.000000</td>\n",
       "      <td>1.600000</td>\n",
       "      <td>2.000000</td>\n",
       "      <td>1.000000</td>\n",
       "      <td>3.000000</td>\n",
       "      <td>1.000000</td>\n",
       "    </tr>\n",
       "    <tr>\n",
       "      <th>max</th>\n",
       "      <td>77.000000</td>\n",
       "      <td>1.000000</td>\n",
       "      <td>3.000000</td>\n",
       "      <td>200.000000</td>\n",
       "      <td>564.000000</td>\n",
       "      <td>1.000000</td>\n",
       "      <td>2.000000</td>\n",
       "      <td>202.000000</td>\n",
       "      <td>1.000000</td>\n",
       "      <td>6.200000</td>\n",
       "      <td>2.000000</td>\n",
       "      <td>4.000000</td>\n",
       "      <td>3.000000</td>\n",
       "      <td>1.000000</td>\n",
       "    </tr>\n",
       "  </tbody>\n",
       "</table>\n",
       "</div>"
      ],
      "text/plain": [
       "              age         sex          cp    trestbps        chol         fbs  \\\n",
       "count  303.000000  303.000000  303.000000  303.000000  303.000000  303.000000   \n",
       "mean    54.366337    0.683168    0.966997  131.623762  246.264026    0.148515   \n",
       "std      9.082101    0.466011    1.032052   17.538143   51.830751    0.356198   \n",
       "min     29.000000    0.000000    0.000000   94.000000  126.000000    0.000000   \n",
       "25%     47.500000    0.000000    0.000000  120.000000  211.000000    0.000000   \n",
       "50%     55.000000    1.000000    1.000000  130.000000  240.000000    0.000000   \n",
       "75%     61.000000    1.000000    2.000000  140.000000  274.500000    0.000000   \n",
       "max     77.000000    1.000000    3.000000  200.000000  564.000000    1.000000   \n",
       "\n",
       "          restecg     thalach       exang     oldpeak       slope          ca  \\\n",
       "count  303.000000  303.000000  303.000000  303.000000  303.000000  303.000000   \n",
       "mean     0.528053  149.646865    0.326733    1.039604    1.399340    0.729373   \n",
       "std      0.525860   22.905161    0.469794    1.161075    0.616226    1.022606   \n",
       "min      0.000000   71.000000    0.000000    0.000000    0.000000    0.000000   \n",
       "25%      0.000000  133.500000    0.000000    0.000000    1.000000    0.000000   \n",
       "50%      1.000000  153.000000    0.000000    0.800000    1.000000    0.000000   \n",
       "75%      1.000000  166.000000    1.000000    1.600000    2.000000    1.000000   \n",
       "max      2.000000  202.000000    1.000000    6.200000    2.000000    4.000000   \n",
       "\n",
       "             thal      target  \n",
       "count  303.000000  303.000000  \n",
       "mean     2.313531    0.544554  \n",
       "std      0.612277    0.498835  \n",
       "min      0.000000    0.000000  \n",
       "25%      2.000000    0.000000  \n",
       "50%      2.000000    1.000000  \n",
       "75%      3.000000    1.000000  \n",
       "max      3.000000    1.000000  "
      ]
     },
     "execution_count": 4,
     "metadata": {},
     "output_type": "execute_result"
    }
   ],
   "source": [
    "# Try to load the dataset from the Workspace. Otherwise, create it from the file\n",
    "# NOTE: update the key to match the dataset name\n",
    "found = False\n",
    "key = \"heart-failure-dataset\"\n",
    "description_text = \"Heart Failure Prediction data from kaggle\"\n",
    "\n",
    "if key in ws.datasets.keys(): \n",
    "        found = True\n",
    "        dataset = ws.datasets[key] \n",
    "\n",
    "if not found:\n",
    "        # Create AML Dataset and register it into Workspace\n",
    "        example_data = 'https://raw.githubusercontent.com/chinmaydas96/nd00333-capstone/master/heart.csv'\n",
    "        dataset = Dataset.Tabular.from_delimited_files(example_data)        \n",
    "        #Register Dataset in Workspace\n",
    "        dataset = dataset.register(workspace=ws,\n",
    "                                   name=key,\n",
    "                                   description=description_text)\n",
    "\n",
    "\n",
    "df = dataset.to_pandas_dataframe()\n",
    "df.describe()"
   ]
  },
  {
   "cell_type": "code",
   "execution_count": 5,
   "metadata": {},
   "outputs": [
    {
     "data": {
      "text/html": [
       "<div>\n",
       "<style scoped>\n",
       "    .dataframe tbody tr th:only-of-type {\n",
       "        vertical-align: middle;\n",
       "    }\n",
       "\n",
       "    .dataframe tbody tr th {\n",
       "        vertical-align: top;\n",
       "    }\n",
       "\n",
       "    .dataframe thead th {\n",
       "        text-align: right;\n",
       "    }\n",
       "</style>\n",
       "<table border=\"1\" class=\"dataframe\">\n",
       "  <thead>\n",
       "    <tr style=\"text-align: right;\">\n",
       "      <th></th>\n",
       "      <th>age</th>\n",
       "      <th>sex</th>\n",
       "      <th>cp</th>\n",
       "      <th>trestbps</th>\n",
       "      <th>chol</th>\n",
       "      <th>fbs</th>\n",
       "      <th>restecg</th>\n",
       "      <th>thalach</th>\n",
       "      <th>exang</th>\n",
       "      <th>oldpeak</th>\n",
       "      <th>slope</th>\n",
       "      <th>ca</th>\n",
       "      <th>thal</th>\n",
       "      <th>target</th>\n",
       "    </tr>\n",
       "  </thead>\n",
       "  <tbody>\n",
       "    <tr>\n",
       "      <th>0</th>\n",
       "      <td>63</td>\n",
       "      <td>1</td>\n",
       "      <td>3</td>\n",
       "      <td>145</td>\n",
       "      <td>233</td>\n",
       "      <td>1</td>\n",
       "      <td>0</td>\n",
       "      <td>150</td>\n",
       "      <td>0</td>\n",
       "      <td>2.3</td>\n",
       "      <td>0</td>\n",
       "      <td>0</td>\n",
       "      <td>1</td>\n",
       "      <td>1</td>\n",
       "    </tr>\n",
       "    <tr>\n",
       "      <th>1</th>\n",
       "      <td>37</td>\n",
       "      <td>1</td>\n",
       "      <td>2</td>\n",
       "      <td>130</td>\n",
       "      <td>250</td>\n",
       "      <td>0</td>\n",
       "      <td>1</td>\n",
       "      <td>187</td>\n",
       "      <td>0</td>\n",
       "      <td>3.5</td>\n",
       "      <td>0</td>\n",
       "      <td>0</td>\n",
       "      <td>2</td>\n",
       "      <td>1</td>\n",
       "    </tr>\n",
       "    <tr>\n",
       "      <th>2</th>\n",
       "      <td>41</td>\n",
       "      <td>0</td>\n",
       "      <td>1</td>\n",
       "      <td>130</td>\n",
       "      <td>204</td>\n",
       "      <td>0</td>\n",
       "      <td>0</td>\n",
       "      <td>172</td>\n",
       "      <td>0</td>\n",
       "      <td>1.4</td>\n",
       "      <td>2</td>\n",
       "      <td>0</td>\n",
       "      <td>2</td>\n",
       "      <td>1</td>\n",
       "    </tr>\n",
       "    <tr>\n",
       "      <th>3</th>\n",
       "      <td>56</td>\n",
       "      <td>1</td>\n",
       "      <td>1</td>\n",
       "      <td>120</td>\n",
       "      <td>236</td>\n",
       "      <td>0</td>\n",
       "      <td>1</td>\n",
       "      <td>178</td>\n",
       "      <td>0</td>\n",
       "      <td>0.8</td>\n",
       "      <td>2</td>\n",
       "      <td>0</td>\n",
       "      <td>2</td>\n",
       "      <td>1</td>\n",
       "    </tr>\n",
       "    <tr>\n",
       "      <th>4</th>\n",
       "      <td>57</td>\n",
       "      <td>0</td>\n",
       "      <td>0</td>\n",
       "      <td>120</td>\n",
       "      <td>354</td>\n",
       "      <td>0</td>\n",
       "      <td>1</td>\n",
       "      <td>163</td>\n",
       "      <td>1</td>\n",
       "      <td>0.6</td>\n",
       "      <td>2</td>\n",
       "      <td>0</td>\n",
       "      <td>2</td>\n",
       "      <td>1</td>\n",
       "    </tr>\n",
       "  </tbody>\n",
       "</table>\n",
       "</div>"
      ],
      "text/plain": [
       "   age  sex  cp  trestbps  chol  fbs  restecg  thalach  exang  oldpeak  slope  \\\n",
       "0   63    1   3       145   233    1        0      150      0      2.3      0   \n",
       "1   37    1   2       130   250    0        1      187      0      3.5      0   \n",
       "2   41    0   1       130   204    0        0      172      0      1.4      2   \n",
       "3   56    1   1       120   236    0        1      178      0      0.8      2   \n",
       "4   57    0   0       120   354    0        1      163      1      0.6      2   \n",
       "\n",
       "   ca  thal  target  \n",
       "0   0     1       1  \n",
       "1   0     2       1  \n",
       "2   0     2       1  \n",
       "3   0     2       1  \n",
       "4   0     2       1  "
      ]
     },
     "execution_count": 5,
     "metadata": {},
     "output_type": "execute_result"
    }
   ],
   "source": [
    "df.head()"
   ]
  },
  {
   "cell_type": "code",
   "execution_count": 6,
   "metadata": {},
   "outputs": [],
   "source": [
    "from sklearn.model_selection import train_test_split\n",
    "train_df, test_df = train_test_split(df, test_size=0.25, random_state=1)"
   ]
  },
  {
   "cell_type": "code",
   "execution_count": 7,
   "metadata": {},
   "outputs": [],
   "source": [
    "if \"train_data_folder\" not in os.listdir():\n",
    "    os.mkdir(\"./train_data_folder\")\n",
    "\n",
    "if \"models\" not in os.listdir():\n",
    "    os.mkdir(\"./models\")\n",
    "if \"outputs\" not in os.listdir():\n",
    "    os.mkdir(\"./outputs\")\n",
    "\n",
    "train_df.to_csv(\"./train_data_folder/train.csv\", index = False)"
   ]
  },
  {
   "cell_type": "code",
   "execution_count": 8,
   "metadata": {},
   "outputs": [
    {
     "name": "stdout",
     "output_type": "stream",
     "text": [
      "Uploading an estimated of 1 files\n",
      "Uploading ./train_data_folder/train.csv\n",
      "Uploaded ./train_data_folder/train.csv, 1 files out of an estimated total of 1\n",
      "Uploaded 1 files\n"
     ]
    },
    {
     "data": {
      "text/plain": [
       "$AZUREML_DATAREFERENCE_14b4eb14e0274c04afdd695bb745ea63"
      ]
     },
     "execution_count": 8,
     "metadata": {},
     "output_type": "execute_result"
    }
   ],
   "source": [
    "data_store = ws.get_default_datastore()\n",
    "data_store.upload(src_dir = \"./train_data_folder\", target_path = 'datasets', overwrite = True,  show_progress = True)"
   ]
  },
  {
   "cell_type": "code",
   "execution_count": 9,
   "metadata": {},
   "outputs": [],
   "source": [
    "train_data = Dataset.Tabular.from_delimited_files(path=data_store.path(\"datasets/train.csv\"))"
   ]
  },
  {
   "cell_type": "markdown",
   "metadata": {},
   "source": [
    "## AutoML Configuration\n",
    "\n",
    "TODO: Explain why you chose the automl settings and cofiguration you used below."
   ]
  },
  {
   "cell_type": "code",
   "execution_count": 10,
   "metadata": {},
   "outputs": [],
   "source": [
    "# TODO: Put your automl settings here\n",
    "automl_settings = {\n",
    "    \"experiment_timeout_minutes\": 20,\n",
    "    \"n_cross_validations\": 5,\n",
    "    \"max_concurrent_iterations\": 5,\n",
    "    \"primary_metric\" : 'AUC_weighted'\n",
    "}\n",
    "\n",
    "# TODO: Put your automl config here\n",
    "automl_config = AutoMLConfig(compute_target=compute_target,\n",
    "                             task = \"classification\",\n",
    "                             training_data=dataset,\n",
    "                             label_column_name=\"target\",    \n",
    "                             path = project_folder,\n",
    "                             enable_onnx_compatible_models=True,\n",
    "                             enable_early_stopping= True,\n",
    "                             featurization= 'auto', #off\n",
    "                             debug_log = \"automl_errors.log\",\n",
    "                             **automl_settings\n",
    "                            )"
   ]
  },
  {
   "cell_type": "code",
   "execution_count": 11,
   "metadata": {
    "gather": {
     "logged": 1598431107951
    },
    "jupyter": {
     "outputs_hidden": false,
     "source_hidden": false
    },
    "nteract": {
     "transient": {
      "deleting": false
     }
    },
    "scrolled": false
   },
   "outputs": [
    {
     "name": "stdout",
     "output_type": "stream",
     "text": [
      "Submitting remote run.\n",
      "No run_configuration provided, running on cluster-automl with default configuration\n",
      "Running on remote compute: cluster-automl\n"
     ]
    },
    {
     "data": {
      "text/html": [
       "<table style=\"width:100%\"><tr><th>Experiment</th><th>Id</th><th>Type</th><th>Status</th><th>Details Page</th><th>Docs Page</th></tr><tr><td>heart-failure-prediction</td><td>AutoML_82e9f29f-1769-4686-85c7-b41400e2cb12</td><td>automl</td><td>NotStarted</td><td><a href=\"https://ml.azure.com/runs/AutoML_82e9f29f-1769-4686-85c7-b41400e2cb12?wsid=/subscriptions/99625554-65d2-4421-aea7-7ddd513d8fe5/resourcegroups/mltest/workspaces/mltest&amp;tid=13b62211-d5ac-471c-a33b-9d952195a20c\" target=\"_blank\" rel=\"noopener\">Link to Azure Machine Learning studio</a></td><td><a href=\"https://docs.microsoft.com/en-us/python/api/overview/azure/ml/intro?view=azure-ml-py\" target=\"_blank\" rel=\"noopener\">Link to Documentation</a></td></tr></table>"
      ],
      "text/plain": [
       "<IPython.core.display.HTML object>"
      ]
     },
     "metadata": {},
     "output_type": "display_data"
    },
    {
     "name": "stdout",
     "output_type": "stream",
     "text": [
      "\n",
      "Current status: FeaturesGeneration. Generating features for the dataset.\n",
      "Current status: DatasetCrossValidationSplit. Generating individually featurized CV splits.\n",
      "Current status: ModelSelection. Beginning model selection.\n",
      "\n",
      "****************************************************************************************************\n",
      "DATA GUARDRAILS: \n",
      "\n",
      "TYPE:         Class balancing detection\n",
      "STATUS:       PASSED\n",
      "DESCRIPTION:  Your inputs were analyzed, and all classes are balanced in your training data.\n",
      "              Learn more about imbalanced data: https://aka.ms/AutomatedMLImbalancedData\n",
      "\n",
      "****************************************************************************************************\n",
      "\n",
      "TYPE:         Missing feature values imputation\n",
      "STATUS:       PASSED\n",
      "DESCRIPTION:  No feature missing values were detected in the training data.\n",
      "              Learn more about missing value imputation: https://aka.ms/AutomatedMLFeaturization\n",
      "\n",
      "****************************************************************************************************\n",
      "\n",
      "TYPE:         High cardinality feature detection\n",
      "STATUS:       PASSED\n",
      "DESCRIPTION:  Your inputs were analyzed, and no high cardinality features were detected.\n",
      "              Learn more about high cardinality feature handling: https://aka.ms/AutomatedMLFeaturization\n",
      "\n",
      "****************************************************************************************************\n",
      "\n",
      "****************************************************************************************************\n",
      "ITERATION: The iteration being evaluated.\n",
      "PIPELINE: A summary description of the pipeline being evaluated.\n",
      "DURATION: Time taken for the current iteration.\n",
      "METRIC: The result of computing score on the fitted pipeline.\n",
      "BEST: The best observed score thus far.\n",
      "****************************************************************************************************\n",
      "\n",
      " ITERATION   PIPELINE                                       DURATION      METRIC      BEST\n",
      "         0   MaxAbsScaler LightGBM                          0:00:45       0.8656    0.8656\n",
      "         2   MaxAbsScaler RandomForest                      0:00:43       0.8909    0.8909\n",
      "         3   MaxAbsScaler RandomForest                      0:00:44       0.8986    0.8986\n",
      "         4   MaxAbsScaler RandomForest                      0:00:47       0.8968    0.8986\n",
      "         1   MaxAbsScaler XGBoostClassifier                 0:00:52       0.8862    0.8986\n",
      "         5   MaxAbsScaler ExtremeRandomTrees                0:00:42       0.8823    0.8986\n",
      "         6   MaxAbsScaler ExtremeRandomTrees                0:00:46       0.9006    0.9006\n",
      "         7   MaxAbsScaler ExtremeRandomTrees                0:00:56       0.9054    0.9054\n",
      "         8   MaxAbsScaler RandomForest                      0:00:42       0.9154    0.9154\n",
      "         9   MaxAbsScaler ExtremeRandomTrees                0:00:49       0.9200    0.9200\n",
      "        10   MaxAbsScaler RandomForest                      0:00:51       0.8768    0.9200\n",
      "        11   MaxAbsScaler RandomForest                      0:00:45       0.8851    0.9200\n",
      "        12   MaxAbsScaler RandomForest                      0:00:49       0.9194    0.9200\n",
      "        13   StandardScalerWrapper XGBoostClassifier        0:00:46       0.8686    0.9200\n",
      "        14   MaxAbsScaler RandomForest                      0:00:38       0.8992    0.9200\n",
      "        15   StandardScalerWrapper ExtremeRandomTrees       0:00:47       0.8721    0.9200\n",
      "        16   MaxAbsScaler ExtremeRandomTrees                0:00:48       0.8940    0.9200\n",
      "        17   MaxAbsScaler ExtremeRandomTrees                0:00:52       0.9159    0.9200\n",
      "        18   MaxAbsScaler RandomForest                      0:01:02       0.9023    0.9200\n",
      "        19   MaxAbsScaler LightGBM                          0:00:52       0.9100    0.9200\n",
      "        20   MaxAbsScaler LightGBM                          0:00:48       0.9109    0.9200\n",
      "        21   MaxAbsScaler LightGBM                          0:00:45       0.8984    0.9200\n",
      "        22   MaxAbsScaler LightGBM                          0:00:44       0.9030    0.9200\n",
      "        23   MaxAbsScaler LightGBM                          0:00:42       0.9092    0.9200\n",
      "        24   MaxAbsScaler LogisticRegression                0:00:52       0.9178    0.9200\n",
      "        25   MaxAbsScaler ExtremeRandomTrees                0:00:49       0.8928    0.9200\n",
      "        26   StandardScalerWrapper ExtremeRandomTrees       0:00:44       0.8779    0.9200\n",
      "        27   MaxAbsScaler ExtremeRandomTrees                0:00:49       0.8993    0.9200\n",
      "        28   MaxAbsScaler ExtremeRandomTrees                0:00:43       0.9066    0.9200\n",
      "        29   MaxAbsScaler RandomForest                      0:00:46       0.9042    0.9200\n",
      "        30   SparseNormalizer ExtremeRandomTrees            0:00:53       0.9127    0.9200\n",
      "        31   SparseNormalizer XGBoostClassifier             0:00:50       0.8975    0.9200\n",
      "        32   StandardScalerWrapper LogisticRegression       0:00:53       0.9175    0.9200\n",
      "        33   SparseNormalizer XGBoostClassifier             0:00:46       0.8904    0.9200\n",
      "ERROR: {\n",
      "    \"additional_properties\": {},\n",
      "    \"error\": {\n",
      "        \"additional_properties\": {\n",
      "            \"debugInfo\": null\n",
      "        },\n",
      "        \"code\": \"UserError\",\n",
      "        \"severity\": null,\n",
      "        \"message\": \"Experiment timeout reached, please consider increasing your experiment timeout.\",\n",
      "        \"message_format\": \"Experiment timeout reached, please consider increasing your experiment timeout.\",\n",
      "        \"message_parameters\": {},\n",
      "        \"reference_code\": null,\n",
      "        \"details_uri\": null,\n",
      "        \"target\": null,\n",
      "        \"details\": [],\n",
      "        \"inner_error\": {\n",
      "            \"additional_properties\": {},\n",
      "            \"code\": \"ResourceExhausted\",\n",
      "            \"inner_error\": {\n",
      "                \"additional_properties\": {},\n",
      "                \"code\": \"Timeout\",\n",
      "                \"inner_error\": {\n",
      "                    \"additional_properties\": {},\n",
      "                    \"code\": \"ExperimentTimeoutForIterations\",\n",
      "                    \"inner_error\": null\n",
      "                }\n",
      "            }\n",
      "        }\n",
      "    },\n",
      "    \"correlation\": null,\n",
      "    \"environment\": null,\n",
      "    \"location\": null,\n",
      "    \"time\": {},\n",
      "    \"component_name\": null\n",
      "}\n",
      "        34                                                  0:02:12          nan    0.9200\n",
      "ERROR: {\n",
      "    \"additional_properties\": {},\n",
      "    \"error\": {\n",
      "        \"additional_properties\": {\n",
      "            \"debugInfo\": null\n",
      "        },\n",
      "        \"code\": \"UserError\",\n",
      "        \"severity\": null,\n",
      "        \"message\": \"Experiment timeout reached, please consider increasing your experiment timeout.\",\n",
      "        \"message_format\": \"Experiment timeout reached, please consider increasing your experiment timeout.\",\n",
      "        \"message_parameters\": {},\n",
      "        \"reference_code\": null,\n",
      "        \"details_uri\": null,\n",
      "        \"target\": null,\n",
      "        \"details\": [],\n",
      "        \"inner_error\": {\n",
      "            \"additional_properties\": {},\n",
      "            \"code\": \"ResourceExhausted\",\n",
      "            \"inner_error\": {\n",
      "                \"additional_properties\": {},\n",
      "                \"code\": \"Timeout\",\n",
      "                \"inner_error\": {\n",
      "                    \"additional_properties\": {},\n",
      "                    \"code\": \"ExperimentTimeoutForIterations\",\n",
      "                    \"inner_error\": null\n",
      "                }\n",
      "            }\n",
      "        }\n",
      "    },\n",
      "    \"correlation\": null,\n",
      "    \"environment\": null,\n",
      "    \"location\": null,\n",
      "    \"time\": {},\n",
      "    \"component_name\": null\n",
      "}\n",
      "        35                                                  0:01:10          nan    0.9200\n",
      "ERROR: {\n",
      "    \"additional_properties\": {},\n",
      "    \"error\": {\n",
      "        \"additional_properties\": {\n",
      "            \"debugInfo\": null\n",
      "        },\n",
      "        \"code\": \"UserError\",\n",
      "        \"severity\": null,\n",
      "        \"message\": \"Experiment timeout reached, please consider increasing your experiment timeout.\",\n",
      "        \"message_format\": \"Experiment timeout reached, please consider increasing your experiment timeout.\",\n",
      "        \"message_parameters\": {},\n",
      "        \"reference_code\": null,\n",
      "        \"details_uri\": null,\n",
      "        \"target\": null,\n",
      "        \"details\": [],\n",
      "        \"inner_error\": {\n",
      "            \"additional_properties\": {},\n",
      "            \"code\": \"ResourceExhausted\",\n",
      "            \"inner_error\": {\n",
      "                \"additional_properties\": {},\n",
      "                \"code\": \"Timeout\",\n",
      "                \"inner_error\": {\n",
      "                    \"additional_properties\": {},\n",
      "                    \"code\": \"ExperimentTimeoutForIterations\",\n",
      "                    \"inner_error\": null\n",
      "                }\n",
      "            }\n",
      "        }\n",
      "    },\n",
      "    \"correlation\": null,\n",
      "    \"environment\": null,\n",
      "    \"location\": null,\n",
      "    \"time\": {},\n",
      "    \"component_name\": null\n",
      "}\n",
      "        36                                                  0:01:06          nan    0.9200\n",
      "ERROR: {\n",
      "    \"additional_properties\": {},\n",
      "    \"error\": {\n",
      "        \"additional_properties\": {\n",
      "            \"debugInfo\": null\n",
      "        },\n",
      "        \"code\": \"UserError\",\n",
      "        \"severity\": null,\n",
      "        \"message\": \"Experiment timeout reached, please consider increasing your experiment timeout.\",\n",
      "        \"message_format\": \"Experiment timeout reached, please consider increasing your experiment timeout.\",\n",
      "        \"message_parameters\": {},\n",
      "        \"reference_code\": null,\n",
      "        \"details_uri\": null,\n",
      "        \"target\": null,\n",
      "        \"details\": [],\n",
      "        \"inner_error\": {\n",
      "            \"additional_properties\": {},\n",
      "            \"code\": \"ResourceExhausted\",\n",
      "            \"inner_error\": {\n",
      "                \"additional_properties\": {},\n",
      "                \"code\": \"Timeout\",\n",
      "                \"inner_error\": {\n",
      "                    \"additional_properties\": {},\n",
      "                    \"code\": \"ExperimentTimeoutForIterations\",\n",
      "                    \"inner_error\": null\n",
      "                }\n",
      "            }\n",
      "        }\n",
      "    },\n",
      "    \"correlation\": null,\n",
      "    \"environment\": null,\n",
      "    \"location\": null,\n",
      "    \"time\": {},\n",
      "    \"component_name\": null\n",
      "}\n",
      "        37    VotingEnsemble                                0:01:24       0.9286    0.9286\n"
     ]
    }
   ],
   "source": [
    "# TODO: Submit your experiment\n",
    "remote_run = experiment.submit(automl_config, show_output= True)"
   ]
  },
  {
   "cell_type": "markdown",
   "metadata": {},
   "source": [
    "## Run Details\n",
    "\n",
    "OPTIONAL: Write about the different models trained and their performance. Why do you think some models did better than others?\n",
    "\n",
    "TODO: In the cell below, use the `RunDetails` widget to show the different experiments."
   ]
  },
  {
   "cell_type": "code",
   "execution_count": 12,
   "metadata": {
    "gather": {
     "logged": 1598431121770
    },
    "jupyter": {
     "outputs_hidden": false,
     "source_hidden": false
    },
    "nteract": {
     "transient": {
      "deleting": false
     }
    },
    "scrolled": false
   },
   "outputs": [
    {
     "data": {
      "application/vnd.jupyter.widget-view+json": {
       "model_id": "32423a880400470eb993661cb994860f",
       "version_major": 2,
       "version_minor": 0
      },
      "text/plain": [
       "_AutoMLWidget(widget_settings={'childWidgetDisplay': 'popup', 'send_telemetry': False, 'log_level': 'INFO', 's…"
      ]
     },
     "metadata": {},
     "output_type": "display_data"
    },
    {
     "data": {
      "application/aml.mini.widget.v1": "{\"status\": \"Completed\", \"workbench_run_details_uri\": \"https://ml.azure.com/runs/AutoML_82e9f29f-1769-4686-85c7-b41400e2cb12?wsid=/subscriptions/99625554-65d2-4421-aea7-7ddd513d8fe5/resourcegroups/mltest/workspaces/mltest&tid=13b62211-d5ac-471c-a33b-9d952195a20c\", \"run_id\": \"AutoML_82e9f29f-1769-4686-85c7-b41400e2cb12\", \"run_properties\": {\"run_id\": \"AutoML_82e9f29f-1769-4686-85c7-b41400e2cb12\", \"created_utc\": \"2021-04-13T15:10:50.113829Z\", \"properties\": {\"num_iterations\": \"1000\", \"training_type\": \"TrainFull\", \"acquisition_function\": \"EI\", \"primary_metric\": \"AUC_weighted\", \"train_split\": \"0\", \"acquisition_parameter\": \"0\", \"num_cross_validation\": \"5\", \"target\": \"cluster-automl\", \"AMLSettingsJsonString\": \"{\\\"path\\\":null,\\\"name\\\":\\\"heart-failure-prediction\\\",\\\"subscription_id\\\":\\\"99625554-65d2-4421-aea7-7ddd513d8fe5\\\",\\\"resource_group\\\":\\\"mltest\\\",\\\"workspace_name\\\":\\\"mltest\\\",\\\"region\\\":\\\"eastus2\\\",\\\"compute_target\\\":\\\"cluster-automl\\\",\\\"spark_service\\\":null,\\\"azure_service\\\":\\\"remote\\\",\\\"many_models\\\":false,\\\"pipeline_fetch_max_batch_size\\\":1,\\\"enable_batch_run\\\":false,\\\"enable_run_restructure\\\":false,\\\"iterations\\\":1000,\\\"primary_metric\\\":\\\"AUC_weighted\\\",\\\"task_type\\\":\\\"classification\\\",\\\"data_script\\\":null,\\\"test_size\\\":0.0,\\\"validation_size\\\":0.0,\\\"n_cross_validations\\\":5,\\\"y_min\\\":null,\\\"y_max\\\":null,\\\"num_classes\\\":null,\\\"featurization\\\":\\\"auto\\\",\\\"_ignore_package_version_incompatibilities\\\":false,\\\"is_timeseries\\\":false,\\\"max_cores_per_iteration\\\":1,\\\"max_concurrent_iterations\\\":5,\\\"iteration_timeout_minutes\\\":null,\\\"mem_in_mb\\\":null,\\\"enforce_time_on_windows\\\":false,\\\"experiment_timeout_minutes\\\":20,\\\"experiment_exit_score\\\":null,\\\"whitelist_models\\\":null,\\\"blacklist_algos\\\":[\\\"TensorFlowLinearClassifier\\\",\\\"TensorFlowDNN\\\"],\\\"supported_models\\\":[\\\"SGD\\\",\\\"LinearSVM\\\",\\\"RandomForest\\\",\\\"LogisticRegression\\\",\\\"KNN\\\",\\\"SVM\\\",\\\"LightGBM\\\",\\\"XGBoostClassifier\\\",\\\"AveragedPerceptronClassifier\\\",\\\"TensorFlowDNN\\\",\\\"DecisionTree\\\",\\\"TensorFlowLinearClassifier\\\",\\\"GradientBoosting\\\",\\\"MultinomialNaiveBayes\\\",\\\"BernoulliNaiveBayes\\\",\\\"ExtremeRandomTrees\\\"],\\\"private_models\\\":[],\\\"auto_blacklist\\\":true,\\\"blacklist_samples_reached\\\":false,\\\"exclude_nan_labels\\\":true,\\\"verbosity\\\":20,\\\"_debug_log\\\":\\\"azureml_automl.log\\\",\\\"show_warnings\\\":false,\\\"model_explainability\\\":true,\\\"service_url\\\":null,\\\"sdk_url\\\":null,\\\"sdk_packages\\\":null,\\\"enable_onnx_compatible_models\\\":true,\\\"enable_split_onnx_featurizer_estimator_models\\\":false,\\\"vm_type\\\":\\\"STANDARD_D2_V2\\\",\\\"telemetry_verbosity\\\":20,\\\"send_telemetry\\\":true,\\\"enable_dnn\\\":false,\\\"scenario\\\":\\\"SDK-1.13.0\\\",\\\"environment_label\\\":null,\\\"save_mlflow\\\":false,\\\"force_text_dnn\\\":false,\\\"enable_feature_sweeping\\\":false,\\\"enable_early_stopping\\\":true,\\\"early_stopping_n_iters\\\":10,\\\"metrics\\\":null,\\\"enable_metric_confidence\\\":false,\\\"enable_ensembling\\\":true,\\\"enable_stack_ensembling\\\":false,\\\"ensemble_iterations\\\":15,\\\"enable_tf\\\":false,\\\"enable_subsampling\\\":null,\\\"subsample_seed\\\":null,\\\"enable_nimbusml\\\":false,\\\"enable_streaming\\\":false,\\\"force_streaming\\\":false,\\\"track_child_runs\\\":true,\\\"allowed_private_models\\\":[],\\\"label_column_name\\\":\\\"target\\\",\\\"weight_column_name\\\":null,\\\"cv_split_column_names\\\":null,\\\"enable_local_managed\\\":false,\\\"_local_managed_run_id\\\":null,\\\"cost_mode\\\":1,\\\"lag_length\\\":0,\\\"metric_operation\\\":\\\"maximize\\\",\\\"preprocess\\\":true}\", \"DataPrepJsonString\": \"{\\\\\\\"training_data\\\\\\\": {\\\\\\\"datasetId\\\\\\\": \\\\\\\"60a54961-99e5-48c6-9cf7-5943cf20f515\\\\\\\"}, \\\\\\\"datasets\\\\\\\": 0}\", \"EnableSubsampling\": null, \"runTemplate\": \"AutoML\", \"azureml.runsource\": \"automl\", \"display_task_type\": \"classification\", \"dependencies_versions\": \"{\\\"azureml-widgets\\\": \\\"1.26.0\\\", \\\"azureml-train\\\": \\\"1.26.0\\\", \\\"azureml-train-restclients-hyperdrive\\\": \\\"1.26.0\\\", \\\"azureml-train-core\\\": \\\"1.26.0\\\", \\\"azureml-train-automl\\\": \\\"1.26.0\\\", \\\"azureml-train-automl-runtime\\\": \\\"1.26.0\\\", \\\"azureml-train-automl-client\\\": \\\"1.26.0\\\", \\\"azureml-tensorboard\\\": \\\"1.26.0\\\", \\\"azureml-telemetry\\\": \\\"1.26.0\\\", \\\"azureml-sdk\\\": \\\"1.26.0\\\", \\\"azureml-samples\\\": \\\"0+unknown\\\", \\\"azureml-pipeline\\\": \\\"1.26.0\\\", \\\"azureml-pipeline-steps\\\": \\\"1.26.0\\\", \\\"azureml-pipeline-core\\\": \\\"1.26.0\\\", \\\"azureml-opendatasets\\\": \\\"1.26.0\\\", \\\"azureml-model-management-sdk\\\": \\\"1.0.1b6.post1\\\", \\\"azureml-mlflow\\\": \\\"1.26.0\\\", \\\"azureml-interpret\\\": \\\"1.26.0\\\", \\\"azureml-explain-model\\\": \\\"1.26.0\\\", \\\"azureml-defaults\\\": \\\"1.26.0\\\", \\\"azureml-dataset-runtime\\\": \\\"1.26.0\\\", \\\"azureml-dataprep\\\": \\\"2.13.2\\\", \\\"azureml-dataprep-rslex\\\": \\\"1.11.2\\\", \\\"azureml-dataprep-native\\\": \\\"32.0.0\\\", \\\"azureml-datadrift\\\": \\\"1.26.0\\\", \\\"azureml-core\\\": \\\"1.26.0\\\", \\\"azureml-contrib-services\\\": \\\"1.26.0\\\", \\\"azureml-contrib-server\\\": \\\"1.26.0\\\", \\\"azureml-contrib-reinforcementlearning\\\": \\\"1.26.0\\\", \\\"azureml-contrib-pipeline-steps\\\": \\\"1.26.0\\\", \\\"azureml-contrib-notebook\\\": \\\"1.26.0\\\", \\\"azureml-contrib-gbdt\\\": \\\"1.26.0\\\", \\\"azureml-contrib-fairness\\\": \\\"1.26.0\\\", \\\"azureml-contrib-dataset\\\": \\\"1.26.0\\\", \\\"azureml-cli-common\\\": \\\"1.26.0\\\", \\\"azureml-automl-runtime\\\": \\\"1.26.0\\\", \\\"azureml-automl-dnn-nlp\\\": \\\"1.26.0\\\", \\\"azureml-automl-core\\\": \\\"1.26.0\\\", \\\"azureml-accel-models\\\": \\\"1.26.0\\\"}\", \"_aml_system_scenario_identification\": \"Remote.Parent\", \"ClientType\": \"SDK\", \"environment_cpu_name\": \"AzureML-AutoML\", \"environment_cpu_label\": \"prod\", \"environment_gpu_name\": \"AzureML-AutoML-GPU\", \"environment_gpu_label\": \"prod\", \"root_attribution\": \"automl\", \"attribution\": \"AutoML\", \"Orchestrator\": \"AutoML\", \"CancelUri\": \"https://eastus2.experiments.azureml.net/jasmine/v1.0/subscriptions/99625554-65d2-4421-aea7-7ddd513d8fe5/resourceGroups/mltest/providers/Microsoft.MachineLearningServices/workspaces/mltest/experimentids/92625128-63e0-4750-86a3-5157af4afcf1/cancel/AutoML_82e9f29f-1769-4686-85c7-b41400e2cb12\", \"ClientSdkVersion\": \"1.25.0\", \"snapshotId\": \"00000000-0000-0000-0000-000000000000\", \"SetupRunId\": \"AutoML_82e9f29f-1769-4686-85c7-b41400e2cb12_setup\", \"SetupRunContainerId\": \"dcid.AutoML_82e9f29f-1769-4686-85c7-b41400e2cb12_setup\", \"FeaturizationRunJsonPath\": \"featurizer_container.json\", \"FeaturizationRunId\": \"AutoML_82e9f29f-1769-4686-85c7-b41400e2cb12_featurize\", \"ProblemInfoJsonString\": \"{\\\"dataset_num_categorical\\\": 0, \\\"is_sparse\\\": true, \\\"subsampling\\\": false, \\\"dataset_classes\\\": 2, \\\"dataset_features\\\": 27, \\\"dataset_samples\\\": 303, \\\"single_frequency_class_detected\\\": false}\", \"ModelExplainRunId\": \"AutoML_82e9f29f-1769-4686-85c7-b41400e2cb12_ModelExplain\"}, \"tags\": {\"model_explain_run\": \"best_run\", \"_aml_system_azureml.automlComponent\": \"AutoML\", \"pipeline_id\": \"\", \"score\": \"\", \"predicted_cost\": \"\", \"fit_time\": \"\", \"training_percent\": \"\", \"iteration\": \"\", \"run_preprocessor\": \"\", \"run_algorithm\": \"\", \"dynamic_whitelisting_iterations\": \"<25>;<30>;<35>;\", \"automl_best_child_run_id\": \"AutoML_82e9f29f-1769-4686-85c7-b41400e2cb12_37\", \"model_explain_best_run_child_id\": \"AutoML_82e9f29f-1769-4686-85c7-b41400e2cb12_37\"}, \"end_time_utc\": \"2021-04-13T15:40:13.02629Z\", \"status\": \"Completed\", \"log_files\": {}, \"log_groups\": [], \"run_duration\": \"0:29:22\", \"run_number\": \"5\", \"run_queued_details\": {\"status\": \"Completed\", \"details\": null}}, \"child_runs\": [{\"run_id\": \"AutoML_82e9f29f-1769-4686-85c7-b41400e2cb12_3\", \"run_number\": 20, \"metric\": null, \"status\": \"Completed\", \"run_type\": \"azureml.scriptrun\", \"training_percent\": \"100\", \"start_time\": \"2021-04-13T15:19:57.331519Z\", \"end_time\": \"2021-04-13T15:20:41.653677Z\", \"created_time\": \"2021-04-13T15:17:43.621434Z\", \"created_time_dt\": \"2021-04-13T15:17:43.621434Z\", \"duration\": \"0:02:58\", \"iteration\": \"3\", \"goal\": \"AUC_weighted_max\", \"run_name\": \"MaxAbsScaler, RandomForest\", \"run_properties\": \"copy=True\", \"primary_metric\": 0.89864637, \"best_metric\": 0.89864637}, {\"run_id\": \"AutoML_82e9f29f-1769-4686-85c7-b41400e2cb12_1\", \"run_number\": 21, \"metric\": null, \"status\": \"Completed\", \"run_type\": \"azureml.scriptrun\", \"training_percent\": \"100\", \"start_time\": \"2021-04-13T15:20:43.558023Z\", \"end_time\": \"2021-04-13T15:21:35.380762Z\", \"created_time\": \"2021-04-13T15:17:43.622864Z\", \"created_time_dt\": \"2021-04-13T15:17:43.622864Z\", \"duration\": \"0:03:51\", \"iteration\": \"1\", \"goal\": \"AUC_weighted_max\", \"run_name\": \"MaxAbsScaler, XGBoostClassifier\", \"run_properties\": \"copy=True\", \"primary_metric\": 0.88620014, \"best_metric\": 0.88620014}, {\"run_id\": \"AutoML_82e9f29f-1769-4686-85c7-b41400e2cb12_2\", \"run_number\": 22, \"metric\": null, \"status\": \"Completed\", \"run_type\": \"azureml.scriptrun\", \"training_percent\": \"100\", \"start_time\": \"2021-04-13T15:19:45.735368Z\", \"end_time\": \"2021-04-13T15:20:28.310901Z\", \"created_time\": \"2021-04-13T15:17:43.636542Z\", \"created_time_dt\": \"2021-04-13T15:17:43.636542Z\", \"duration\": \"0:02:44\", \"iteration\": \"2\", \"goal\": \"AUC_weighted_max\", \"run_name\": \"MaxAbsScaler, RandomForest\", \"run_properties\": \"copy=True\", \"primary_metric\": 0.89085103, \"best_metric\": 0.89085103}, {\"run_id\": \"AutoML_82e9f29f-1769-4686-85c7-b41400e2cb12_0\", \"run_number\": 23, \"metric\": null, \"status\": \"Completed\", \"run_type\": \"azureml.scriptrun\", \"training_percent\": \"100\", \"start_time\": \"2021-04-13T15:18:56.953692Z\", \"end_time\": \"2021-04-13T15:19:42.099995Z\", \"created_time\": \"2021-04-13T15:17:43.872955Z\", \"created_time_dt\": \"2021-04-13T15:17:43.872955Z\", \"duration\": \"0:01:58\", \"iteration\": \"0\", \"goal\": \"AUC_weighted_max\", \"run_name\": \"MaxAbsScaler, LightGBM\", \"run_properties\": \"copy=True\", \"primary_metric\": 0.86563937, \"best_metric\": 0.86563937}, {\"run_id\": \"AutoML_82e9f29f-1769-4686-85c7-b41400e2cb12_4\", \"run_number\": 24, \"metric\": null, \"status\": \"Completed\", \"run_type\": \"azureml.scriptrun\", \"training_percent\": \"100\", \"start_time\": \"2021-04-13T15:19:47.854807Z\", \"end_time\": \"2021-04-13T15:20:35.091238Z\", \"created_time\": \"2021-04-13T15:17:44.01056Z\", \"created_time_dt\": \"2021-04-13T15:17:44.01056Z\", \"duration\": \"0:02:51\", \"iteration\": \"4\", \"goal\": \"AUC_weighted_max\", \"run_name\": \"MaxAbsScaler, RandomForest\", \"run_properties\": \"copy=True\", \"primary_metric\": 0.89681028, \"best_metric\": 0.89864637}, {\"run_id\": \"AutoML_82e9f29f-1769-4686-85c7-b41400e2cb12_5\", \"run_number\": 30, \"metric\": null, \"status\": \"Completed\", \"run_type\": \"azureml.scriptrun\", \"training_percent\": \"100\", \"start_time\": \"2021-04-13T15:22:48.489304Z\", \"end_time\": \"2021-04-13T15:23:30.05311Z\", \"created_time\": \"2021-04-13T15:19:43.912101Z\", \"created_time_dt\": \"2021-04-13T15:19:43.912101Z\", \"duration\": \"0:03:46\", \"iteration\": \"5\", \"goal\": \"AUC_weighted_max\", \"run_name\": \"MaxAbsScaler, ExtremeRandomTrees\", \"run_properties\": \"copy=True\", \"primary_metric\": 0.88230847, \"best_metric\": 0.89864637}, {\"run_id\": \"AutoML_82e9f29f-1769-4686-85c7-b41400e2cb12_6\", \"run_number\": 31, \"metric\": null, \"status\": \"Completed\", \"run_type\": \"azureml.scriptrun\", \"training_percent\": \"100\", \"start_time\": \"2021-04-13T15:22:55.747692Z\", \"end_time\": \"2021-04-13T15:23:42.1255Z\", \"created_time\": \"2021-04-13T15:20:31.634147Z\", \"created_time_dt\": \"2021-04-13T15:20:31.634147Z\", \"duration\": \"0:03:10\", \"iteration\": \"6\", \"goal\": \"AUC_weighted_max\", \"run_name\": \"MaxAbsScaler, ExtremeRandomTrees\", \"run_properties\": \"copy=True\", \"primary_metric\": 0.90055322, \"best_metric\": 0.90055322}, {\"run_id\": \"AutoML_82e9f29f-1769-4686-85c7-b41400e2cb12_7\", \"run_number\": 32, \"metric\": null, \"status\": \"Completed\", \"run_type\": \"azureml.scriptrun\", \"training_percent\": \"100\", \"start_time\": \"2021-04-13T15:22:58.203386Z\", \"end_time\": \"2021-04-13T15:23:53.874678Z\", \"created_time\": \"2021-04-13T15:20:38.396434Z\", \"created_time_dt\": \"2021-04-13T15:20:38.396434Z\", \"duration\": \"0:03:15\", \"iteration\": \"7\", \"goal\": \"AUC_weighted_max\", \"run_name\": \"MaxAbsScaler, ExtremeRandomTrees\", \"run_properties\": \"copy=True\", \"primary_metric\": 0.90541193, \"best_metric\": 0.90541193}, {\"run_id\": \"AutoML_82e9f29f-1769-4686-85c7-b41400e2cb12_8\", \"run_number\": 33, \"metric\": null, \"status\": \"Completed\", \"run_type\": \"azureml.scriptrun\", \"training_percent\": \"100\", \"start_time\": \"2021-04-13T15:23:46.034771Z\", \"end_time\": \"2021-04-13T15:24:28.106161Z\", \"created_time\": \"2021-04-13T15:20:45.062975Z\", \"created_time_dt\": \"2021-04-13T15:20:45.062975Z\", \"duration\": \"0:03:43\", \"iteration\": \"8\", \"goal\": \"AUC_weighted_max\", \"run_name\": \"MaxAbsScaler, RandomForest\", \"run_properties\": \"copy=True\", \"primary_metric\": 0.91535371, \"best_metric\": 0.91535371}, {\"run_id\": \"AutoML_82e9f29f-1769-4686-85c7-b41400e2cb12_9\", \"run_number\": 35, \"metric\": null, \"status\": \"Completed\", \"run_type\": \"azureml.scriptrun\", \"training_percent\": \"100\", \"start_time\": \"2021-04-13T15:23:54.655544Z\", \"end_time\": \"2021-04-13T15:24:44.071853Z\", \"created_time\": \"2021-04-13T15:21:39.47869Z\", \"created_time_dt\": \"2021-04-13T15:21:39.47869Z\", \"duration\": \"0:03:04\", \"iteration\": \"9\", \"goal\": \"AUC_weighted_max\", \"run_name\": \"MaxAbsScaler, ExtremeRandomTrees\", \"run_properties\": \"copy=True\", \"primary_metric\": 0.92001458, \"best_metric\": 0.92001458}, {\"run_id\": \"AutoML_82e9f29f-1769-4686-85c7-b41400e2cb12_10\", \"run_number\": 40, \"metric\": null, \"status\": \"Completed\", \"run_type\": \"azureml.scriptrun\", \"training_percent\": \"100\", \"start_time\": \"2021-04-13T15:25:59.142582Z\", \"end_time\": \"2021-04-13T15:26:49.780935Z\", \"created_time\": \"2021-04-13T15:23:35.120238Z\", \"created_time_dt\": \"2021-04-13T15:23:35.120238Z\", \"duration\": \"0:03:14\", \"iteration\": \"10\", \"goal\": \"AUC_weighted_max\", \"run_name\": \"MaxAbsScaler, RandomForest\", \"run_properties\": \"copy=True\", \"primary_metric\": 0.87676681, \"best_metric\": 0.92001458}, {\"run_id\": \"AutoML_82e9f29f-1769-4686-85c7-b41400e2cb12_11\", \"run_number\": 41, \"metric\": null, \"status\": \"Completed\", \"run_type\": \"azureml.scriptrun\", \"training_percent\": \"100\", \"start_time\": \"2021-04-13T15:26:07.504166Z\", \"end_time\": \"2021-04-13T15:26:52.935022Z\", \"created_time\": \"2021-04-13T15:23:46.019549Z\", \"created_time_dt\": \"2021-04-13T15:23:46.019549Z\", \"duration\": \"0:03:06\", \"iteration\": \"11\", \"goal\": \"AUC_weighted_max\", \"run_name\": \"MaxAbsScaler, RandomForest\", \"run_properties\": \"copy=True\", \"primary_metric\": 0.88508181, \"best_metric\": 0.92001458}, {\"run_id\": \"AutoML_82e9f29f-1769-4686-85c7-b41400e2cb12_12\", \"run_number\": 42, \"metric\": null, \"status\": \"Completed\", \"run_type\": \"azureml.scriptrun\", \"training_percent\": \"100\", \"start_time\": \"2021-04-13T15:26:40.234329Z\", \"end_time\": \"2021-04-13T15:27:29.508242Z\", \"created_time\": \"2021-04-13T15:23:57.23005Z\", \"created_time_dt\": \"2021-04-13T15:23:57.23005Z\", \"duration\": \"0:03:32\", \"iteration\": \"12\", \"goal\": \"AUC_weighted_max\", \"run_name\": \"MaxAbsScaler, RandomForest\", \"run_properties\": \"copy=True\", \"primary_metric\": 0.91938831, \"best_metric\": 0.92001458}, {\"run_id\": \"AutoML_82e9f29f-1769-4686-85c7-b41400e2cb12_13\", \"run_number\": 43, \"metric\": null, \"status\": \"Completed\", \"run_type\": \"azureml.scriptrun\", \"training_percent\": \"100\", \"start_time\": \"2021-04-13T15:27:00.27709Z\", \"end_time\": \"2021-04-13T15:27:46.672868Z\", \"created_time\": \"2021-04-13T15:24:31.975894Z\", \"created_time_dt\": \"2021-04-13T15:24:31.975894Z\", \"duration\": \"0:03:14\", \"iteration\": \"13\", \"goal\": \"AUC_weighted_max\", \"run_name\": \"StandardScalerWrapper, XGBoostClassifier\", \"run_properties\": \"<azureml.automl.runtime.shared.model_wrappers.StandardScalerWrapper object at 0x7fd69e273860\", \"primary_metric\": 0.86861316, \"best_metric\": 0.92001458}, {\"run_id\": \"AutoML_82e9f29f-1769-4686-85c7-b41400e2cb12_14\", \"run_number\": 44, \"metric\": null, \"status\": \"Completed\", \"run_type\": \"azureml.scriptrun\", \"training_percent\": \"100\", \"start_time\": \"2021-04-13T15:27:24.791497Z\", \"end_time\": \"2021-04-13T15:28:02.691059Z\", \"created_time\": \"2021-04-13T15:24:47.48597Z\", \"created_time_dt\": \"2021-04-13T15:24:47.48597Z\", \"duration\": \"0:03:15\", \"iteration\": \"14\", \"goal\": \"AUC_weighted_max\", \"run_name\": \"MaxAbsScaler, RandomForest\", \"run_properties\": \"copy=True\", \"primary_metric\": 0.89922233, \"best_metric\": 0.92001458}, {\"run_id\": \"AutoML_82e9f29f-1769-4686-85c7-b41400e2cb12_15\", \"run_number\": 50, \"metric\": null, \"status\": \"Completed\", \"run_type\": \"azureml.scriptrun\", \"training_percent\": \"100\", \"start_time\": \"2021-04-13T15:29:20.926288Z\", \"end_time\": \"2021-04-13T15:30:07.592943Z\", \"created_time\": \"2021-04-13T15:26:53.055875Z\", \"created_time_dt\": \"2021-04-13T15:26:53.055875Z\", \"duration\": \"0:03:14\", \"iteration\": \"15\", \"goal\": \"AUC_weighted_max\", \"run_name\": \"StandardScalerWrapper, ExtremeRandomTrees\", \"run_properties\": \"<azureml.automl.runtime.shared.model_wrappers.StandardScalerWrapper object at 0x7fe330d664e0\", \"primary_metric\": 0.87212291, \"best_metric\": 0.92001458}, {\"run_id\": \"AutoML_82e9f29f-1769-4686-85c7-b41400e2cb12_16\", \"run_number\": 51, \"metric\": null, \"status\": \"Completed\", \"run_type\": \"azureml.scriptrun\", \"training_percent\": \"100\", \"start_time\": \"2021-04-13T15:29:57.627436Z\", \"end_time\": \"2021-04-13T15:30:45.677863Z\", \"created_time\": \"2021-04-13T15:26:58.24025Z\", \"created_time_dt\": \"2021-04-13T15:26:58.24025Z\", \"duration\": \"0:03:47\", \"iteration\": \"16\", \"goal\": \"AUC_weighted_max\", \"run_name\": \"MaxAbsScaler, ExtremeRandomTrees\", \"run_properties\": \"copy=True\", \"primary_metric\": 0.8939897, \"best_metric\": 0.92001458}, {\"run_id\": \"AutoML_82e9f29f-1769-4686-85c7-b41400e2cb12_17\", \"run_number\": 52, \"metric\": null, \"status\": \"Completed\", \"run_type\": \"azureml.scriptrun\", \"training_percent\": \"100\", \"start_time\": \"2021-04-13T15:30:18.2402Z\", \"end_time\": \"2021-04-13T15:31:10.375762Z\", \"created_time\": \"2021-04-13T15:27:35.006986Z\", \"created_time_dt\": \"2021-04-13T15:27:35.006986Z\", \"duration\": \"0:03:35\", \"iteration\": \"17\", \"goal\": \"AUC_weighted_max\", \"run_name\": \"MaxAbsScaler, ExtremeRandomTrees\", \"run_properties\": \"copy=True\", \"primary_metric\": 0.91591754, \"best_metric\": 0.92001458}, {\"run_id\": \"AutoML_82e9f29f-1769-4686-85c7-b41400e2cb12_18\", \"run_number\": 53, \"metric\": null, \"status\": \"Completed\", \"run_type\": \"azureml.scriptrun\", \"training_percent\": \"100\", \"start_time\": \"2021-04-13T15:30:20.663699Z\", \"end_time\": \"2021-04-13T15:31:23.153449Z\", \"created_time\": \"2021-04-13T15:27:52.263542Z\", \"created_time_dt\": \"2021-04-13T15:27:52.263542Z\", \"duration\": \"0:03:30\", \"iteration\": \"18\", \"goal\": \"AUC_weighted_max\", \"run_name\": \"MaxAbsScaler, RandomForest\", \"run_properties\": \"copy=True\", \"primary_metric\": 0.90230181, \"best_metric\": 0.92001458}, {\"run_id\": \"AutoML_82e9f29f-1769-4686-85c7-b41400e2cb12_19\", \"run_number\": 54, \"metric\": null, \"status\": \"Completed\", \"run_type\": \"azureml.scriptrun\", \"training_percent\": \"100\", \"start_time\": \"2021-04-13T15:31:04.621969Z\", \"end_time\": \"2021-04-13T15:31:56.319128Z\", \"created_time\": \"2021-04-13T15:28:06.330698Z\", \"created_time_dt\": \"2021-04-13T15:28:06.330698Z\", \"duration\": \"0:03:49\", \"iteration\": \"19\", \"goal\": \"AUC_weighted_max\", \"run_name\": \"MaxAbsScaler, LightGBM\", \"run_properties\": \"copy=True\", \"primary_metric\": 0.90997618, \"best_metric\": 0.92001458}, {\"run_id\": \"AutoML_82e9f29f-1769-4686-85c7-b41400e2cb12_20\", \"run_number\": 60, \"metric\": null, \"status\": \"Completed\", \"run_type\": \"azureml.scriptrun\", \"training_percent\": \"100\", \"start_time\": \"2021-04-13T15:32:18.235003Z\", \"end_time\": \"2021-04-13T15:33:06.282922Z\", \"created_time\": \"2021-04-13T15:30:10.352979Z\", \"created_time_dt\": \"2021-04-13T15:30:10.352979Z\", \"duration\": \"0:02:55\", \"iteration\": \"20\", \"goal\": \"AUC_weighted_max\", \"run_name\": \"MaxAbsScaler, LightGBM\", \"run_properties\": \"copy=True\", \"primary_metric\": 0.91087419, \"best_metric\": 0.92001458}, {\"run_id\": \"AutoML_82e9f29f-1769-4686-85c7-b41400e2cb12_21\", \"run_number\": 61, \"metric\": null, \"status\": \"Completed\", \"run_type\": \"azureml.scriptrun\", \"training_percent\": \"100\", \"start_time\": \"2021-04-13T15:32:19.523438Z\", \"end_time\": \"2021-04-13T15:33:04.491891Z\", \"created_time\": \"2021-04-13T15:30:48.526723Z\", \"created_time_dt\": \"2021-04-13T15:30:48.526723Z\", \"duration\": \"0:02:15\", \"iteration\": \"21\", \"goal\": \"AUC_weighted_max\", \"run_name\": \"MaxAbsScaler, LightGBM\", \"run_properties\": \"copy=True\", \"primary_metric\": 0.89843868, \"best_metric\": 0.92001458}, {\"run_id\": \"AutoML_82e9f29f-1769-4686-85c7-b41400e2cb12_22\", \"run_number\": 62, \"metric\": null, \"status\": \"Completed\", \"run_type\": \"azureml.scriptrun\", \"training_percent\": \"100\", \"start_time\": \"2021-04-13T15:32:21.652371Z\", \"end_time\": \"2021-04-13T15:33:05.72812Z\", \"created_time\": \"2021-04-13T15:31:13.026514Z\", \"created_time_dt\": \"2021-04-13T15:31:13.026514Z\", \"duration\": \"0:01:52\", \"iteration\": \"22\", \"goal\": \"AUC_weighted_max\", \"run_name\": \"MaxAbsScaler, LightGBM\", \"run_properties\": \"copy=True\", \"primary_metric\": 0.9029828, \"best_metric\": 0.92001458}, {\"run_id\": \"AutoML_82e9f29f-1769-4686-85c7-b41400e2cb12_23\", \"run_number\": 63, \"metric\": null, \"status\": \"Completed\", \"run_type\": \"azureml.scriptrun\", \"training_percent\": \"100\", \"start_time\": \"2021-04-13T15:33:24.821828Z\", \"end_time\": \"2021-04-13T15:34:07.121635Z\", \"created_time\": \"2021-04-13T15:31:25.234998Z\", \"created_time_dt\": \"2021-04-13T15:31:25.234998Z\", \"duration\": \"0:02:41\", \"iteration\": \"23\", \"goal\": \"AUC_weighted_max\", \"run_name\": \"MaxAbsScaler, LightGBM\", \"run_properties\": \"copy=True\", \"primary_metric\": 0.90922533, \"best_metric\": 0.92001458}, {\"run_id\": \"AutoML_82e9f29f-1769-4686-85c7-b41400e2cb12_24\", \"run_number\": 64, \"metric\": null, \"status\": \"Completed\", \"run_type\": \"azureml.scriptrun\", \"training_percent\": \"100\", \"start_time\": \"2021-04-13T15:33:21.509668Z\", \"end_time\": \"2021-04-13T15:34:13.707608Z\", \"created_time\": \"2021-04-13T15:31:58.330051Z\", \"created_time_dt\": \"2021-04-13T15:31:58.330051Z\", \"duration\": \"0:02:15\", \"iteration\": \"24\", \"goal\": \"AUC_weighted_max\", \"run_name\": \"MaxAbsScaler, LogisticRegression\", \"run_properties\": \"copy=True\", \"primary_metric\": 0.91775561, \"best_metric\": 0.92001458}, {\"run_id\": \"AutoML_82e9f29f-1769-4686-85c7-b41400e2cb12_25\", \"run_number\": 66, \"metric\": null, \"status\": \"Completed\", \"run_type\": \"azureml.scriptrun\", \"training_percent\": \"100\", \"start_time\": \"2021-04-13T15:34:20.593887Z\", \"end_time\": \"2021-04-13T15:35:10.029904Z\", \"created_time\": \"2021-04-13T15:33:07.895809Z\", \"created_time_dt\": \"2021-04-13T15:33:07.895809Z\", \"duration\": \"0:02:02\", \"iteration\": \"25\", \"goal\": \"AUC_weighted_max\", \"run_name\": \"MaxAbsScaler, ExtremeRandomTrees\", \"run_properties\": \"copy=True\", \"primary_metric\": 0.89278846, \"best_metric\": 0.92001458}, {\"run_id\": \"AutoML_82e9f29f-1769-4686-85c7-b41400e2cb12_27\", \"run_number\": 67, \"metric\": null, \"status\": \"Completed\", \"run_type\": \"azureml.scriptrun\", \"training_percent\": \"100\", \"start_time\": \"2021-04-13T15:34:26.072035Z\", \"end_time\": \"2021-04-13T15:35:15.538439Z\", \"created_time\": \"2021-04-13T15:33:12.474223Z\", \"created_time_dt\": \"2021-04-13T15:33:12.474223Z\", \"duration\": \"0:02:03\", \"iteration\": \"27\", \"goal\": \"AUC_weighted_max\", \"run_name\": \"MaxAbsScaler, ExtremeRandomTrees\", \"run_properties\": \"copy=True\", \"primary_metric\": 0.89928127, \"best_metric\": 0.92001458}, {\"run_id\": \"AutoML_82e9f29f-1769-4686-85c7-b41400e2cb12_26\", \"run_number\": 68, \"metric\": null, \"status\": \"Completed\", \"run_type\": \"azureml.scriptrun\", \"training_percent\": \"100\", \"start_time\": \"2021-04-13T15:34:36.936324Z\", \"end_time\": \"2021-04-13T15:35:21.175037Z\", \"created_time\": \"2021-04-13T15:33:12.486725Z\", \"created_time_dt\": \"2021-04-13T15:33:12.486725Z\", \"duration\": \"0:02:08\", \"iteration\": \"26\", \"goal\": \"AUC_weighted_max\", \"run_name\": \"StandardScalerWrapper, ExtremeRandomTrees\", \"run_properties\": \"<azureml.automl.runtime.shared.model_wrappers.StandardScalerWrapper object at 0x7f74a9e9e668\", \"primary_metric\": 0.87785644, \"best_metric\": 0.92001458}, {\"run_id\": \"AutoML_82e9f29f-1769-4686-85c7-b41400e2cb12_28\", \"run_number\": 69, \"metric\": null, \"status\": \"Completed\", \"run_type\": \"azureml.scriptrun\", \"training_percent\": \"100\", \"start_time\": \"2021-04-13T15:35:26.614129Z\", \"end_time\": \"2021-04-13T15:36:09.352965Z\", \"created_time\": \"2021-04-13T15:34:08.865342Z\", \"created_time_dt\": \"2021-04-13T15:34:08.865342Z\", \"duration\": \"0:02:00\", \"iteration\": \"28\", \"goal\": \"AUC_weighted_max\", \"run_name\": \"MaxAbsScaler, ExtremeRandomTrees\", \"run_properties\": \"copy=True\", \"primary_metric\": 0.90656639, \"best_metric\": 0.92001458}, {\"run_id\": \"AutoML_82e9f29f-1769-4686-85c7-b41400e2cb12_29\", \"run_number\": 70, \"metric\": null, \"status\": \"Completed\", \"run_type\": \"azureml.scriptrun\", \"training_percent\": \"100\", \"start_time\": \"2021-04-13T15:35:31.687869Z\", \"end_time\": \"2021-04-13T15:36:17.864582Z\", \"created_time\": \"2021-04-13T15:34:16.17945Z\", \"created_time_dt\": \"2021-04-13T15:34:16.17945Z\", \"duration\": \"0:02:01\", \"iteration\": \"29\", \"goal\": \"AUC_weighted_max\", \"run_name\": \"MaxAbsScaler, RandomForest\", \"run_properties\": \"copy=True\", \"primary_metric\": 0.90418125, \"best_metric\": 0.92001458}, {\"run_id\": \"AutoML_82e9f29f-1769-4686-85c7-b41400e2cb12_30\", \"run_number\": 72, \"metric\": null, \"status\": \"Completed\", \"run_type\": \"azureml.scriptrun\", \"training_percent\": \"100\", \"start_time\": \"2021-04-13T15:36:25.384782Z\", \"end_time\": \"2021-04-13T15:37:18.662302Z\", \"created_time\": \"2021-04-13T15:35:13.299293Z\", \"created_time_dt\": \"2021-04-13T15:35:13.299293Z\", \"duration\": \"0:02:05\", \"iteration\": \"30\", \"goal\": \"AUC_weighted_max\", \"run_name\": \"SparseNormalizer, ExtremeRandomTrees\", \"run_properties\": \"<azureml.automl.runtime.shared.model_wrappers.SparseNormalizer object at 0x7fd1c4ece710\", \"primary_metric\": 0.91270626, \"best_metric\": 0.92001458}, {\"run_id\": \"AutoML_82e9f29f-1769-4686-85c7-b41400e2cb12_31\", \"run_number\": 73, \"metric\": null, \"status\": \"Completed\", \"run_type\": \"azureml.scriptrun\", \"training_percent\": \"100\", \"start_time\": \"2021-04-13T15:36:33.532738Z\", \"end_time\": \"2021-04-13T15:37:23.720924Z\", \"created_time\": \"2021-04-13T15:35:17.433349Z\", \"created_time_dt\": \"2021-04-13T15:35:17.433349Z\", \"duration\": \"0:02:06\", \"iteration\": \"31\", \"goal\": \"AUC_weighted_max\", \"run_name\": \"SparseNormalizer, XGBoostClassifier\", \"run_properties\": \"<azureml.automl.runtime.shared.model_wrappers.SparseNormalizer object at 0x7efe564b3780\", \"primary_metric\": 0.89752706, \"best_metric\": 0.92001458}, {\"run_id\": \"AutoML_82e9f29f-1769-4686-85c7-b41400e2cb12_32\", \"run_number\": 74, \"metric\": null, \"status\": \"Completed\", \"run_type\": \"azureml.scriptrun\", \"training_percent\": \"100\", \"start_time\": \"2021-04-13T15:37:31.911473Z\", \"end_time\": \"2021-04-13T15:38:24.603526Z\", \"created_time\": \"2021-04-13T15:35:24.336965Z\", \"created_time_dt\": \"2021-04-13T15:35:24.336965Z\", \"duration\": \"0:03:00\", \"iteration\": \"32\", \"goal\": \"AUC_weighted_max\", \"run_name\": \"StandardScalerWrapper, LogisticRegression\", \"run_properties\": \"<azureml.automl.runtime.shared.model_wrappers.StandardScalerWrapper object at 0x7fc953aacf98\", \"primary_metric\": 0.91754968, \"best_metric\": 0.92001458}, {\"run_id\": \"AutoML_82e9f29f-1769-4686-85c7-b41400e2cb12_33\", \"run_number\": 75, \"metric\": null, \"status\": \"Canceled\", \"run_type\": \"azureml.scriptrun\", \"training_percent\": \"100\", \"start_time\": \"2021-04-13T15:37:41.279752Z\", \"end_time\": \"2021-04-13T15:38:26.854903Z\", \"created_time\": \"2021-04-13T15:36:11.27997Z\", \"created_time_dt\": \"2021-04-13T15:36:11.27997Z\", \"duration\": \"0:02:15\", \"iteration\": \"33\", \"goal\": \"AUC_weighted_max\", \"run_name\": \"SparseNormalizer, XGBoostClassifier\", \"run_properties\": \"<azureml.automl.runtime.shared.model_wrappers.SparseNormalizer object at 0x7f5ebb25dfd0\", \"primary_metric\": 0.89035336, \"best_metric\": 0.92001458}, {\"run_id\": \"AutoML_82e9f29f-1769-4686-85c7-b41400e2cb12_34\", \"run_number\": 76, \"metric\": null, \"status\": \"Canceled\", \"run_type\": \"azureml.scriptrun\", \"training_percent\": \"100\", \"start_time\": \"2021-04-13T15:36:20.177144Z\", \"end_time\": \"2021-04-13T15:38:32.38531Z\", \"created_time\": \"2021-04-13T15:36:20.177144Z\", \"created_time_dt\": \"2021-04-13T15:36:20.177144Z\", \"duration\": \"0:02:12\", \"iteration\": \"34\", \"goal\": null, \"run_name\": \"Canceled\", \"run_properties\": null}, {\"run_id\": \"AutoML_82e9f29f-1769-4686-85c7-b41400e2cb12_35\", \"run_number\": 77, \"metric\": null, \"status\": \"Canceled\", \"run_type\": \"azureml.scriptrun\", \"training_percent\": \"100\", \"start_time\": \"2021-04-13T15:37:21.376081Z\", \"end_time\": \"2021-04-13T15:38:31.453362Z\", \"created_time\": \"2021-04-13T15:37:21.376081Z\", \"created_time_dt\": \"2021-04-13T15:37:21.376081Z\", \"duration\": \"0:01:10\", \"iteration\": \"35\", \"goal\": null, \"run_name\": \"Canceled\", \"run_properties\": null}, {\"run_id\": \"AutoML_82e9f29f-1769-4686-85c7-b41400e2cb12_36\", \"run_number\": 78, \"metric\": null, \"status\": \"Canceled\", \"run_type\": \"azureml.scriptrun\", \"training_percent\": \"100\", \"start_time\": \"2021-04-13T15:37:25.378341Z\", \"end_time\": \"2021-04-13T15:38:31.212782Z\", \"created_time\": \"2021-04-13T15:37:25.378341Z\", \"created_time_dt\": \"2021-04-13T15:37:25.378341Z\", \"duration\": \"0:01:05\", \"iteration\": \"36\", \"goal\": null, \"run_name\": \"Canceled\", \"run_properties\": null}, {\"run_id\": \"AutoML_82e9f29f-1769-4686-85c7-b41400e2cb12_37\", \"run_number\": 79, \"metric\": null, \"status\": \"Completed\", \"run_type\": \"azureml.scriptrun\", \"training_percent\": \"100\", \"start_time\": \"2021-04-13T15:38:45.204603Z\", \"end_time\": \"2021-04-13T15:40:09.675328Z\", \"created_time\": \"2021-04-13T15:38:34.492842Z\", \"created_time_dt\": \"2021-04-13T15:38:34.492842Z\", \"duration\": \"0:01:35\", \"iteration\": \"37\", \"goal\": \"AUC_weighted_max\", \"run_name\": \"VotingEnsemble\", \"run_properties\": \"classification_labels=None,\\n                              estimators=[('9',\\n                                           Pipeline(memory=None,\\n                                                    steps=[('maxabsscaler',\\n                                                            MaxAbsScaler(copy=True\", \"primary_metric\": 0.92861325, \"best_metric\": 0.92861325}], \"children_metrics\": {\"categories\": [0], \"series\": {\"f1_score_micro\": [{\"categories\": [\"0\", \"1\", \"2\", \"3\", \"4\", \"5\", \"6\", \"7\", \"8\", \"9\", \"10\", \"11\", \"12\", \"13\", \"14\", \"15\", \"16\", \"17\", \"18\", \"19\", \"20\", \"21\", \"22\", \"23\", \"24\", \"25\", \"26\", \"27\", \"28\", \"29\", \"30\", \"31\", \"32\", \"33\", \"37\"], \"mode\": \"markers\", \"name\": \"f1_score_micro\", \"stepped\": false, \"type\": \"scatter\", \"data\": [0.7918579234972677, 0.7985245901639344, 0.8284153005464482, 0.8117486338797815, 0.8216393442622951, 0.8019125683060109, 0.8349180327868853, 0.8316393442622951, 0.828360655737705, 0.8249726775956283, 0.7820765027322404, 0.7986338797814208, 0.8414207650273223, 0.7985792349726776, 0.8117486338797815, 0.7856284153005466, 0.7920765027322404, 0.834808743169399, 0.8185792349726777, 0.8382513661202186, 0.8382513661202186, 0.8117486338797815, 0.8315300546448089, 0.8315300546448088, 0.8414207650273223, 0.7985792349726777, 0.7987431693989071, 0.8184153005464481, 0.8316393442622951, 0.8250273224043717, 0.6007103825136613, 0.8117486338797816, 0.8546448087431694, 0.8051912568306012, 0.8447540983606558]}, {\"categories\": [\"0\", \"1\", \"2\", \"3\", \"4\", \"5\", \"6\", \"7\", \"8\", \"9\", \"10\", \"11\", \"12\", \"13\", \"14\", \"15\", \"16\", \"17\", \"18\", \"19\", \"20\", \"21\", \"22\", \"23\", \"24\", \"25\", \"26\", \"27\", \"28\", \"29\", \"30\", \"31\", \"32\", \"33\", \"37\"], \"mode\": \"lines\", \"name\": \"f1_score_micro_max\", \"stepped\": true, \"type\": \"scatter\", \"data\": [0.7918579234972677, 0.7985245901639344, 0.8284153005464482, 0.8284153005464482, 0.8284153005464482, 0.8284153005464482, 0.8349180327868853, 0.8349180327868853, 0.8349180327868853, 0.8349180327868853, 0.8349180327868853, 0.8349180327868853, 0.8414207650273223, 0.8414207650273223, 0.8414207650273223, 0.8414207650273223, 0.8414207650273223, 0.8414207650273223, 0.8414207650273223, 0.8414207650273223, 0.8414207650273223, 0.8414207650273223, 0.8414207650273223, 0.8414207650273223, 0.8414207650273223, 0.8414207650273223, 0.8414207650273223, 0.8414207650273223, 0.8414207650273223, 0.8414207650273223, 0.8414207650273223, 0.8414207650273223, 0.8546448087431694, 0.8546448087431694, 0.8546448087431694]}], \"AUC_weighted\": [{\"categories\": [\"0\", \"1\", \"2\", \"3\", \"4\", \"5\", \"6\", \"7\", \"8\", \"9\", \"10\", \"11\", \"12\", \"13\", \"14\", \"15\", \"16\", \"17\", \"18\", \"19\", \"20\", \"21\", \"22\", \"23\", \"24\", \"25\", \"26\", \"27\", \"28\", \"29\", \"30\", \"31\", \"32\", \"33\", \"37\"], \"mode\": \"markers\", \"name\": \"AUC_weighted\", \"stepped\": false, \"type\": \"scatter\", \"data\": [0.8656393683100239, 0.8862001396201405, 0.8908510311381621, 0.8986463652885336, 0.8968102758084131, 0.8823084745524399, 0.9005532177459656, 0.9054119281433743, 0.9153537053083938, 0.9200145779725547, 0.8767668116251116, 0.8850818119156122, 0.9193883072470556, 0.8686131605553034, 0.899222326695412, 0.8721229076594776, 0.8939897021191886, 0.9159175378031736, 0.9023018138133618, 0.9099761775773929, 0.9108741925039583, 0.8984386794596879, 0.9029828043250587, 0.9092253250305076, 0.9177556105506952, 0.892788459592259, 0.8778564439503913, 0.8992812741519126, 0.9065663855799484, 0.9041812547299799, 0.912706260005659, 0.8975270637136763, 0.9175496763098764, 0.8903533647114514, 0.9286132548448066]}, {\"categories\": [\"0\", \"1\", \"2\", \"3\", \"4\", \"5\", \"6\", \"7\", \"8\", \"9\", \"10\", \"11\", \"12\", \"13\", \"14\", \"15\", \"16\", \"17\", \"18\", \"19\", \"20\", \"21\", \"22\", \"23\", \"24\", \"25\", \"26\", \"27\", \"28\", \"29\", \"30\", \"31\", \"32\", \"33\", \"37\"], \"mode\": \"lines\", \"name\": \"AUC_weighted_max\", \"stepped\": true, \"type\": \"scatter\", \"data\": [0.8656393683100239, 0.8862001396201405, 0.8908510311381621, 0.8986463652885336, 0.8986463652885336, 0.8986463652885336, 0.9005532177459656, 0.9054119281433743, 0.9153537053083938, 0.9200145779725547, 0.9200145779725547, 0.9200145779725547, 0.9200145779725547, 0.9200145779725547, 0.9200145779725547, 0.9200145779725547, 0.9200145779725547, 0.9200145779725547, 0.9200145779725547, 0.9200145779725547, 0.9200145779725547, 0.9200145779725547, 0.9200145779725547, 0.9200145779725547, 0.9200145779725547, 0.9200145779725547, 0.9200145779725547, 0.9200145779725547, 0.9200145779725547, 0.9200145779725547, 0.9200145779725547, 0.9200145779725547, 0.9200145779725547, 0.9200145779725547, 0.9286132548448066]}], \"balanced_accuracy\": [{\"categories\": [\"0\", \"1\", \"2\", \"3\", \"4\", \"5\", \"6\", \"7\", \"8\", \"9\", \"10\", \"11\", \"12\", \"13\", \"14\", \"15\", \"16\", \"17\", \"18\", \"19\", \"20\", \"21\", \"22\", \"23\", \"24\", \"25\", \"26\", \"27\", \"28\", \"29\", \"30\", \"31\", \"32\", \"33\", \"37\"], \"mode\": \"markers\", \"name\": \"balanced_accuracy\", \"stepped\": false, \"type\": \"scatter\", \"data\": [0.7863316036015464, 0.7941127411221627, 0.8222295309415386, 0.8079394740842046, 0.8157477447608963, 0.7977760707476724, 0.830164297292901, 0.8272267931187207, 0.8236912203157456, 0.8220969199792536, 0.7760290594606893, 0.793185632959654, 0.8370786788118189, 0.7949393456770281, 0.8059971506030881, 0.7822900412818088, 0.7898985514064458, 0.8289600235657092, 0.8146364968134414, 0.8320690591976628, 0.8327781332320742, 0.8064456904309184, 0.8266129298314704, 0.826404596498137, 0.8370988211024247, 0.7962278904962992, 0.798010486222448, 0.8140293539562986, 0.8306174792484912, 0.8211192662370003, 0.5711304347826087, 0.8067168581304788, 0.8496050160252157, 0.8021792882057637, 0.8380038255490252]}, {\"categories\": [\"0\", \"1\", \"2\", \"3\", \"4\", \"5\", \"6\", \"7\", \"8\", \"9\", \"10\", \"11\", \"12\", \"13\", \"14\", \"15\", \"16\", \"17\", \"18\", \"19\", \"20\", \"21\", \"22\", \"23\", \"24\", \"25\", \"26\", \"27\", \"28\", \"29\", \"30\", \"31\", \"32\", \"33\", \"37\"], \"mode\": \"lines\", \"name\": \"balanced_accuracy_max\", \"stepped\": true, \"type\": \"scatter\", \"data\": [0.7863316036015464, 0.7941127411221627, 0.8222295309415386, 0.8222295309415386, 0.8222295309415386, 0.8222295309415386, 0.830164297292901, 0.830164297292901, 0.830164297292901, 0.830164297292901, 0.830164297292901, 0.830164297292901, 0.8370786788118189, 0.8370786788118189, 0.8370786788118189, 0.8370786788118189, 0.8370786788118189, 0.8370786788118189, 0.8370786788118189, 0.8370786788118189, 0.8370786788118189, 0.8370786788118189, 0.8370786788118189, 0.8370786788118189, 0.8370988211024247, 0.8370988211024247, 0.8370988211024247, 0.8370988211024247, 0.8370988211024247, 0.8370988211024247, 0.8370988211024247, 0.8370988211024247, 0.8496050160252157, 0.8496050160252157, 0.8496050160252157]}], \"average_precision_score_weighted\": [{\"categories\": [\"0\", \"1\", \"2\", \"3\", \"4\", \"5\", \"6\", \"7\", \"8\", \"9\", \"10\", \"11\", \"12\", \"13\", \"14\", \"15\", \"16\", \"17\", \"18\", \"19\", \"20\", \"21\", \"22\", \"23\", \"24\", \"25\", \"26\", \"27\", \"28\", \"29\", \"30\", \"31\", \"32\", \"33\", \"37\"], \"mode\": \"markers\", \"name\": \"average_precision_score_weighted\", \"stepped\": false, \"type\": \"scatter\", \"data\": [0.8702581274333561, 0.8940130401907899, 0.8978029597480678, 0.9056074582859193, 0.9037969837646276, 0.8873692543866971, 0.9066729195889744, 0.9089809188583222, 0.9151371582965775, 0.918803448176871, 0.8829540744510407, 0.8942775552269522, 0.9240440503005833, 0.8725599422509843, 0.9071411188380983, 0.8693741811604637, 0.8952472623784775, 0.9209401084976141, 0.9073524239680705, 0.9133596918359753, 0.9128296625861637, 0.9020957542846102, 0.9091949579161165, 0.9151323732029993, 0.920489914393617, 0.8981115082027177, 0.8853212765312735, 0.9021915156352615, 0.9082406120381574, 0.9085026583764362, 0.9135473910536402, 0.9040693123088624, 0.921017315480707, 0.8975930182067282, 0.9278828186055816]}, {\"categories\": [\"0\", \"1\", \"2\", \"3\", \"4\", \"5\", \"6\", \"7\", \"8\", \"9\", \"10\", \"11\", \"12\", \"13\", \"14\", \"15\", \"16\", \"17\", \"18\", \"19\", \"20\", \"21\", \"22\", \"23\", \"24\", \"25\", \"26\", \"27\", \"28\", \"29\", \"30\", \"31\", \"32\", \"33\", \"37\"], \"mode\": \"lines\", \"name\": \"average_precision_score_weighted_max\", \"stepped\": true, \"type\": \"scatter\", \"data\": [0.8702581274333561, 0.8940130401907899, 0.8978029597480678, 0.9056074582859193, 0.9056074582859193, 0.9056074582859193, 0.9066729195889744, 0.9089809188583222, 0.9151371582965775, 0.918803448176871, 0.918803448176871, 0.918803448176871, 0.9240440503005833, 0.9240440503005833, 0.9240440503005833, 0.9240440503005833, 0.9240440503005833, 0.9240440503005833, 0.9240440503005833, 0.9240440503005833, 0.9240440503005833, 0.9240440503005833, 0.9240440503005833, 0.9240440503005833, 0.9240440503005833, 0.9240440503005833, 0.9240440503005833, 0.9240440503005833, 0.9240440503005833, 0.9240440503005833, 0.9240440503005833, 0.9240440503005833, 0.9240440503005833, 0.9240440503005833, 0.9278828186055816]}], \"precision_score_macro\": [{\"categories\": [\"0\", \"1\", \"2\", \"3\", \"4\", \"5\", \"6\", \"7\", \"8\", \"9\", \"10\", \"11\", \"12\", \"13\", \"14\", \"15\", \"16\", \"17\", \"18\", \"19\", \"20\", \"21\", \"22\", \"23\", \"24\", \"25\", \"26\", \"27\", \"28\", \"29\", \"30\", \"31\", \"32\", \"33\", \"37\"], \"mode\": \"markers\", \"name\": \"precision_score_macro\", \"stepped\": false, \"type\": \"scatter\", \"data\": [0.7907492017786135, 0.799537360968776, 0.8272630281812094, 0.8158051654417934, 0.822397460613924, 0.8043868492414141, 0.8390691138467641, 0.8322002466025065, 0.8332724263095603, 0.8285656749095528, 0.7859428721147624, 0.798096273587101, 0.8436288166632167, 0.7980035434995113, 0.8158506561487133, 0.7870963111965434, 0.7950636044589551, 0.8383559944820822, 0.8172530557392633, 0.8397611744228625, 0.8410205974706884, 0.8141126638208813, 0.8326998164150383, 0.8335880023032243, 0.8458639965276312, 0.79778420226418, 0.8013469430653803, 0.8168369277904602, 0.8310677010334718, 0.8262764233816865, 0.4920239596469105, 0.8123905749179297, 0.8622274008683745, 0.8040699335373974, 0.8496787219871038]}, {\"categories\": [\"0\", \"1\", \"2\", \"3\", \"4\", \"5\", \"6\", \"7\", \"8\", \"9\", \"10\", \"11\", \"12\", \"13\", \"14\", \"15\", \"16\", \"17\", \"18\", \"19\", \"20\", \"21\", \"22\", \"23\", \"24\", \"25\", \"26\", \"27\", \"28\", \"29\", \"30\", \"31\", \"32\", \"33\", \"37\"], \"mode\": \"lines\", \"name\": \"precision_score_macro_max\", \"stepped\": true, \"type\": \"scatter\", \"data\": [0.7907492017786135, 0.799537360968776, 0.8272630281812094, 0.8272630281812094, 0.8272630281812094, 0.8272630281812094, 0.8390691138467641, 0.8390691138467641, 0.8390691138467641, 0.8390691138467641, 0.8390691138467641, 0.8390691138467641, 0.8436288166632167, 0.8436288166632167, 0.8436288166632167, 0.8436288166632167, 0.8436288166632167, 0.8436288166632167, 0.8436288166632167, 0.8436288166632167, 0.8436288166632167, 0.8436288166632167, 0.8436288166632167, 0.8436288166632167, 0.8458639965276312, 0.8458639965276312, 0.8458639965276312, 0.8458639965276312, 0.8458639965276312, 0.8458639965276312, 0.8458639965276312, 0.8458639965276312, 0.8622274008683745, 0.8622274008683745, 0.8622274008683745]}], \"average_precision_score_macro\": [{\"categories\": [\"0\", \"1\", \"2\", \"3\", \"4\", \"5\", \"6\", \"7\", \"8\", \"9\", \"10\", \"11\", \"12\", \"13\", \"14\", \"15\", \"16\", \"17\", \"18\", \"19\", \"20\", \"21\", \"22\", \"23\", \"24\", \"25\", \"26\", \"27\", \"28\", \"29\", \"30\", \"31\", \"32\", \"33\", \"37\"], \"mode\": \"markers\", \"name\": \"average_precision_score_macro\", \"stepped\": false, \"type\": \"scatter\", \"data\": [0.8672109846270759, 0.891671378439208, 0.8951934388618781, 0.9033305385923978, 0.9010469577061844, 0.8846997557022686, 0.9040503991501729, 0.9067004440248869, 0.9130253622583749, 0.9167815317424409, 0.8796223401968385, 0.8913799323694291, 0.9218566747742806, 0.8706974691000189, 0.905065593824505, 0.8645287177205645, 0.8918607818249029, 0.9183781301874596, 0.904849978398305, 0.9111957486398342, 0.9108368934218822, 0.899300299684527, 0.906908957946494, 0.9127947513218215, 0.9181492854777227, 0.8962707192164581, 0.882104819397054, 0.8999388220148472, 0.9062339242526114, 0.9061817508347655, 0.9107793825658824, 0.9015373050265335, 0.9188600030179025, 0.8946352490981528, 0.9258895112999188]}, {\"categories\": [\"0\", \"1\", \"2\", \"3\", \"4\", \"5\", \"6\", \"7\", \"8\", \"9\", \"10\", \"11\", \"12\", \"13\", \"14\", \"15\", \"16\", \"17\", \"18\", \"19\", \"20\", \"21\", \"22\", \"23\", \"24\", \"25\", \"26\", \"27\", \"28\", \"29\", \"30\", \"31\", \"32\", \"33\", \"37\"], \"mode\": \"lines\", \"name\": \"average_precision_score_macro_max\", \"stepped\": true, \"type\": \"scatter\", \"data\": [0.8672109846270759, 0.891671378439208, 0.8951934388618781, 0.9033305385923978, 0.9033305385923978, 0.9033305385923978, 0.9040503991501729, 0.9067004440248869, 0.9130253622583749, 0.9167815317424409, 0.9167815317424409, 0.9167815317424409, 0.9218566747742806, 0.9218566747742806, 0.9218566747742806, 0.9218566747742806, 0.9218566747742806, 0.9218566747742806, 0.9218566747742806, 0.9218566747742806, 0.9218566747742806, 0.9218566747742806, 0.9218566747742806, 0.9218566747742806, 0.9218566747742806, 0.9218566747742806, 0.9218566747742806, 0.9218566747742806, 0.9218566747742806, 0.9218566747742806, 0.9218566747742806, 0.9218566747742806, 0.9218566747742806, 0.9218566747742806, 0.9258895112999188]}], \"norm_macro_recall\": [{\"categories\": [\"0\", \"1\", \"2\", \"3\", \"4\", \"5\", \"6\", \"7\", \"8\", \"9\", \"10\", \"11\", \"12\", \"13\", \"14\", \"15\", \"16\", \"17\", \"18\", \"19\", \"20\", \"21\", \"22\", \"23\", \"24\", \"25\", \"26\", \"27\", \"28\", \"29\", \"30\", \"31\", \"32\", \"33\", \"37\"], \"mode\": \"markers\", \"name\": \"norm_macro_recall\", \"stepped\": false, \"type\": \"scatter\", \"data\": [0.5726632072030926, 0.5882254822443252, 0.6444590618830774, 0.6158789481684092, 0.6314954895217926, 0.595552141495345, 0.660328594585802, 0.6544535862374417, 0.6473824406314912, 0.6441938399585073, 0.5520581189213785, 0.5863712659193081, 0.6741573576236377, 0.5898786913540561, 0.6119943012061759, 0.5645800825636175, 0.5797971028128914, 0.6579200471314185, 0.6292729936268829, 0.6641381183953257, 0.6655562664641484, 0.6128913808618368, 0.6532258596629407, 0.652809192996274, 0.6741976422048496, 0.5924557809925984, 0.5960209724448957, 0.6280587079125973, 0.6612349584969824, 0.6422385324740008, 0.14226086956521738, 0.6134337162609576, 0.6992100320504313, 0.6043585764115275, 0.6760076510980504]}, {\"categories\": [\"0\", \"1\", \"2\", \"3\", \"4\", \"5\", \"6\", \"7\", \"8\", \"9\", \"10\", \"11\", \"12\", \"13\", \"14\", \"15\", \"16\", \"17\", \"18\", \"19\", \"20\", \"21\", \"22\", \"23\", \"24\", \"25\", \"26\", \"27\", \"28\", \"29\", \"30\", \"31\", \"32\", \"33\", \"37\"], \"mode\": \"lines\", \"name\": \"norm_macro_recall_max\", \"stepped\": true, \"type\": \"scatter\", \"data\": [0.5726632072030926, 0.5882254822443252, 0.6444590618830774, 0.6444590618830774, 0.6444590618830774, 0.6444590618830774, 0.660328594585802, 0.660328594585802, 0.660328594585802, 0.660328594585802, 0.660328594585802, 0.660328594585802, 0.6741573576236377, 0.6741573576236377, 0.6741573576236377, 0.6741573576236377, 0.6741573576236377, 0.6741573576236377, 0.6741573576236377, 0.6741573576236377, 0.6741573576236377, 0.6741573576236377, 0.6741573576236377, 0.6741573576236377, 0.6741976422048496, 0.6741976422048496, 0.6741976422048496, 0.6741976422048496, 0.6741976422048496, 0.6741976422048496, 0.6741976422048496, 0.6741976422048496, 0.6992100320504313, 0.6992100320504313, 0.6992100320504313]}], \"matthews_correlation\": [{\"categories\": [\"0\", \"1\", \"2\", \"3\", \"4\", \"5\", \"6\", \"7\", \"8\", \"9\", \"10\", \"11\", \"12\", \"13\", \"14\", \"15\", \"16\", \"17\", \"18\", \"19\", \"20\", \"21\", \"22\", \"23\", \"24\", \"25\", \"26\", \"27\", \"28\", \"29\", \"30\", \"31\", \"32\", \"33\", \"37\"], \"mode\": \"markers\", \"name\": \"matthews_correlation\", \"stepped\": false, \"type\": \"scatter\", \"data\": [0.5770457387679374, 0.5935147132973844, 0.6493663775436297, 0.6234828226431295, 0.6380427991670299, 0.6020192754216422, 0.6689764205207457, 0.6592792994407504, 0.6567777768695524, 0.650512311913953, 0.5615347134981115, 0.591150670004936, 0.6805502267253576, 0.5928978604191759, 0.6215668687628579, 0.5692798346620631, 0.5848523011882044, 0.6669477287195058, 0.6318169347249845, 0.6715862358820237, 0.6736266611325761, 0.6203922833959217, 0.6591637968589789, 0.6598366361413641, 0.6827096853463405, 0.593972042895062, 0.5993122091079476, 0.6307950242754875, 0.6616619778116615, 0.6472456085940111, 0.1997682761206137, 0.618965774727405, 0.7113898990631424, 0.6062109510858623, 0.6872576193225511]}, {\"categories\": [\"0\", \"1\", \"2\", \"3\", \"4\", \"5\", \"6\", \"7\", \"8\", \"9\", \"10\", \"11\", \"12\", \"13\", \"14\", \"15\", \"16\", \"17\", \"18\", \"19\", \"20\", \"21\", \"22\", \"23\", \"24\", \"25\", \"26\", \"27\", \"28\", \"29\", \"30\", \"31\", \"32\", \"33\", \"37\"], \"mode\": \"lines\", \"name\": \"matthews_correlation_max\", \"stepped\": true, \"type\": \"scatter\", \"data\": [0.5770457387679374, 0.5935147132973844, 0.6493663775436297, 0.6493663775436297, 0.6493663775436297, 0.6493663775436297, 0.6689764205207457, 0.6689764205207457, 0.6689764205207457, 0.6689764205207457, 0.6689764205207457, 0.6689764205207457, 0.6805502267253576, 0.6805502267253576, 0.6805502267253576, 0.6805502267253576, 0.6805502267253576, 0.6805502267253576, 0.6805502267253576, 0.6805502267253576, 0.6805502267253576, 0.6805502267253576, 0.6805502267253576, 0.6805502267253576, 0.6827096853463405, 0.6827096853463405, 0.6827096853463405, 0.6827096853463405, 0.6827096853463405, 0.6827096853463405, 0.6827096853463405, 0.6827096853463405, 0.7113898990631424, 0.7113898990631424, 0.7113898990631424]}], \"AUC_macro\": [{\"categories\": [\"0\", \"1\", \"2\", \"3\", \"4\", \"5\", \"6\", \"7\", \"8\", \"9\", \"10\", \"11\", \"12\", \"13\", \"14\", \"15\", \"16\", \"17\", \"18\", \"19\", \"20\", \"21\", \"22\", \"23\", \"24\", \"25\", \"26\", \"27\", \"28\", \"29\", \"30\", \"31\", \"32\", \"33\", \"37\"], \"mode\": \"markers\", \"name\": \"AUC_macro\", \"stepped\": false, \"type\": \"scatter\", \"data\": [0.8656393683100241, 0.8862001396201405, 0.8908510311381621, 0.8986463652885337, 0.8968102758084132, 0.8823084745524399, 0.9005532177459656, 0.9054119281433743, 0.9153537053083938, 0.9200145779725546, 0.8767668116251116, 0.8850818119156122, 0.9193883072470556, 0.8686131605553034, 0.899222326695412, 0.8721229076594776, 0.8939897021191886, 0.9159175378031736, 0.9023018138133617, 0.9099761775773929, 0.9108741925039583, 0.8984386794596881, 0.9029828043250587, 0.9092253250305076, 0.9177556105506952, 0.892788459592259, 0.8778564439503913, 0.8992812741519126, 0.9065663855799484, 0.90418125472998, 0.912706260005659, 0.8975270637136765, 0.9175496763098764, 0.8903533647114514, 0.9286132548448066]}, {\"categories\": [\"0\", \"1\", \"2\", \"3\", \"4\", \"5\", \"6\", \"7\", \"8\", \"9\", \"10\", \"11\", \"12\", \"13\", \"14\", \"15\", \"16\", \"17\", \"18\", \"19\", \"20\", \"21\", \"22\", \"23\", \"24\", \"25\", \"26\", \"27\", \"28\", \"29\", \"30\", \"31\", \"32\", \"33\", \"37\"], \"mode\": \"lines\", \"name\": \"AUC_macro_max\", \"stepped\": true, \"type\": \"scatter\", \"data\": [0.8656393683100241, 0.8862001396201405, 0.8908510311381621, 0.8986463652885337, 0.8986463652885337, 0.8986463652885337, 0.9005532177459656, 0.9054119281433743, 0.9153537053083938, 0.9200145779725546, 0.9200145779725546, 0.9200145779725546, 0.9200145779725546, 0.9200145779725546, 0.9200145779725546, 0.9200145779725546, 0.9200145779725546, 0.9200145779725546, 0.9200145779725546, 0.9200145779725546, 0.9200145779725546, 0.9200145779725546, 0.9200145779725546, 0.9200145779725546, 0.9200145779725546, 0.9200145779725546, 0.9200145779725546, 0.9200145779725546, 0.9200145779725546, 0.9200145779725546, 0.9200145779725546, 0.9200145779725546, 0.9200145779725546, 0.9200145779725546, 0.9286132548448066]}], \"recall_score_weighted\": [{\"categories\": [\"0\", \"1\", \"2\", \"3\", \"4\", \"5\", \"6\", \"7\", \"8\", \"9\", \"10\", \"11\", \"12\", \"13\", \"14\", \"15\", \"16\", \"17\", \"18\", \"19\", \"20\", \"21\", \"22\", \"23\", \"24\", \"25\", \"26\", \"27\", \"28\", \"29\", \"30\", \"31\", \"32\", \"33\", \"37\"], \"mode\": \"markers\", \"name\": \"recall_score_weighted\", \"stepped\": false, \"type\": \"scatter\", \"data\": [0.7918579234972677, 0.7985245901639344, 0.8284153005464482, 0.8117486338797815, 0.821639344262295, 0.8019125683060109, 0.8349180327868853, 0.8316393442622951, 0.828360655737705, 0.8249726775956283, 0.7820765027322404, 0.7986338797814208, 0.8414207650273223, 0.7985792349726776, 0.8117486338797815, 0.7856284153005465, 0.7920765027322403, 0.8348087431693989, 0.8185792349726777, 0.8382513661202186, 0.8382513661202186, 0.8117486338797815, 0.8315300546448088, 0.8315300546448088, 0.8414207650273223, 0.7985792349726776, 0.798743169398907, 0.8184153005464481, 0.8316393442622951, 0.8250273224043717, 0.6007103825136613, 0.8117486338797815, 0.8546448087431694, 0.805191256830601, 0.8447540983606558]}, {\"categories\": [\"0\", \"1\", \"2\", \"3\", \"4\", \"5\", \"6\", \"7\", \"8\", \"9\", \"10\", \"11\", \"12\", \"13\", \"14\", \"15\", \"16\", \"17\", \"18\", \"19\", \"20\", \"21\", \"22\", \"23\", \"24\", \"25\", \"26\", \"27\", \"28\", \"29\", \"30\", \"31\", \"32\", \"33\", \"37\"], \"mode\": \"lines\", \"name\": \"recall_score_weighted_max\", \"stepped\": true, \"type\": \"scatter\", \"data\": [0.7918579234972677, 0.7985245901639344, 0.8284153005464482, 0.8284153005464482, 0.8284153005464482, 0.8284153005464482, 0.8349180327868853, 0.8349180327868853, 0.8349180327868853, 0.8349180327868853, 0.8349180327868853, 0.8349180327868853, 0.8414207650273223, 0.8414207650273223, 0.8414207650273223, 0.8414207650273223, 0.8414207650273223, 0.8414207650273223, 0.8414207650273223, 0.8414207650273223, 0.8414207650273223, 0.8414207650273223, 0.8414207650273223, 0.8414207650273223, 0.8414207650273223, 0.8414207650273223, 0.8414207650273223, 0.8414207650273223, 0.8414207650273223, 0.8414207650273223, 0.8414207650273223, 0.8414207650273223, 0.8546448087431694, 0.8546448087431694, 0.8546448087431694]}], \"AUC_micro\": [{\"categories\": [\"0\", \"1\", \"2\", \"3\", \"4\", \"5\", \"6\", \"7\", \"8\", \"9\", \"10\", \"11\", \"12\", \"13\", \"14\", \"15\", \"16\", \"17\", \"18\", \"19\", \"20\", \"21\", \"22\", \"23\", \"24\", \"25\", \"26\", \"27\", \"28\", \"29\", \"30\", \"31\", \"32\", \"33\", \"37\"], \"mode\": \"markers\", \"name\": \"AUC_micro\", \"stepped\": false, \"type\": \"scatter\", \"data\": [0.8718657021708619, 0.8879208247484248, 0.892711696377915, 0.8974411747140852, 0.8976177550837589, 0.8814013855295769, 0.898965555854161, 0.9012884977156677, 0.9121633820060318, 0.9129452506793274, 0.8693404102839739, 0.8851448386037205, 0.9180658425154528, 0.8704334408313178, 0.8989045806085582, 0.8750549135537042, 0.889441144853534, 0.9119321418973394, 0.8991520797873929, 0.9118693600883873, 0.9117799277374662, 0.8952379139418914, 0.903106019887127, 0.9081051240705904, 0.9165211263399922, 0.8921376272805996, 0.8662355997491714, 0.8994032219534773, 0.9032894084624802, 0.9025089133745409, 0.7647706858968617, 0.8980915673803338, 0.9141742363164024, 0.8867347337931859, 0.9243716294902804]}, {\"categories\": [\"0\", \"1\", \"2\", \"3\", \"4\", \"5\", \"6\", \"7\", \"8\", \"9\", \"10\", \"11\", \"12\", \"13\", \"14\", \"15\", \"16\", \"17\", \"18\", \"19\", \"20\", \"21\", \"22\", \"23\", \"24\", \"25\", \"26\", \"27\", \"28\", \"29\", \"30\", \"31\", \"32\", \"33\", \"37\"], \"mode\": \"lines\", \"name\": \"AUC_micro_max\", \"stepped\": true, \"type\": \"scatter\", \"data\": [0.8718657021708619, 0.8879208247484248, 0.892711696377915, 0.8974411747140852, 0.8976177550837589, 0.8976177550837589, 0.898965555854161, 0.9012884977156677, 0.9121633820060318, 0.9129452506793274, 0.9129452506793274, 0.9129452506793274, 0.9180658425154528, 0.9180658425154528, 0.9180658425154528, 0.9180658425154528, 0.9180658425154528, 0.9180658425154528, 0.9180658425154528, 0.9180658425154528, 0.9180658425154528, 0.9180658425154528, 0.9180658425154528, 0.9180658425154528, 0.9180658425154528, 0.9180658425154528, 0.9180658425154528, 0.9180658425154528, 0.9180658425154528, 0.9180658425154528, 0.9180658425154528, 0.9180658425154528, 0.9180658425154528, 0.9180658425154528, 0.9243716294902804]}], \"weighted_accuracy\": [{\"categories\": [\"0\", \"1\", \"2\", \"3\", \"4\", \"5\", \"6\", \"7\", \"8\", \"9\", \"10\", \"11\", \"12\", \"13\", \"14\", \"15\", \"16\", \"17\", \"18\", \"19\", \"20\", \"21\", \"22\", \"23\", \"24\", \"25\", \"26\", \"27\", \"28\", \"29\", \"30\", \"31\", \"32\", \"33\", \"37\"], \"mode\": \"markers\", \"name\": \"weighted_accuracy\", \"stepped\": false, \"type\": \"scatter\", \"data\": [0.7968507434885812, 0.802366673881982, 0.8339292104689584, 0.8149998690900084, 0.8269683525361751, 0.8054801757564487, 0.8390488945711951, 0.8354907106834659, 0.8325242899601013, 0.8273659150530195, 0.7872766267989084, 0.8034520287566889, 0.8452265976350963, 0.8018071447129824, 0.8168531164392343, 0.7883531472412508, 0.7937389185880293, 0.8399038439005799, 0.8220109822973036, 0.8437335792558798, 0.843135314776317, 0.8164545308792119, 0.8358748708699751, 0.8360824331797252, 0.8451448923341308, 0.800604189346177, 0.799178308472405, 0.8222785063339535, 0.8324543306645971, 0.8284101427431452, 0.6279479301051898, 0.8161614564871564, 0.8590224853393597, 0.8078273292964807, 0.8507451552500085]}, {\"categories\": [\"0\", \"1\", \"2\", \"3\", \"4\", \"5\", \"6\", \"7\", \"8\", \"9\", \"10\", \"11\", \"12\", \"13\", \"14\", \"15\", \"16\", \"17\", \"18\", \"19\", \"20\", \"21\", \"22\", \"23\", \"24\", \"25\", \"26\", \"27\", \"28\", \"29\", \"30\", \"31\", \"32\", \"33\", \"37\"], \"mode\": \"lines\", \"name\": \"weighted_accuracy_max\", \"stepped\": true, \"type\": \"scatter\", \"data\": [0.7968507434885812, 0.802366673881982, 0.8339292104689584, 0.8339292104689584, 0.8339292104689584, 0.8339292104689584, 0.8390488945711951, 0.8390488945711951, 0.8390488945711951, 0.8390488945711951, 0.8390488945711951, 0.8390488945711951, 0.8452265976350963, 0.8452265976350963, 0.8452265976350963, 0.8452265976350963, 0.8452265976350963, 0.8452265976350963, 0.8452265976350963, 0.8452265976350963, 0.8452265976350963, 0.8452265976350963, 0.8452265976350963, 0.8452265976350963, 0.8452265976350963, 0.8452265976350963, 0.8452265976350963, 0.8452265976350963, 0.8452265976350963, 0.8452265976350963, 0.8452265976350963, 0.8452265976350963, 0.8590224853393597, 0.8590224853393597, 0.8590224853393597]}], \"recall_score_macro\": [{\"categories\": [\"0\", \"1\", \"2\", \"3\", \"4\", \"5\", \"6\", \"7\", \"8\", \"9\", \"10\", \"11\", \"12\", \"13\", \"14\", \"15\", \"16\", \"17\", \"18\", \"19\", \"20\", \"21\", \"22\", \"23\", \"24\", \"25\", \"26\", \"27\", \"28\", \"29\", \"30\", \"31\", \"32\", \"33\", \"37\"], \"mode\": \"markers\", \"name\": \"recall_score_macro\", \"stepped\": false, \"type\": \"scatter\", \"data\": [0.7863316036015464, 0.7941127411221627, 0.8222295309415386, 0.8079394740842046, 0.8157477447608963, 0.7977760707476724, 0.830164297292901, 0.8272267931187207, 0.8236912203157456, 0.8220969199792536, 0.7760290594606893, 0.793185632959654, 0.8370786788118189, 0.7949393456770281, 0.8059971506030881, 0.7822900412818088, 0.7898985514064458, 0.8289600235657092, 0.8146364968134414, 0.8320690591976628, 0.8327781332320742, 0.8064456904309184, 0.8266129298314704, 0.826404596498137, 0.8370988211024247, 0.7962278904962992, 0.798010486222448, 0.8140293539562986, 0.8306174792484912, 0.8211192662370003, 0.5711304347826087, 0.8067168581304788, 0.8496050160252157, 0.8021792882057637, 0.8380038255490252]}, {\"categories\": [\"0\", \"1\", \"2\", \"3\", \"4\", \"5\", \"6\", \"7\", \"8\", \"9\", \"10\", \"11\", \"12\", \"13\", \"14\", \"15\", \"16\", \"17\", \"18\", \"19\", \"20\", \"21\", \"22\", \"23\", \"24\", \"25\", \"26\", \"27\", \"28\", \"29\", \"30\", \"31\", \"32\", \"33\", \"37\"], \"mode\": \"lines\", \"name\": \"recall_score_macro_max\", \"stepped\": true, \"type\": \"scatter\", \"data\": [0.7863316036015464, 0.7941127411221627, 0.8222295309415386, 0.8222295309415386, 0.8222295309415386, 0.8222295309415386, 0.830164297292901, 0.830164297292901, 0.830164297292901, 0.830164297292901, 0.830164297292901, 0.830164297292901, 0.8370786788118189, 0.8370786788118189, 0.8370786788118189, 0.8370786788118189, 0.8370786788118189, 0.8370786788118189, 0.8370786788118189, 0.8370786788118189, 0.8370786788118189, 0.8370786788118189, 0.8370786788118189, 0.8370786788118189, 0.8370988211024247, 0.8370988211024247, 0.8370988211024247, 0.8370988211024247, 0.8370988211024247, 0.8370988211024247, 0.8370988211024247, 0.8370988211024247, 0.8496050160252157, 0.8496050160252157, 0.8496050160252157]}], \"average_precision_score_micro\": [{\"categories\": [\"0\", \"1\", \"2\", \"3\", \"4\", \"5\", \"6\", \"7\", \"8\", \"9\", \"10\", \"11\", \"12\", \"13\", \"14\", \"15\", \"16\", \"17\", \"18\", \"19\", \"20\", \"21\", \"22\", \"23\", \"24\", \"25\", \"26\", \"27\", \"28\", \"29\", \"30\", \"31\", \"32\", \"33\", \"37\"], \"mode\": \"markers\", \"name\": \"average_precision_score_micro\", \"stepped\": false, \"type\": \"scatter\", \"data\": [0.8718940648671548, 0.892224614148503, 0.8952914377222765, 0.8994846507302432, 0.8992383473677801, 0.88175724596973, 0.9012009671154289, 0.8988655913467699, 0.9083957491832576, 0.9083098196916574, 0.8701028461522003, 0.8897553892040749, 0.9196879603614041, 0.865160669232738, 0.9036778813305432, 0.8693067536454157, 0.8861018630258559, 0.9129911185767122, 0.9019695393915477, 0.9107081650308295, 0.9091742828790366, 0.8936696841184301, 0.9049353569132143, 0.9103088029764868, 0.9163477538846598, 0.8931421655285027, 0.8678350297714452, 0.8992497513163844, 0.9007629202390742, 0.9030540225528441, 0.78930609678011, 0.9011632698709132, 0.9142237845602155, 0.8869611699172202, 0.9200763645778501]}, {\"categories\": [\"0\", \"1\", \"2\", \"3\", \"4\", \"5\", \"6\", \"7\", \"8\", \"9\", \"10\", \"11\", \"12\", \"13\", \"14\", \"15\", \"16\", \"17\", \"18\", \"19\", \"20\", \"21\", \"22\", \"23\", \"24\", \"25\", \"26\", \"27\", \"28\", \"29\", \"30\", \"31\", \"32\", \"33\", \"37\"], \"mode\": \"lines\", \"name\": \"average_precision_score_micro_max\", \"stepped\": true, \"type\": \"scatter\", \"data\": [0.8718940648671548, 0.892224614148503, 0.8952914377222765, 0.8994846507302432, 0.8994846507302432, 0.8994846507302432, 0.9012009671154289, 0.9012009671154289, 0.9083957491832576, 0.9083957491832576, 0.9083957491832576, 0.9083957491832576, 0.9196879603614041, 0.9196879603614041, 0.9196879603614041, 0.9196879603614041, 0.9196879603614041, 0.9196879603614041, 0.9196879603614041, 0.9196879603614041, 0.9196879603614041, 0.9196879603614041, 0.9196879603614041, 0.9196879603614041, 0.9196879603614041, 0.9196879603614041, 0.9196879603614041, 0.9196879603614041, 0.9196879603614041, 0.9196879603614041, 0.9196879603614041, 0.9196879603614041, 0.9196879603614041, 0.9196879603614041, 0.9200763645778501]}], \"log_loss\": [{\"categories\": [\"0\", \"1\", \"2\", \"3\", \"4\", \"5\", \"6\", \"7\", \"8\", \"9\", \"10\", \"11\", \"12\", \"13\", \"14\", \"15\", \"16\", \"17\", \"18\", \"19\", \"20\", \"21\", \"22\", \"23\", \"24\", \"25\", \"26\", \"27\", \"28\", \"29\", \"30\", \"31\", \"32\", \"33\", \"37\"], \"mode\": \"markers\", \"name\": \"log_loss\", \"stepped\": false, \"type\": \"scatter\", \"data\": [0.5547666100444208, 0.4604225104481777, 0.4210465098249442, 0.4115595312132848, 0.4282949873661832, 0.5389597396590862, 0.40402506076822453, 0.42139839189757644, 0.4850402716341581, 0.46898760200345474, 0.47927266108312183, 0.4544834487445691, 0.5341160238573808, 0.5142827906847661, 0.4060975596462004, 0.6552156441257844, 0.44142689514673916, 0.39566230984274414, 0.4470175344803288, 0.38484407552300803, 0.3806991717601625, 0.4309167980292017, 0.39353928771318814, 0.3871405487953844, 0.3752082907519298, 0.5509613458764203, 0.47551683647846155, 0.5168619424556596, 0.4871696691352925, 0.45702791733402676, 0.6558924413277551, 0.42713703691853394, 0.38466059726172847, 0.4295380639241831, 0.46773236654692096]}, {\"categories\": [\"0\", \"1\", \"2\", \"3\", \"4\", \"5\", \"6\", \"7\", \"8\", \"9\", \"10\", \"11\", \"12\", \"13\", \"14\", \"15\", \"16\", \"17\", \"18\", \"19\", \"20\", \"21\", \"22\", \"23\", \"24\", \"25\", \"26\", \"27\", \"28\", \"29\", \"30\", \"31\", \"32\", \"33\", \"37\"], \"mode\": \"lines\", \"name\": \"log_loss_min\", \"stepped\": true, \"type\": \"scatter\", \"data\": [0.5547666100444208, 0.4604225104481777, 0.4210465098249442, 0.4115595312132848, 0.4115595312132848, 0.4115595312132848, 0.40402506076822453, 0.40402506076822453, 0.40402506076822453, 0.40402506076822453, 0.40402506076822453, 0.40402506076822453, 0.40402506076822453, 0.40402506076822453, 0.40402506076822453, 0.40402506076822453, 0.40402506076822453, 0.39566230984274414, 0.39566230984274414, 0.38484407552300803, 0.3806991717601625, 0.3806991717601625, 0.3806991717601625, 0.3806991717601625, 0.3752082907519298, 0.3752082907519298, 0.3752082907519298, 0.3752082907519298, 0.3752082907519298, 0.3752082907519298, 0.3752082907519298, 0.3752082907519298, 0.3752082907519298, 0.3752082907519298, 0.3752082907519298]}], \"precision_score_weighted\": [{\"categories\": [\"0\", \"1\", \"2\", \"3\", \"4\", \"5\", \"6\", \"7\", \"8\", \"9\", \"10\", \"11\", \"12\", \"13\", \"14\", \"15\", \"16\", \"17\", \"18\", \"19\", \"20\", \"21\", \"22\", \"23\", \"24\", \"25\", \"26\", \"27\", \"28\", \"29\", \"30\", \"31\", \"32\", \"33\", \"37\"], \"mode\": \"markers\", \"name\": \"precision_score_weighted\", \"stepped\": false, \"type\": \"scatter\", \"data\": [0.7938841181319484, 0.8029753752344378, 0.8293090887229472, 0.8179037495206958, 0.8243284347326897, 0.807969136925994, 0.8414385531592614, 0.8344244921810351, 0.8353763670951011, 0.8318558195436726, 0.7898423245677347, 0.8009895500607997, 0.8458591721801276, 0.8012026692569727, 0.8167847933584811, 0.792944936177645, 0.8007111265742018, 0.8405664799579391, 0.8202033890642492, 0.8409134875634228, 0.8424176715401185, 0.8169048420339597, 0.8347192445825105, 0.8354366899286927, 0.8485058311300172, 0.8008128453783918, 0.8069124977458537, 0.8197053350252673, 0.8351520787821414, 0.8287586597724648, 0.48172852968942725, 0.8153534257124537, 0.8635929195126815, 0.8074983268175613, 0.850011857858369]}, {\"categories\": [\"0\", \"1\", \"2\", \"3\", \"4\", \"5\", \"6\", \"7\", \"8\", \"9\", \"10\", \"11\", \"12\", \"13\", \"14\", \"15\", \"16\", \"17\", \"18\", \"19\", \"20\", \"21\", \"22\", \"23\", \"24\", \"25\", \"26\", \"27\", \"28\", \"29\", \"30\", \"31\", \"32\", \"33\", \"37\"], \"mode\": \"lines\", \"name\": \"precision_score_weighted_max\", \"stepped\": true, \"type\": \"scatter\", \"data\": [0.7938841181319484, 0.8029753752344378, 0.8293090887229472, 0.8293090887229472, 0.8293090887229472, 0.8293090887229472, 0.8414385531592614, 0.8414385531592614, 0.8414385531592614, 0.8414385531592614, 0.8414385531592614, 0.8414385531592614, 0.8458591721801276, 0.8458591721801276, 0.8458591721801276, 0.8458591721801276, 0.8458591721801276, 0.8458591721801276, 0.8458591721801276, 0.8458591721801276, 0.8458591721801276, 0.8458591721801276, 0.8458591721801276, 0.8458591721801276, 0.8485058311300172, 0.8485058311300172, 0.8485058311300172, 0.8485058311300172, 0.8485058311300172, 0.8485058311300172, 0.8485058311300172, 0.8485058311300172, 0.8635929195126815, 0.8635929195126815, 0.8635929195126815]}], \"recall_score_micro\": [{\"categories\": [\"0\", \"1\", \"2\", \"3\", \"4\", \"5\", \"6\", \"7\", \"8\", \"9\", \"10\", \"11\", \"12\", \"13\", \"14\", \"15\", \"16\", \"17\", \"18\", \"19\", \"20\", \"21\", \"22\", \"23\", \"24\", \"25\", \"26\", \"27\", \"28\", \"29\", \"30\", \"31\", \"32\", \"33\", \"37\"], \"mode\": \"markers\", \"name\": \"recall_score_micro\", \"stepped\": false, \"type\": \"scatter\", \"data\": [0.7918579234972677, 0.7985245901639344, 0.8284153005464482, 0.8117486338797815, 0.821639344262295, 0.8019125683060109, 0.8349180327868853, 0.8316393442622951, 0.828360655737705, 0.8249726775956283, 0.7820765027322404, 0.7986338797814208, 0.8414207650273223, 0.7985792349726776, 0.8117486338797815, 0.7856284153005465, 0.7920765027322403, 0.8348087431693989, 0.8185792349726777, 0.8382513661202186, 0.8382513661202186, 0.8117486338797815, 0.8315300546448088, 0.8315300546448088, 0.8414207650273223, 0.7985792349726776, 0.798743169398907, 0.8184153005464481, 0.8316393442622951, 0.8250273224043717, 0.6007103825136613, 0.8117486338797815, 0.8546448087431694, 0.805191256830601, 0.8447540983606558]}, {\"categories\": [\"0\", \"1\", \"2\", \"3\", \"4\", \"5\", \"6\", \"7\", \"8\", \"9\", \"10\", \"11\", \"12\", \"13\", \"14\", \"15\", \"16\", \"17\", \"18\", \"19\", \"20\", \"21\", \"22\", \"23\", \"24\", \"25\", \"26\", \"27\", \"28\", \"29\", \"30\", \"31\", \"32\", \"33\", \"37\"], \"mode\": \"lines\", \"name\": \"recall_score_micro_max\", \"stepped\": true, \"type\": \"scatter\", \"data\": [0.7918579234972677, 0.7985245901639344, 0.8284153005464482, 0.8284153005464482, 0.8284153005464482, 0.8284153005464482, 0.8349180327868853, 0.8349180327868853, 0.8349180327868853, 0.8349180327868853, 0.8349180327868853, 0.8349180327868853, 0.8414207650273223, 0.8414207650273223, 0.8414207650273223, 0.8414207650273223, 0.8414207650273223, 0.8414207650273223, 0.8414207650273223, 0.8414207650273223, 0.8414207650273223, 0.8414207650273223, 0.8414207650273223, 0.8414207650273223, 0.8414207650273223, 0.8414207650273223, 0.8414207650273223, 0.8414207650273223, 0.8414207650273223, 0.8414207650273223, 0.8414207650273223, 0.8414207650273223, 0.8546448087431694, 0.8546448087431694, 0.8546448087431694]}], \"accuracy\": [{\"categories\": [\"0\", \"1\", \"2\", \"3\", \"4\", \"5\", \"6\", \"7\", \"8\", \"9\", \"10\", \"11\", \"12\", \"13\", \"14\", \"15\", \"16\", \"17\", \"18\", \"19\", \"20\", \"21\", \"22\", \"23\", \"24\", \"25\", \"26\", \"27\", \"28\", \"29\", \"30\", \"31\", \"32\", \"33\", \"37\"], \"mode\": \"markers\", \"name\": \"accuracy\", \"stepped\": false, \"type\": \"scatter\", \"data\": [0.7918579234972677, 0.7985245901639344, 0.8284153005464482, 0.8117486338797815, 0.821639344262295, 0.8019125683060109, 0.8349180327868853, 0.8316393442622951, 0.828360655737705, 0.8249726775956283, 0.7820765027322404, 0.7986338797814208, 0.8414207650273223, 0.7985792349726776, 0.8117486338797815, 0.7856284153005465, 0.7920765027322403, 0.8348087431693989, 0.8185792349726777, 0.8382513661202186, 0.8382513661202186, 0.8117486338797815, 0.8315300546448088, 0.8315300546448088, 0.8414207650273223, 0.7985792349726776, 0.798743169398907, 0.8184153005464481, 0.8316393442622951, 0.8250273224043717, 0.6007103825136613, 0.8117486338797815, 0.8546448087431694, 0.805191256830601, 0.8447540983606558]}, {\"categories\": [\"0\", \"1\", \"2\", \"3\", \"4\", \"5\", \"6\", \"7\", \"8\", \"9\", \"10\", \"11\", \"12\", \"13\", \"14\", \"15\", \"16\", \"17\", \"18\", \"19\", \"20\", \"21\", \"22\", \"23\", \"24\", \"25\", \"26\", \"27\", \"28\", \"29\", \"30\", \"31\", \"32\", \"33\", \"37\"], \"mode\": \"lines\", \"name\": \"accuracy_max\", \"stepped\": true, \"type\": \"scatter\", \"data\": [0.7918579234972677, 0.7985245901639344, 0.8284153005464482, 0.8284153005464482, 0.8284153005464482, 0.8284153005464482, 0.8349180327868853, 0.8349180327868853, 0.8349180327868853, 0.8349180327868853, 0.8349180327868853, 0.8349180327868853, 0.8414207650273223, 0.8414207650273223, 0.8414207650273223, 0.8414207650273223, 0.8414207650273223, 0.8414207650273223, 0.8414207650273223, 0.8414207650273223, 0.8414207650273223, 0.8414207650273223, 0.8414207650273223, 0.8414207650273223, 0.8414207650273223, 0.8414207650273223, 0.8414207650273223, 0.8414207650273223, 0.8414207650273223, 0.8414207650273223, 0.8414207650273223, 0.8414207650273223, 0.8546448087431694, 0.8546448087431694, 0.8546448087431694]}], \"precision_score_micro\": [{\"categories\": [\"0\", \"1\", \"2\", \"3\", \"4\", \"5\", \"6\", \"7\", \"8\", \"9\", \"10\", \"11\", \"12\", \"13\", \"14\", \"15\", \"16\", \"17\", \"18\", \"19\", \"20\", \"21\", \"22\", \"23\", \"24\", \"25\", \"26\", \"27\", \"28\", \"29\", \"30\", \"31\", \"32\", \"33\", \"37\"], \"mode\": \"markers\", \"name\": \"precision_score_micro\", \"stepped\": false, \"type\": \"scatter\", \"data\": [0.7918579234972677, 0.7985245901639344, 0.8284153005464482, 0.8117486338797815, 0.821639344262295, 0.8019125683060109, 0.8349180327868853, 0.8316393442622951, 0.828360655737705, 0.8249726775956283, 0.7820765027322404, 0.7986338797814208, 0.8414207650273223, 0.7985792349726776, 0.8117486338797815, 0.7856284153005465, 0.7920765027322403, 0.8348087431693989, 0.8185792349726777, 0.8382513661202186, 0.8382513661202186, 0.8117486338797815, 0.8315300546448088, 0.8315300546448088, 0.8414207650273223, 0.7985792349726776, 0.798743169398907, 0.8184153005464481, 0.8316393442622951, 0.8250273224043717, 0.6007103825136613, 0.8117486338797815, 0.8546448087431694, 0.805191256830601, 0.8447540983606558]}, {\"categories\": [\"0\", \"1\", \"2\", \"3\", \"4\", \"5\", \"6\", \"7\", \"8\", \"9\", \"10\", \"11\", \"12\", \"13\", \"14\", \"15\", \"16\", \"17\", \"18\", \"19\", \"20\", \"21\", \"22\", \"23\", \"24\", \"25\", \"26\", \"27\", \"28\", \"29\", \"30\", \"31\", \"32\", \"33\", \"37\"], \"mode\": \"lines\", \"name\": \"precision_score_micro_max\", \"stepped\": true, \"type\": \"scatter\", \"data\": [0.7918579234972677, 0.7985245901639344, 0.8284153005464482, 0.8284153005464482, 0.8284153005464482, 0.8284153005464482, 0.8349180327868853, 0.8349180327868853, 0.8349180327868853, 0.8349180327868853, 0.8349180327868853, 0.8349180327868853, 0.8414207650273223, 0.8414207650273223, 0.8414207650273223, 0.8414207650273223, 0.8414207650273223, 0.8414207650273223, 0.8414207650273223, 0.8414207650273223, 0.8414207650273223, 0.8414207650273223, 0.8414207650273223, 0.8414207650273223, 0.8414207650273223, 0.8414207650273223, 0.8414207650273223, 0.8414207650273223, 0.8414207650273223, 0.8414207650273223, 0.8414207650273223, 0.8414207650273223, 0.8546448087431694, 0.8546448087431694, 0.8546448087431694]}], \"f1_score_weighted\": [{\"categories\": [\"0\", \"1\", \"2\", \"3\", \"4\", \"5\", \"6\", \"7\", \"8\", \"9\", \"10\", \"11\", \"12\", \"13\", \"14\", \"15\", \"16\", \"17\", \"18\", \"19\", \"20\", \"21\", \"22\", \"23\", \"24\", \"25\", \"26\", \"27\", \"28\", \"29\", \"30\", \"31\", \"32\", \"33\", \"37\"], \"mode\": \"markers\", \"name\": \"f1_score_weighted\", \"stepped\": false, \"type\": \"scatter\", \"data\": [0.7911533076732317, 0.7976303566304396, 0.8275504130264751, 0.8109700051042253, 0.8208267792677517, 0.8009140601514352, 0.833638836299367, 0.8309913694354304, 0.8268296530545616, 0.8242595038956327, 0.7796264846611989, 0.7978851874154176, 0.8407124772976399, 0.7981545625395954, 0.8105652353819914, 0.7842285723728486, 0.7909521659455667, 0.833416708226857, 0.818144831992768, 0.8370347500567383, 0.8371648762027203, 0.8105728029629902, 0.8308348044483536, 0.830726199549426, 0.8402573010688485, 0.7985657404529626, 0.7982275688540921, 0.8179984575295467, 0.8315728102977669, 0.8242949664154404, 0.48562278000410536, 0.8107826372693531, 0.85320547122494, 0.8049617780300281, 0.843384768665102]}, {\"categories\": [\"0\", \"1\", \"2\", \"3\", \"4\", \"5\", \"6\", \"7\", \"8\", \"9\", \"10\", \"11\", \"12\", \"13\", \"14\", \"15\", \"16\", \"17\", \"18\", \"19\", \"20\", \"21\", \"22\", \"23\", \"24\", \"25\", \"26\", \"27\", \"28\", \"29\", \"30\", \"31\", \"32\", \"33\", \"37\"], \"mode\": \"lines\", \"name\": \"f1_score_weighted_max\", \"stepped\": true, \"type\": \"scatter\", \"data\": [0.7911533076732317, 0.7976303566304396, 0.8275504130264751, 0.8275504130264751, 0.8275504130264751, 0.8275504130264751, 0.833638836299367, 0.833638836299367, 0.833638836299367, 0.833638836299367, 0.833638836299367, 0.833638836299367, 0.8407124772976399, 0.8407124772976399, 0.8407124772976399, 0.8407124772976399, 0.8407124772976399, 0.8407124772976399, 0.8407124772976399, 0.8407124772976399, 0.8407124772976399, 0.8407124772976399, 0.8407124772976399, 0.8407124772976399, 0.8407124772976399, 0.8407124772976399, 0.8407124772976399, 0.8407124772976399, 0.8407124772976399, 0.8407124772976399, 0.8407124772976399, 0.8407124772976399, 0.85320547122494, 0.85320547122494, 0.85320547122494]}], \"f1_score_macro\": [{\"categories\": [\"0\", \"1\", \"2\", \"3\", \"4\", \"5\", \"6\", \"7\", \"8\", \"9\", \"10\", \"11\", \"12\", \"13\", \"14\", \"15\", \"16\", \"17\", \"18\", \"19\", \"20\", \"21\", \"22\", \"23\", \"24\", \"25\", \"26\", \"27\", \"28\", \"29\", \"30\", \"31\", \"32\", \"33\", \"37\"], \"mode\": \"markers\", \"name\": \"f1_score_macro\", \"stepped\": false, \"type\": \"scatter\", \"data\": [0.7867944664973036, 0.7935640878174892, 0.8233171513430626, 0.8077778404616177, 0.8168350885890214, 0.7969157196381772, 0.8298488412551352, 0.8275323601876664, 0.8233525079115003, 0.821026382367261, 0.7742751937714271, 0.7935853295276967, 0.8372766917716904, 0.794696152379093, 0.8069915373149545, 0.7795130522416428, 0.7869224420804721, 0.8290696052125499, 0.8146233736350597, 0.8331568144927335, 0.8335890789257224, 0.8063769388231471, 0.8272261112551493, 0.8270957729971868, 0.836543018275733, 0.7958269988745588, 0.7950230704620964, 0.8142978259610032, 0.8289821215170287, 0.8209510459544488, 0.47105699994604333, 0.8066554087674778, 0.8496431344076878, 0.8016948330686064, 0.8395036571589506]}, {\"categories\": [\"0\", \"1\", \"2\", \"3\", \"4\", \"5\", \"6\", \"7\", \"8\", \"9\", \"10\", \"11\", \"12\", \"13\", \"14\", \"15\", \"16\", \"17\", \"18\", \"19\", \"20\", \"21\", \"22\", \"23\", \"24\", \"25\", \"26\", \"27\", \"28\", \"29\", \"30\", \"31\", \"32\", \"33\", \"37\"], \"mode\": \"lines\", \"name\": \"f1_score_macro_max\", \"stepped\": true, \"type\": \"scatter\", \"data\": [0.7867944664973036, 0.7935640878174892, 0.8233171513430626, 0.8233171513430626, 0.8233171513430626, 0.8233171513430626, 0.8298488412551352, 0.8298488412551352, 0.8298488412551352, 0.8298488412551352, 0.8298488412551352, 0.8298488412551352, 0.8372766917716904, 0.8372766917716904, 0.8372766917716904, 0.8372766917716904, 0.8372766917716904, 0.8372766917716904, 0.8372766917716904, 0.8372766917716904, 0.8372766917716904, 0.8372766917716904, 0.8372766917716904, 0.8372766917716904, 0.8372766917716904, 0.8372766917716904, 0.8372766917716904, 0.8372766917716904, 0.8372766917716904, 0.8372766917716904, 0.8372766917716904, 0.8372766917716904, 0.8496431344076878, 0.8496431344076878, 0.8496431344076878]}]}, \"metricName\": null, \"primaryMetricName\": \"AUC_weighted\", \"showLegend\": false}, \"run_metrics\": [{\"name\": \"experiment_status\", \"run_id\": \"AutoML_82e9f29f-1769-4686-85c7-b41400e2cb12\", \"categories\": [0, 1, 2, 3, 4, 5, 6, 7, 8, 9, 10, 11, 12, 13], \"series\": [{\"data\": [\"DatasetEvaluation\", \"FeaturesGeneration\", \"DatasetFeaturization\", \"DatasetFeaturizationCompleted\", \"DatasetCrossValidationSplit\", \"ModelSelection\", \"BestRunExplainModel\", \"ModelExplanationDataSetSetup\", \"PickSurrogateModel\", \"EngineeredFeatureExplanations\", \"EngineeredFeatureExplanations\", \"RawFeaturesExplanations\", \"RawFeaturesExplanations\", \"BestRunExplainModel\"]}]}, {\"name\": \"experiment_status_description\", \"run_id\": \"AutoML_82e9f29f-1769-4686-85c7-b41400e2cb12\", \"categories\": [0, 1, 2, 3, 4, 5, 6, 7, 8, 9, 10, 11, 12, 13], \"series\": [{\"data\": [\"Gathering dataset statistics.\", \"Generating features for the dataset.\", \"Beginning to fit featurizers and featurize the dataset.\", \"Completed fit featurizers and featurizing the dataset.\", \"Generating individually featurized CV splits.\", \"Beginning model selection.\", \"Best run model explanations started\", \"Model explanations data setup completed\", \"Choosing LightGBM as the surrogate model for explanations\", \"Computation of engineered features started\", \"Computation of engineered features completed\", \"Computation of raw features started\", \"Computation of raw features completed\", \"Best run model explanations completed\"]}]}, {\"name\": \"f1_score_micro\", \"run_id\": \"AutoML_82e9f29f-1769-4686-85c7-b41400e2cb12\", \"categories\": [0], \"series\": [{\"data\": [0.8447540983606558]}]}, {\"name\": \"average_precision_score_weighted\", \"run_id\": \"AutoML_82e9f29f-1769-4686-85c7-b41400e2cb12\", \"categories\": [0], \"series\": [{\"data\": [0.9278828186055816]}]}, {\"name\": \"AUC_weighted\", \"run_id\": \"AutoML_82e9f29f-1769-4686-85c7-b41400e2cb12\", \"categories\": [0], \"series\": [{\"data\": [0.9286132548448066]}]}, {\"name\": \"average_precision_score_macro\", \"run_id\": \"AutoML_82e9f29f-1769-4686-85c7-b41400e2cb12\", \"categories\": [0], \"series\": [{\"data\": [0.9258895112999188]}]}, {\"name\": \"f1_score_weighted\", \"run_id\": \"AutoML_82e9f29f-1769-4686-85c7-b41400e2cb12\", \"categories\": [0], \"series\": [{\"data\": [0.843384768665102]}]}, {\"name\": \"precision_score_micro\", \"run_id\": \"AutoML_82e9f29f-1769-4686-85c7-b41400e2cb12\", \"categories\": [0], \"series\": [{\"data\": [0.8447540983606558]}]}, {\"name\": \"matthews_correlation\", \"run_id\": \"AutoML_82e9f29f-1769-4686-85c7-b41400e2cb12\", \"categories\": [0], \"series\": [{\"data\": [0.6872576193225511]}]}, {\"name\": \"norm_macro_recall\", \"run_id\": \"AutoML_82e9f29f-1769-4686-85c7-b41400e2cb12\", \"categories\": [0], \"series\": [{\"data\": [0.6760076510980504]}]}, {\"name\": \"precision_score_weighted\", \"run_id\": \"AutoML_82e9f29f-1769-4686-85c7-b41400e2cb12\", \"categories\": [0], \"series\": [{\"data\": [0.850011857858369]}]}, {\"name\": \"average_precision_score_micro\", \"run_id\": \"AutoML_82e9f29f-1769-4686-85c7-b41400e2cb12\", \"categories\": [0], \"series\": [{\"data\": [0.9200763645778501]}]}, {\"name\": \"f1_score_macro\", \"run_id\": \"AutoML_82e9f29f-1769-4686-85c7-b41400e2cb12\", \"categories\": [0], \"series\": [{\"data\": [0.8395036571589506]}]}, {\"name\": \"recall_score_macro\", \"run_id\": \"AutoML_82e9f29f-1769-4686-85c7-b41400e2cb12\", \"categories\": [0], \"series\": [{\"data\": [0.8380038255490252]}]}, {\"name\": \"balanced_accuracy\", \"run_id\": \"AutoML_82e9f29f-1769-4686-85c7-b41400e2cb12\", \"categories\": [0], \"series\": [{\"data\": [0.8380038255490252]}]}, {\"name\": \"weighted_accuracy\", \"run_id\": \"AutoML_82e9f29f-1769-4686-85c7-b41400e2cb12\", \"categories\": [0], \"series\": [{\"data\": [0.8507451552500085]}]}, {\"name\": \"AUC_macro\", \"run_id\": \"AutoML_82e9f29f-1769-4686-85c7-b41400e2cb12\", \"categories\": [0], \"series\": [{\"data\": [0.9286132548448066]}]}, {\"name\": \"precision_score_macro\", \"run_id\": \"AutoML_82e9f29f-1769-4686-85c7-b41400e2cb12\", \"categories\": [0], \"series\": [{\"data\": [0.8496787219871038]}]}, {\"name\": \"recall_score_weighted\", \"run_id\": \"AutoML_82e9f29f-1769-4686-85c7-b41400e2cb12\", \"categories\": [0], \"series\": [{\"data\": [0.8447540983606558]}]}, {\"name\": \"AUC_micro\", \"run_id\": \"AutoML_82e9f29f-1769-4686-85c7-b41400e2cb12\", \"categories\": [0], \"series\": [{\"data\": [0.9243716294902804]}]}, {\"name\": \"recall_score_micro\", \"run_id\": \"AutoML_82e9f29f-1769-4686-85c7-b41400e2cb12\", \"categories\": [0], \"series\": [{\"data\": [0.8447540983606558]}]}, {\"name\": \"log_loss\", \"run_id\": \"AutoML_82e9f29f-1769-4686-85c7-b41400e2cb12\", \"categories\": [0], \"series\": [{\"data\": [0.46773236654692096]}]}, {\"name\": \"accuracy\", \"run_id\": \"AutoML_82e9f29f-1769-4686-85c7-b41400e2cb12\", \"categories\": [0], \"series\": [{\"data\": [0.8447540983606558]}]}], \"run_logs\": \"\\nRun is completed.\", \"graph\": {}, \"widget_settings\": {\"childWidgetDisplay\": \"popup\", \"send_telemetry\": false, \"log_level\": \"INFO\", \"sdk_version\": \"1.26.0\"}, \"loading\": false}"
     },
     "metadata": {},
     "output_type": "display_data"
    },
    {
     "data": {
      "text/html": [
       "<table style=\"width:100%\"><tr><th>Experiment</th><th>Id</th><th>Type</th><th>Status</th><th>Details Page</th><th>Docs Page</th></tr><tr><td>heart-failure-prediction</td><td>AutoML_82e9f29f-1769-4686-85c7-b41400e2cb12</td><td>automl</td><td>Completed</td><td><a href=\"https://ml.azure.com/runs/AutoML_82e9f29f-1769-4686-85c7-b41400e2cb12?wsid=/subscriptions/99625554-65d2-4421-aea7-7ddd513d8fe5/resourcegroups/mltest/workspaces/mltest&amp;tid=13b62211-d5ac-471c-a33b-9d952195a20c\" target=\"_blank\" rel=\"noopener\">Link to Azure Machine Learning studio</a></td><td><a href=\"https://docs.microsoft.com/en-us/python/api/overview/azure/ml/intro?view=azure-ml-py\" target=\"_blank\" rel=\"noopener\">Link to Documentation</a></td></tr></table>"
      ],
      "text/plain": [
       "<IPython.core.display.HTML object>"
      ]
     },
     "metadata": {},
     "output_type": "display_data"
    },
    {
     "name": "stdout",
     "output_type": "stream",
     "text": [
      "\n",
      "\n",
      "****************************************************************************************************\n",
      "DATA GUARDRAILS: \n",
      "\n",
      "TYPE:         Class balancing detection\n",
      "STATUS:       PASSED\n",
      "DESCRIPTION:  Your inputs were analyzed, and all classes are balanced in your training data.\n",
      "              Learn more about imbalanced data: https://aka.ms/AutomatedMLImbalancedData\n",
      "\n",
      "****************************************************************************************************\n",
      "\n",
      "TYPE:         Missing feature values imputation\n",
      "STATUS:       PASSED\n",
      "DESCRIPTION:  No feature missing values were detected in the training data.\n",
      "              Learn more about missing value imputation: https://aka.ms/AutomatedMLFeaturization\n",
      "\n",
      "****************************************************************************************************\n",
      "\n",
      "TYPE:         High cardinality feature detection\n",
      "STATUS:       PASSED\n",
      "DESCRIPTION:  Your inputs were analyzed, and no high cardinality features were detected.\n",
      "              Learn more about high cardinality feature handling: https://aka.ms/AutomatedMLFeaturization\n",
      "\n",
      "****************************************************************************************************\n",
      "\n",
      "****************************************************************************************************\n",
      "ITERATION: The iteration being evaluated.\n",
      "PIPELINE: A summary description of the pipeline being evaluated.\n",
      "DURATION: Time taken for the current iteration.\n",
      "METRIC: The result of computing score on the fitted pipeline.\n",
      "BEST: The best observed score thus far.\n",
      "****************************************************************************************************\n",
      "\n",
      " ITERATION   PIPELINE                                       DURATION      METRIC      BEST\n",
      "         0   MaxAbsScaler LightGBM                          0:00:45       0.8656    0.8656\n",
      "         1   MaxAbsScaler XGBoostClassifier                 0:00:52       0.8862    0.8862\n",
      "         2   MaxAbsScaler RandomForest                      0:00:43       0.8909    0.8909\n",
      "         3   MaxAbsScaler RandomForest                      0:00:44       0.8986    0.8986\n",
      "         4   MaxAbsScaler RandomForest                      0:00:47       0.8968    0.8986\n",
      "         5   MaxAbsScaler ExtremeRandomTrees                0:00:42       0.8823    0.8986\n",
      "         6   MaxAbsScaler ExtremeRandomTrees                0:00:46       0.9006    0.9006\n",
      "         7   MaxAbsScaler ExtremeRandomTrees                0:00:56       0.9054    0.9054\n",
      "         8   MaxAbsScaler RandomForest                      0:00:42       0.9154    0.9154\n",
      "         9   MaxAbsScaler ExtremeRandomTrees                0:00:49       0.9200    0.9200\n",
      "        10   MaxAbsScaler RandomForest                      0:00:51       0.8768    0.9200\n",
      "        11   MaxAbsScaler RandomForest                      0:00:45       0.8851    0.9200\n",
      "        12   MaxAbsScaler RandomForest                      0:00:49       0.9194    0.9200\n",
      "        13   StandardScalerWrapper XGBoostClassifier        0:00:46       0.8686    0.9200\n",
      "        14   MaxAbsScaler RandomForest                      0:00:38       0.8992    0.9200\n",
      "        15   StandardScalerWrapper ExtremeRandomTrees       0:00:47       0.8721    0.9200\n",
      "        16   MaxAbsScaler ExtremeRandomTrees                0:00:48       0.8940    0.9200\n",
      "        17   MaxAbsScaler ExtremeRandomTrees                0:00:52       0.9159    0.9200\n",
      "        18   MaxAbsScaler RandomForest                      0:01:02       0.9023    0.9200\n",
      "        19   MaxAbsScaler LightGBM                          0:00:52       0.9100    0.9200\n",
      "        20   MaxAbsScaler LightGBM                          0:00:48       0.9109    0.9200\n",
      "        21   MaxAbsScaler LightGBM                          0:00:45       0.8984    0.9200\n",
      "        22   MaxAbsScaler LightGBM                          0:00:44       0.9030    0.9200\n",
      "        23   MaxAbsScaler LightGBM                          0:00:42       0.9092    0.9200\n",
      "        24   MaxAbsScaler LogisticRegression                0:00:52       0.9178    0.9200\n",
      "        25   MaxAbsScaler ExtremeRandomTrees                0:00:49       0.8928    0.9200\n",
      "        26   StandardScalerWrapper ExtremeRandomTrees       0:00:44       0.8779    0.9200\n",
      "        27   MaxAbsScaler ExtremeRandomTrees                0:00:49       0.8993    0.9200\n",
      "        28   MaxAbsScaler ExtremeRandomTrees                0:00:43       0.9066    0.9200\n",
      "        29   MaxAbsScaler RandomForest                      0:00:46       0.9042    0.9200\n",
      "        30   SparseNormalizer ExtremeRandomTrees            0:00:53       0.9127    0.9200\n",
      "        31   SparseNormalizer XGBoostClassifier             0:00:50       0.8975    0.9200\n",
      "        32   StandardScalerWrapper LogisticRegression       0:00:53       0.9175    0.9200\n",
      "        33   SparseNormalizer XGBoostClassifier             0:00:46       0.8904    0.9200\n",
      "ERROR: {\n",
      "    \"additional_properties\": {},\n",
      "    \"error\": {\n",
      "        \"additional_properties\": {\n",
      "            \"debugInfo\": null\n",
      "        },\n",
      "        \"code\": \"UserError\",\n",
      "        \"severity\": null,\n",
      "        \"message\": \"Experiment timeout reached, please consider increasing your experiment timeout.\",\n",
      "        \"message_format\": \"Experiment timeout reached, please consider increasing your experiment timeout.\",\n",
      "        \"message_parameters\": {},\n",
      "        \"reference_code\": null,\n",
      "        \"details_uri\": null,\n",
      "        \"target\": null,\n",
      "        \"details\": [],\n",
      "        \"inner_error\": {\n",
      "            \"additional_properties\": {},\n",
      "            \"code\": \"ResourceExhausted\",\n",
      "            \"inner_error\": {\n",
      "                \"additional_properties\": {},\n",
      "                \"code\": \"Timeout\",\n",
      "                \"inner_error\": {\n",
      "                    \"additional_properties\": {},\n",
      "                    \"code\": \"ExperimentTimeoutForIterations\",\n",
      "                    \"inner_error\": null\n",
      "                }\n",
      "            }\n",
      "        }\n",
      "    },\n",
      "    \"correlation\": null,\n",
      "    \"environment\": null,\n",
      "    \"location\": null,\n",
      "    \"time\": {},\n",
      "    \"component_name\": null\n",
      "}\n",
      "        34                                                  0:02:12          nan    0.9200\n",
      "ERROR: {\n",
      "    \"additional_properties\": {},\n",
      "    \"error\": {\n",
      "        \"additional_properties\": {\n",
      "            \"debugInfo\": null\n",
      "        },\n",
      "        \"code\": \"UserError\",\n",
      "        \"severity\": null,\n",
      "        \"message\": \"Experiment timeout reached, please consider increasing your experiment timeout.\",\n",
      "        \"message_format\": \"Experiment timeout reached, please consider increasing your experiment timeout.\",\n",
      "        \"message_parameters\": {},\n",
      "        \"reference_code\": null,\n",
      "        \"details_uri\": null,\n",
      "        \"target\": null,\n",
      "        \"details\": [],\n",
      "        \"inner_error\": {\n",
      "            \"additional_properties\": {},\n",
      "            \"code\": \"ResourceExhausted\",\n",
      "            \"inner_error\": {\n",
      "                \"additional_properties\": {},\n",
      "                \"code\": \"Timeout\",\n",
      "                \"inner_error\": {\n",
      "                    \"additional_properties\": {},\n",
      "                    \"code\": \"ExperimentTimeoutForIterations\",\n",
      "                    \"inner_error\": null\n",
      "                }\n",
      "            }\n",
      "        }\n",
      "    },\n",
      "    \"correlation\": null,\n",
      "    \"environment\": null,\n",
      "    \"location\": null,\n",
      "    \"time\": {},\n",
      "    \"component_name\": null\n",
      "}\n",
      "        35                                                  0:01:10          nan    0.9200\n",
      "ERROR: {\n",
      "    \"additional_properties\": {},\n",
      "    \"error\": {\n",
      "        \"additional_properties\": {\n",
      "            \"debugInfo\": null\n",
      "        },\n",
      "        \"code\": \"UserError\",\n",
      "        \"severity\": null,\n",
      "        \"message\": \"Experiment timeout reached, please consider increasing your experiment timeout.\",\n",
      "        \"message_format\": \"Experiment timeout reached, please consider increasing your experiment timeout.\",\n",
      "        \"message_parameters\": {},\n",
      "        \"reference_code\": null,\n",
      "        \"details_uri\": null,\n",
      "        \"target\": null,\n",
      "        \"details\": [],\n",
      "        \"inner_error\": {\n",
      "            \"additional_properties\": {},\n",
      "            \"code\": \"ResourceExhausted\",\n",
      "            \"inner_error\": {\n",
      "                \"additional_properties\": {},\n",
      "                \"code\": \"Timeout\",\n",
      "                \"inner_error\": {\n",
      "                    \"additional_properties\": {},\n",
      "                    \"code\": \"ExperimentTimeoutForIterations\",\n",
      "                    \"inner_error\": null\n",
      "                }\n",
      "            }\n",
      "        }\n",
      "    },\n",
      "    \"correlation\": null,\n",
      "    \"environment\": null,\n",
      "    \"location\": null,\n",
      "    \"time\": {},\n",
      "    \"component_name\": null\n",
      "}\n",
      "        36                                                  0:01:06          nan    0.9200\n",
      "ERROR: {\n",
      "    \"additional_properties\": {},\n",
      "    \"error\": {\n",
      "        \"additional_properties\": {\n",
      "            \"debugInfo\": null\n",
      "        },\n",
      "        \"code\": \"UserError\",\n",
      "        \"severity\": null,\n",
      "        \"message\": \"Experiment timeout reached, please consider increasing your experiment timeout.\",\n",
      "        \"message_format\": \"Experiment timeout reached, please consider increasing your experiment timeout.\",\n",
      "        \"message_parameters\": {},\n",
      "        \"reference_code\": null,\n",
      "        \"details_uri\": null,\n",
      "        \"target\": null,\n",
      "        \"details\": [],\n",
      "        \"inner_error\": {\n",
      "            \"additional_properties\": {},\n",
      "            \"code\": \"ResourceExhausted\",\n",
      "            \"inner_error\": {\n",
      "                \"additional_properties\": {},\n",
      "                \"code\": \"Timeout\",\n",
      "                \"inner_error\": {\n",
      "                    \"additional_properties\": {},\n",
      "                    \"code\": \"ExperimentTimeoutForIterations\",\n",
      "                    \"inner_error\": null\n",
      "                }\n",
      "            }\n",
      "        }\n",
      "    },\n",
      "    \"correlation\": null,\n",
      "    \"environment\": null,\n",
      "    \"location\": null,\n",
      "    \"time\": {},\n",
      "    \"component_name\": null\n",
      "}\n",
      "        37    VotingEnsemble                                0:01:24       0.9286    0.9286\n"
     ]
    },
    {
     "data": {
      "text/plain": [
       "{'runId': 'AutoML_82e9f29f-1769-4686-85c7-b41400e2cb12',\n",
       " 'target': 'cluster-automl',\n",
       " 'status': 'Completed',\n",
       " 'startTimeUtc': '2021-04-13T15:11:06.320866Z',\n",
       " 'endTimeUtc': '2021-04-13T15:40:13.02629Z',\n",
       " 'properties': {'num_iterations': '1000',\n",
       "  'training_type': 'TrainFull',\n",
       "  'acquisition_function': 'EI',\n",
       "  'primary_metric': 'AUC_weighted',\n",
       "  'train_split': '0',\n",
       "  'acquisition_parameter': '0',\n",
       "  'num_cross_validation': '5',\n",
       "  'target': 'cluster-automl',\n",
       "  'AMLSettingsJsonString': '{\"path\":null,\"name\":\"heart-failure-prediction\",\"subscription_id\":\"99625554-65d2-4421-aea7-7ddd513d8fe5\",\"resource_group\":\"mltest\",\"workspace_name\":\"mltest\",\"region\":\"eastus2\",\"compute_target\":\"cluster-automl\",\"spark_service\":null,\"azure_service\":\"remote\",\"many_models\":false,\"pipeline_fetch_max_batch_size\":1,\"enable_batch_run\":false,\"enable_run_restructure\":false,\"iterations\":1000,\"primary_metric\":\"AUC_weighted\",\"task_type\":\"classification\",\"data_script\":null,\"test_size\":0.0,\"validation_size\":0.0,\"n_cross_validations\":5,\"y_min\":null,\"y_max\":null,\"num_classes\":null,\"featurization\":\"auto\",\"_ignore_package_version_incompatibilities\":false,\"is_timeseries\":false,\"max_cores_per_iteration\":1,\"max_concurrent_iterations\":5,\"iteration_timeout_minutes\":null,\"mem_in_mb\":null,\"enforce_time_on_windows\":false,\"experiment_timeout_minutes\":20,\"experiment_exit_score\":null,\"whitelist_models\":null,\"blacklist_algos\":[\"TensorFlowLinearClassifier\",\"TensorFlowDNN\"],\"supported_models\":[\"SGD\",\"LinearSVM\",\"RandomForest\",\"LogisticRegression\",\"KNN\",\"SVM\",\"LightGBM\",\"XGBoostClassifier\",\"AveragedPerceptronClassifier\",\"TensorFlowDNN\",\"DecisionTree\",\"TensorFlowLinearClassifier\",\"GradientBoosting\",\"MultinomialNaiveBayes\",\"BernoulliNaiveBayes\",\"ExtremeRandomTrees\"],\"private_models\":[],\"auto_blacklist\":true,\"blacklist_samples_reached\":false,\"exclude_nan_labels\":true,\"verbosity\":20,\"_debug_log\":\"azureml_automl.log\",\"show_warnings\":false,\"model_explainability\":true,\"service_url\":null,\"sdk_url\":null,\"sdk_packages\":null,\"enable_onnx_compatible_models\":true,\"enable_split_onnx_featurizer_estimator_models\":false,\"vm_type\":\"STANDARD_D2_V2\",\"telemetry_verbosity\":20,\"send_telemetry\":true,\"enable_dnn\":false,\"scenario\":\"SDK-1.13.0\",\"environment_label\":null,\"save_mlflow\":false,\"force_text_dnn\":false,\"enable_feature_sweeping\":false,\"enable_early_stopping\":true,\"early_stopping_n_iters\":10,\"metrics\":null,\"enable_metric_confidence\":false,\"enable_ensembling\":true,\"enable_stack_ensembling\":false,\"ensemble_iterations\":15,\"enable_tf\":false,\"enable_subsampling\":null,\"subsample_seed\":null,\"enable_nimbusml\":false,\"enable_streaming\":false,\"force_streaming\":false,\"track_child_runs\":true,\"allowed_private_models\":[],\"label_column_name\":\"target\",\"weight_column_name\":null,\"cv_split_column_names\":null,\"enable_local_managed\":false,\"_local_managed_run_id\":null,\"cost_mode\":1,\"lag_length\":0,\"metric_operation\":\"maximize\",\"preprocess\":true}',\n",
       "  'DataPrepJsonString': '{\\\\\"training_data\\\\\": {\\\\\"datasetId\\\\\": \\\\\"60a54961-99e5-48c6-9cf7-5943cf20f515\\\\\"}, \\\\\"datasets\\\\\": 0}',\n",
       "  'EnableSubsampling': None,\n",
       "  'runTemplate': 'AutoML',\n",
       "  'azureml.runsource': 'automl',\n",
       "  'display_task_type': 'classification',\n",
       "  'dependencies_versions': '{\"azureml-widgets\": \"1.26.0\", \"azureml-train\": \"1.26.0\", \"azureml-train-restclients-hyperdrive\": \"1.26.0\", \"azureml-train-core\": \"1.26.0\", \"azureml-train-automl\": \"1.26.0\", \"azureml-train-automl-runtime\": \"1.26.0\", \"azureml-train-automl-client\": \"1.26.0\", \"azureml-tensorboard\": \"1.26.0\", \"azureml-telemetry\": \"1.26.0\", \"azureml-sdk\": \"1.26.0\", \"azureml-samples\": \"0+unknown\", \"azureml-pipeline\": \"1.26.0\", \"azureml-pipeline-steps\": \"1.26.0\", \"azureml-pipeline-core\": \"1.26.0\", \"azureml-opendatasets\": \"1.26.0\", \"azureml-model-management-sdk\": \"1.0.1b6.post1\", \"azureml-mlflow\": \"1.26.0\", \"azureml-interpret\": \"1.26.0\", \"azureml-explain-model\": \"1.26.0\", \"azureml-defaults\": \"1.26.0\", \"azureml-dataset-runtime\": \"1.26.0\", \"azureml-dataprep\": \"2.13.2\", \"azureml-dataprep-rslex\": \"1.11.2\", \"azureml-dataprep-native\": \"32.0.0\", \"azureml-datadrift\": \"1.26.0\", \"azureml-core\": \"1.26.0\", \"azureml-contrib-services\": \"1.26.0\", \"azureml-contrib-server\": \"1.26.0\", \"azureml-contrib-reinforcementlearning\": \"1.26.0\", \"azureml-contrib-pipeline-steps\": \"1.26.0\", \"azureml-contrib-notebook\": \"1.26.0\", \"azureml-contrib-gbdt\": \"1.26.0\", \"azureml-contrib-fairness\": \"1.26.0\", \"azureml-contrib-dataset\": \"1.26.0\", \"azureml-cli-common\": \"1.26.0\", \"azureml-automl-runtime\": \"1.26.0\", \"azureml-automl-dnn-nlp\": \"1.26.0\", \"azureml-automl-core\": \"1.26.0\", \"azureml-accel-models\": \"1.26.0\"}',\n",
       "  '_aml_system_scenario_identification': 'Remote.Parent',\n",
       "  'ClientType': 'SDK',\n",
       "  'environment_cpu_name': 'AzureML-AutoML',\n",
       "  'environment_cpu_label': 'prod',\n",
       "  'environment_gpu_name': 'AzureML-AutoML-GPU',\n",
       "  'environment_gpu_label': 'prod',\n",
       "  'root_attribution': 'automl',\n",
       "  'attribution': 'AutoML',\n",
       "  'Orchestrator': 'AutoML',\n",
       "  'CancelUri': 'https://eastus2.experiments.azureml.net/jasmine/v1.0/subscriptions/99625554-65d2-4421-aea7-7ddd513d8fe5/resourceGroups/mltest/providers/Microsoft.MachineLearningServices/workspaces/mltest/experimentids/92625128-63e0-4750-86a3-5157af4afcf1/cancel/AutoML_82e9f29f-1769-4686-85c7-b41400e2cb12',\n",
       "  'ClientSdkVersion': '1.25.0',\n",
       "  'snapshotId': '00000000-0000-0000-0000-000000000000',\n",
       "  'SetupRunId': 'AutoML_82e9f29f-1769-4686-85c7-b41400e2cb12_setup',\n",
       "  'SetupRunContainerId': 'dcid.AutoML_82e9f29f-1769-4686-85c7-b41400e2cb12_setup',\n",
       "  'FeaturizationRunJsonPath': 'featurizer_container.json',\n",
       "  'FeaturizationRunId': 'AutoML_82e9f29f-1769-4686-85c7-b41400e2cb12_featurize',\n",
       "  'ProblemInfoJsonString': '{\"dataset_num_categorical\": 0, \"is_sparse\": true, \"subsampling\": false, \"dataset_classes\": 2, \"dataset_features\": 27, \"dataset_samples\": 303, \"single_frequency_class_detected\": false}',\n",
       "  'ModelExplainRunId': 'AutoML_82e9f29f-1769-4686-85c7-b41400e2cb12_ModelExplain'},\n",
       " 'inputDatasets': [{'dataset': {'id': '60a54961-99e5-48c6-9cf7-5943cf20f515'}, 'consumptionDetails': {'type': 'RunInput', 'inputName': 'training_data', 'mechanism': 'Direct'}}],\n",
       " 'outputDatasets': [],\n",
       " 'logFiles': {},\n",
       " 'submittedBy': 'chinmay Das'}"
      ]
     },
     "execution_count": 12,
     "metadata": {},
     "output_type": "execute_result"
    }
   ],
   "source": [
    "from azureml.widgets import RunDetails\n",
    "RunDetails(remote_run).show()\n",
    "remote_run.wait_for_completion(show_output=True)"
   ]
  },
  {
   "cell_type": "markdown",
   "metadata": {},
   "source": [
    "## Best Model\n",
    "\n",
    "TODO: In the cell below, get the best model from the automl experiments and display all the properties of the model.\n",
    "\n"
   ]
  },
  {
   "cell_type": "code",
   "execution_count": 14,
   "metadata": {},
   "outputs": [
    {
     "name": "stdout",
     "output_type": "stream",
     "text": [
      "Pipeline(memory=None,\n",
      "         steps=[('datatransformer',\n",
      "                 DataTransformer(enable_dnn=None, enable_feature_sweeping=None,\n",
      "                                 feature_sweeping_config=None,\n",
      "                                 feature_sweeping_timeout=None,\n",
      "                                 featurization_config=None, force_text_dnn=None,\n",
      "                                 is_cross_validation=None,\n",
      "                                 is_onnx_compatible=None, logger=None,\n",
      "                                 observer=None, task=None, working_dir=None)),\n",
      "                ('prefittedsoftvotingclassifier',...\n",
      "                                                                                                  min_samples_leaf=0.2163157894736842,\n",
      "                                                                                                  min_samples_split=0.43157894736842106,\n",
      "                                                                                                  min_weight_fraction_leaf=0.0,\n",
      "                                                                                                  n_estimators=400,\n",
      "                                                                                                  n_jobs=1,\n",
      "                                                                                                  oob_score=False,\n",
      "                                                                                                  random_state=None,\n",
      "                                                                                                  verbose=0,\n",
      "                                                                                                  warm_start=False))],\n",
      "                                                                     verbose=False))],\n",
      "                                               flatten_transform=None,\n",
      "                                               weights=[0.16666666666666666,\n",
      "                                                        0.16666666666666666,\n",
      "                                                        0.08333333333333333,\n",
      "                                                        0.08333333333333333,\n",
      "                                                        0.08333333333333333,\n",
      "                                                        0.25,\n",
      "                                                        0.16666666666666666]))],\n",
      "         verbose=False)\n",
      "Run(Experiment: heart-failure-prediction,\n",
      "Id: AutoML_82e9f29f-1769-4686-85c7-b41400e2cb12_37,\n",
      "Type: azureml.scriptrun,\n",
      "Status: Completed)\n"
     ]
    }
   ],
   "source": [
    "best_automlclass , best_model_automl = remote_run.get_output()\n",
    "print(best_model_automl)\n",
    "print(best_automlclass)"
   ]
  },
  {
   "cell_type": "code",
   "execution_count": 28,
   "metadata": {},
   "outputs": [],
   "source": [
    "best_automlclass.download_file('outputs/model.pkl', 'outputs/model.pkl')"
   ]
  },
  {
   "cell_type": "code",
   "execution_count": 43,
   "metadata": {},
   "outputs": [],
   "source": [
    "best_automlclass.download_file('outputs/scoring_file_v_1_0_0.py', 'score.py')"
   ]
  },
  {
   "cell_type": "code",
   "execution_count": 51,
   "metadata": {},
   "outputs": [],
   "source": [
    "model = best_automlclass.register_model(model_name = 'best_model_automl', model_path = './outputs/model.pkl')"
   ]
  },
  {
   "cell_type": "code",
   "execution_count": 35,
   "metadata": {},
   "outputs": [
    {
     "data": {
      "text/plain": [
       "{'log_loss': 0.46773236654692096,\n",
       " 'precision_score_weighted': 0.850011857858369,\n",
       " 'average_precision_score_macro': 0.9258895112999188,\n",
       " 'accuracy': 0.8447540983606558,\n",
       " 'balanced_accuracy': 0.8380038255490252,\n",
       " 'f1_score_macro': 0.8395036571589506,\n",
       " 'recall_score_weighted': 0.8447540983606558,\n",
       " 'recall_score_micro': 0.8447540983606558,\n",
       " 'average_precision_score_micro': 0.9200763645778501,\n",
       " 'precision_score_micro': 0.8447540983606558,\n",
       " 'AUC_micro': 0.9243716294902804,\n",
       " 'weighted_accuracy': 0.8507451552500085,\n",
       " 'matthews_correlation': 0.6872576193225511,\n",
       " 'precision_score_macro': 0.8496787219871038,\n",
       " 'norm_macro_recall': 0.6760076510980504,\n",
       " 'average_precision_score_weighted': 0.9278828186055816,\n",
       " 'AUC_macro': 0.9286132548448066,\n",
       " 'recall_score_macro': 0.8380038255490252,\n",
       " 'f1_score_weighted': 0.843384768665102,\n",
       " 'AUC_weighted': 0.9286132548448066,\n",
       " 'f1_score_micro': 0.8447540983606558,\n",
       " 'confusion_matrix': 'aml://artifactId/ExperimentRun/dcid.AutoML_82e9f29f-1769-4686-85c7-b41400e2cb12_37/confusion_matrix',\n",
       " 'accuracy_table': 'aml://artifactId/ExperimentRun/dcid.AutoML_82e9f29f-1769-4686-85c7-b41400e2cb12_37/accuracy_table'}"
      ]
     },
     "execution_count": 35,
     "metadata": {},
     "output_type": "execute_result"
    }
   ],
   "source": [
    "best_automlclass.get_metrics()"
   ]
  },
  {
   "cell_type": "markdown",
   "metadata": {},
   "source": [
    "## Model Deployment\n",
    "\n",
    "Remember you have to deploy only one of the two models you trained.. Perform the steps in the rest of this notebook only if you wish to deploy this model.\n",
    "\n",
    "TODO: In the cell below, register the model, create an inference config and deploy the model as a web service."
   ]
  },
  {
   "cell_type": "code",
   "execution_count": 49,
   "metadata": {},
   "outputs": [],
   "source": [
    "from azureml.core.environment import Environment\n",
    "environment = Environment.get(ws, \"AzureML-AutoML\")"
   ]
  },
  {
   "cell_type": "code",
   "execution_count": 52,
   "metadata": {},
   "outputs": [
    {
     "name": "stdout",
     "output_type": "stream",
     "text": [
      "Tips: You can try get_logs(): https://aka.ms/debugimage#dockerlog or local deployment: https://aka.ms/debugimage#debug-locally to debug if deployment takes longer than 10 minutes.\n",
      "Running\n",
      "2021-04-13 16:02:11+00:00 Creating Container Registry if not exists.\n",
      "2021-04-13 16:02:11+00:00 Registering the environment.\n",
      "2021-04-13 16:02:13+00:00 Use the existing image.\n",
      "2021-04-13 16:02:13+00:00 Generating deployment configuration.\n",
      "2021-04-13 16:02:14+00:00 Submitting deployment to compute..\n",
      "2021-04-13 16:02:20+00:00 Checking the status of deployment automl-deploy-1..\n",
      "2021-04-13 16:07:24+00:00 Checking the status of inference endpoint automl-deploy-1.\n",
      "Succeeded\n",
      "ACI service creation operation finished, operation \"Succeeded\"\n",
      "http://23df9469-607b-45ea-afed-5fcf3d45e2c7.eastus2.azurecontainer.io/score\n"
     ]
    }
   ],
   "source": [
    "from azureml.core.model import InferenceConfig\n",
    "from azureml.core.webservice import AciWebservice\n",
    "from azureml.core import Model\n",
    "\n",
    "inference_config = InferenceConfig(entry_script='score.py',\n",
    "                                   environment=environment)\n",
    "service_name = 'automl-deploy-1'\n",
    "deployment_config = AciWebservice.deploy_configuration(cpu_cores=1, memory_gb=1)\n",
    "\n",
    "service = Model.deploy(workspace=ws,\n",
    "                       name=service_name,\n",
    "                       models=[model],\n",
    "                       inference_config=inference_config,\n",
    "                       deployment_config=deployment_config,\n",
    "                       overwrite=True\n",
    "                      )\n",
    "service.wait_for_deployment(show_output=True)\n",
    "\n",
    "scoring_uri = service.scoring_uri\n",
    "print(scoring_uri)"
   ]
  },
  {
   "cell_type": "code",
   "execution_count": 53,
   "metadata": {},
   "outputs": [],
   "source": [
    "# Enable app insights\n",
    "service.update(enable_app_insights=True)"
   ]
  },
  {
   "cell_type": "markdown",
   "metadata": {
    "collapsed": true,
    "gather": {
     "logged": 1598431657736
    },
    "jupyter": {
     "outputs_hidden": false,
     "source_hidden": false
    },
    "nteract": {
     "transient": {
      "deleting": false
     }
    }
   },
   "source": [
    "TODO: In the cell below, send a request to the web service you deployed to test it."
   ]
  },
  {
   "cell_type": "code",
   "execution_count": 55,
   "metadata": {
    "gather": {
     "logged": 1598432707604
    },
    "jupyter": {
     "outputs_hidden": false,
     "source_hidden": false
    },
    "nteract": {
     "transient": {
      "deleting": false
     }
    }
   },
   "outputs": [
    {
     "name": "stdout",
     "output_type": "stream",
     "text": [
      "{\"result\": [1]}\n"
     ]
    }
   ],
   "source": [
    "import requests\n",
    "import json\n",
    "\n",
    "# URL for the web service, should be similar to:\n",
    "scoring_uri = 'http://23df9469-607b-45ea-afed-5fcf3d45e2c7.eastus2.azurecontainer.io/score'\n",
    "# If the service is authenticated, set the key or token\n",
    "#key = 'zuv0yY9prOPHFssuYSFWDJPhnVMxgJqG'\n",
    "#two set of data to score, so we get two results back\n",
    "data = {\"data\":\n",
    "        [\n",
    "          {\n",
    "            \"age\":37,\n",
    "            \"sex\": 1,\n",
    "            \"cp\": 2,\n",
    "            \"trestbps\": 130,\n",
    "            \"chol\": 250,\n",
    "            \"fbs\": 0,\n",
    "            \"restecg\": 1,\n",
    "            \"thalach\": 187,\n",
    "            \"exang\": 0,\n",
    "            \"oldpeak\": 3.5,\n",
    "            \"slope\": 0,\n",
    "            \"ca\": 0,\n",
    "            \"thal\": 2,\n",
    "          }\n",
    "      ]\n",
    "    }\n",
    "    \n",
    "# Convert to JSON string\n",
    "input_data = json.dumps(data)\n",
    "with open(\"data.json\", \"w\") as _f:\n",
    "    _f.write(input_data)\n",
    "\n",
    "# Set the content type\n",
    "headers = {'Content-Type': 'application/json'}\n",
    "# If authentication is enabled, set the authorization header\n",
    "#headers['Authorization'] = f'Bearer {key}'\n",
    "\n",
    "# Make the request and display the response\n",
    "resp = requests.post(scoring_uri, input_data, headers=headers)\n",
    "print(resp.json())\n"
   ]
  },
  {
   "cell_type": "code",
   "execution_count": 56,
   "metadata": {},
   "outputs": [],
   "source": [
    " data = [\n",
    "          {\n",
    "            \"age\":37,\n",
    "            \"sex\": 1,\n",
    "            \"cp\": 2,\n",
    "            \"trestbps\": 130,\n",
    "            \"chol\": 250,\n",
    "            \"fbs\": 0,\n",
    "            \"restecg\": 1,\n",
    "            \"thalach\": 187,\n",
    "            \"exang\": 0,\n",
    "            \"oldpeak\": 3.5,\n",
    "            \"slope\": 0,\n",
    "            \"ca\": 0,\n",
    "            \"thal\": 2,\n",
    "          }\n",
    "      ]\n",
    "    "
   ]
  },
  {
   "cell_type": "code",
   "execution_count": 57,
   "metadata": {},
   "outputs": [
    {
     "data": {
      "text/plain": [
       "'{\"result\": [1]}'"
      ]
     },
     "execution_count": 57,
     "metadata": {},
     "output_type": "execute_result"
    }
   ],
   "source": [
    "# test using service instance\n",
    "input_data = json.dumps({\n",
    "    'data': data\n",
    "})\n",
    "\n",
    "output = service.run(input_data)\n",
    "output"
   ]
  },
  {
   "cell_type": "markdown",
   "metadata": {
    "collapsed": true,
    "gather": {
     "logged": 1598432765711
    },
    "jupyter": {
     "outputs_hidden": false,
     "source_hidden": false
    },
    "nteract": {
     "transient": {
      "deleting": false
     }
    }
   },
   "source": [
    "TODO: In the cell below, print the logs of the web service and delete the service"
   ]
  },
  {
   "cell_type": "code",
   "execution_count": 58,
   "metadata": {
    "jupyter": {
     "outputs_hidden": false,
     "source_hidden": false
    },
    "nteract": {
     "transient": {
      "deleting": false
     }
    }
   },
   "outputs": [
    {
     "data": {
      "text/plain": [
       "'2021-04-13T16:07:20,392760400+00:00 - rsyslog/run \\n2021-04-13T16:07:20,394804400+00:00 - iot-server/run \\n2021-04-13T16:07:20,392769400+00:00 - gunicorn/run \\n2021-04-13T16:07:20,410753600+00:00 - nginx/run \\n/usr/sbin/nginx: /azureml-envs/azureml_1c91e9a5baadb44a18d64bdd7f599d89/lib/libcrypto.so.1.0.0: no version information available (required by /usr/sbin/nginx)\\n/usr/sbin/nginx: /azureml-envs/azureml_1c91e9a5baadb44a18d64bdd7f599d89/lib/libcrypto.so.1.0.0: no version information available (required by /usr/sbin/nginx)\\n/usr/sbin/nginx: /azureml-envs/azureml_1c91e9a5baadb44a18d64bdd7f599d89/lib/libssl.so.1.0.0: no version information available (required by /usr/sbin/nginx)\\n/usr/sbin/nginx: /azureml-envs/azureml_1c91e9a5baadb44a18d64bdd7f599d89/lib/libssl.so.1.0.0: no version information available (required by /usr/sbin/nginx)\\n/usr/sbin/nginx: /azureml-envs/azureml_1c91e9a5baadb44a18d64bdd7f599d89/lib/libssl.so.1.0.0: no version information available (required by /usr/sbin/nginx)\\nrsyslogd: /azureml-envs/azureml_1c91e9a5baadb44a18d64bdd7f599d89/lib/libuuid.so.1: no version information available (required by rsyslogd)\\nEdgeHubConnectionString and IOTEDGE_IOTHUBHOSTNAME are not set. Exiting...\\n2021-04-13T16:07:20,754369100+00:00 - iot-server/finish 1 0\\n2021-04-13T16:07:20,757097200+00:00 - Exit code 1 is normal. Not restarting iot-server.\\nStarting gunicorn 19.9.0\\nListening at: http://127.0.0.1:31311 (68)\\nUsing worker: sync\\nworker timeout is set to 300\\nBooting worker with pid: 97\\nSPARK_HOME not set. Skipping PySpark Initialization.\\nGenerating new fontManager, this may take some time...\\nInitializing logger\\n2021-04-13 16:07:22,847 | root | INFO | Starting up app insights client\\n2021-04-13 16:07:22,847 | root | INFO | Starting up request id generator\\n2021-04-13 16:07:22,847 | root | INFO | Starting up app insight hooks\\n2021-04-13 16:07:22,848 | root | INFO | Invoking user\\'s init function\\n2021-04-13 16:07:26,442 | azureml.core | WARNING | Failure while loading azureml_run_type_providers. Failed to load entrypoint automl = azureml.train.automl.run:AutoMLRun._from_run_dto with exception cannot import name \\'RunType\\'.\\nFailure while loading azureml_run_type_providers. Failed to load entrypoint automl = azureml.train.automl.run:AutoMLRun._from_run_dto with exception cannot import name \\'RunType\\'.\\n2021-04-13 16:07:26,976 | root | INFO | Users\\'s init has completed successfully\\n2021-04-13 16:07:26,990 | root | INFO | Skipping middleware: dbg_model_info as it\\'s not enabled.\\n2021-04-13 16:07:26,990 | root | INFO | Skipping middleware: dbg_resource_usage as it\\'s not enabled.\\n2021-04-13 16:07:26,995 | root | INFO | Scoring timeout is found from os.environ: 60000 ms\\n2021-04-13 16:07:27,037 | root | INFO | 200\\n127.0.0.1 - - [13/Apr/2021:16:07:27 +0000] \"GET /swagger.json HTTP/1.0\" 200 2751 \"-\" \"Go-http-client/1.1\"\\n2021-04-13 16:07:31,121 | root | INFO | 200\\n127.0.0.1 - - [13/Apr/2021:16:07:31 +0000] \"GET /swagger.json HTTP/1.0\" 200 2751 \"-\" \"Go-http-client/1.1\"\\n2021-04-13 16:07:32,498 | root | INFO | 200\\n127.0.0.1 - - [13/Apr/2021:16:07:32 +0000] \"GET /swagger.json HTTP/1.0\" 200 2751 \"-\" \"Go-http-client/1.1\"\\n2021-04-13 16:09:08,813 | root | INFO | Validation Request Content-Type\\n2021-04-13 16:09:08,814 | root | INFO | Scoring Timer is set to 60.0 seconds\\n2021-04-13 16:09:08,999 | root | INFO | 200\\n127.0.0.1 - - [13/Apr/2021:16:09:08 +0000] \"POST /score HTTP/1.0\" 200 19 \"-\" \"python-requests/2.25.1\"\\n2021-04-13 16:09:54,549 | root | INFO | Validation Request Content-Type\\n2021-04-13 16:09:54,550 | root | INFO | Scoring Timer is set to 60.0 seconds\\n2021-04-13 16:09:54,740 | root | INFO | 200\\n127.0.0.1 - - [13/Apr/2021:16:09:54 +0000] \"POST /score HTTP/1.0\" 200 19 \"-\" \"python-requests/2.25.1\"\\n2021-04-13 16:09:58,097 | root | INFO | Validation Request Content-Type\\n2021-04-13 16:09:58,098 | root | INFO | Scoring Timer is set to 60.0 seconds\\n2021-04-13 16:09:58,253 | root | INFO | 200\\n127.0.0.1 - - [13/Apr/2021:16:09:58 +0000] \"POST /score HTTP/1.0\" 200 19 \"-\" \"python-requests/2.25.1\"\\n'"
      ]
     },
     "execution_count": 58,
     "metadata": {},
     "output_type": "execute_result"
    }
   ],
   "source": [
    "logs = service.get_logs()\n",
    "logs"
   ]
  },
  {
   "cell_type": "code",
   "execution_count": null,
   "metadata": {},
   "outputs": [],
   "source": [
    "service.delete()"
   ]
  }
 ],
 "metadata": {
  "kernel_info": {
   "name": "python3-azureml"
  },
  "kernelspec": {
   "display_name": "Python 3",
   "language": "python",
   "name": "python3"
  },
  "language_info": {
   "codemirror_mode": {
    "name": "ipython",
    "version": 3
   },
   "file_extension": ".py",
   "mimetype": "text/x-python",
   "name": "python",
   "nbconvert_exporter": "python",
   "pygments_lexer": "ipython3",
   "version": "3.6.9"
  },
  "nteract": {
   "version": "nteract-front-end@1.0.0"
  }
 },
 "nbformat": 4,
 "nbformat_minor": 2
}
